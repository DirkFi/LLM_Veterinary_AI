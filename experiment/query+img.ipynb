{
 "cells": [
  {
   "cell_type": "markdown",
   "metadata": {},
   "source": [
    "# Introduction\n",
    "\n",
    "In this notebook, we will experiment with how user queries are handled in our veterinary information retrieval system. Several collections have already been set up in the Chroma database, allowing us to directly perform information retrieval without additional setup. This environment enables us to test and refine the process of transforming user input into actionable queries and retrieving relevant information from our knowledge base."
   ]
  },
  {
   "cell_type": "code",
   "execution_count": 14,
   "metadata": {},
   "outputs": [],
   "source": [
    "from langchain_chroma import Chroma\n",
    "from langchain.retrievers.multi_vector import MultiVectorRetriever\n",
    "# from langchain.storage import InMemoryStore # Removed for direct Chroma inspection\n",
    "from langchain_core.documents import Document\n",
    "import os\n",
    "from langchain_experimental.open_clip import OpenCLIPEmbeddings\n",
    "\n",
    "persist_directory = '../chroma/textbook_test_Nutrition'\n",
    "#persist_directory = '../chroma/textbook_test_parasites'\n",
    "id_key = \"doc_id\"\n",
    "\n",
    "open_clip_embeddings = OpenCLIPEmbeddings(model_name=\"ViT-g-14\", checkpoint=\"laion2b_s34b_b88k\")\n",
    "# Initialize the vector store\n",
    "\n",
    "# Vectorstore for summaries (for similarity search)\n",
    "vectorstore_summaries = Chroma(\n",
    "    collection_name=\"summaries\",\n",
    "    persist_directory=persist_directory,\n",
    "    embedding_function=open_clip_embeddings\n",
    ")\n",
    "\n",
    "# Vectorstore for original texts (for retrieval)\n",
    "vectorstore_original_texts = Chroma(\n",
    "    collection_name=\"original_texts\",\n",
    "    persist_directory=persist_directory,\n",
    "    embedding_function=open_clip_embeddings\n",
    ")\n",
    "\n",
    "# Vectorstore for original images (for retrieval, if needed)\n",
    "vectorstore_original_images = Chroma(\n",
    "    collection_name=\"original_images\",\n",
    "    persist_directory=persist_directory,\n",
    "    embedding_function=open_clip_embeddings\n",
    ")"
   ]
  },
  {
   "cell_type": "markdown",
   "metadata": {},
   "source": [
    "# Handling User Input: Analysis Image\n",
    "\n",
    "Let's use a image of a under weighted cat. This cat is considerablly skinny with bones showing. \n",
    "\n",
    "  ![Skinney Cat](./skinny_cat.jpg)"
   ]
  },
  {
   "cell_type": "code",
   "execution_count": 5,
   "metadata": {},
   "outputs": [
    {
     "name": "stdout",
     "output_type": "stream",
     "text": [
      " ⏳ Processing image: ./skinny_cat.jpg\n",
      "--- Generated Image Summary ---\n",
      "The image depicts a cat standing next to a bowl, with its head resting on the edge of the bowl. The cat is positioned on a tiled floor, and its body is oriented towards the right side of the image.\n",
      "\n",
      "* **Cat**\n",
      "\t+ The cat is standing on the floor, with its head resting on the edge of the bowl.\n",
      "\t+ Its body is oriented towards the right side of the image.\n",
      "\t+ The cat appears to be thin and underweight, with a noticeable lack of muscle mass.\n",
      "\t+ Its fur is light-colored, and it has a short, smooth coat.\n",
      "\t+ The cat's ears are perked up, and its eyes are looking directly at the camera.\n",
      "* **Bowl**\n",
      "\t+ The bowl is placed on the floor, next to the cat.\n",
      "\t+ It is a light-colored, plastic bowl with a smooth, rounded shape.\n",
      "\t+ The bowl appears to be empty, with no food or water visible inside.\n",
      "* **Floor**\n",
      "\t+ The floor is made of small, square tiles that are arranged in a grid pattern.\n",
      "\t+ The tiles are a light-colored, beige color, and they appear to be made of ceramic or porcelain.\n",
      "\t+ The floor is clean and free of any debris or stains.\n",
      "\n",
      "In terms of health issues, the cat appears to be underweight and may be suffering from malnutrition or a lack of access to food. Its thin body and lack of muscle mass suggest that it may not be receiving enough food or nutrients. Additionally, the cat's eyes appear to be yellow or green, which could be a sign of feline uveitis or other eye problems. Overall, the cat appears to be in poor health and may require veterinary care to address its nutritional and health issues. \n",
      "\n",
      "There is no text present in the image.\n"
     ]
    }
   ],
   "source": [
    "query = \"What's going on with my cat? What should I do?\" \n",
    "image_path = \"./skinny_cat.jpg\"\n",
    "\n",
    "import base64\n",
    "import ollama\n",
    "\n",
    "# --- Configuration for the image ---\n",
    "# IMPORTANT: Adjust this path if your cat.jpg is in a different location\n",
    "# image_model = \"minicpm-v:8b\" # Or \"llava:7b\" or another suitable vision model you have installed via Ollama\n",
    "# image_model = \"llava:7b\" # \n",
    "image_model = \"llama3.2-vision\" # \n",
    "\n",
    "# --- 1. Generate a textual summary of the image using an LLM ---\n",
    "print(f\" ⏳ Processing image: {image_path}\")\n",
    "\n",
    "image_summary = \"Could not generate image summary.\" # Default in case of error\n",
    "if not os.path.exists(image_path):\n",
    "    print(f\"Error: Image file not found at {image_path}. Please check the path.\")\n",
    "else:\n",
    "    try:\n",
    "        # Read and encode image in base64\n",
    "        with open(image_path, 'rb') as f:\n",
    "            image_data = base64.b64encode(f.read()).decode('utf-8')\n",
    "\n",
    "        # Updated prompt for detailed image summarization\n",
    "        image_summarization_prompt = \"\"\"From a feline veterinary stand point, provide a highly detailed and objective \n",
    "                description of the image. Focus on all observable elements, actions, \n",
    "                objects, subjects, their attributes (e.g., color, size, texture), \n",
    "                their spatial relationships, and any discernible context or implied scene. \n",
    "                Also focus on all possible health issue.\n",
    "                Describe any text present in the image. This description must be exhaustive \n",
    "                and purely factual, capturing every significant visual detail to serve as a \n",
    "                comprehensive textual representation for further analysis by another AI model. \n",
    "                If the image is entirely irrelevant or contains no discernible subject, \n",
    "                state \"No relevant visual information.\".\"\"\"\n",
    "\n",
    "        # Send image to ollama for vision model processing\n",
    "        response = ollama.chat(\n",
    "            model=image_model,\n",
    "            messages=[\n",
    "                {\n",
    "                    'role': 'user',\n",
    "                    'content': image_summarization_prompt,\n",
    "                    'images': [image_data]\n",
    "                }\n",
    "            ]\n",
    "        )\n",
    "        image_summary = response['message']['content']\n",
    "        print(\"--- Generated Image Summary ---\")\n",
    "        print(image_summary)\n",
    "\n",
    "    except Exception as e:\n",
    "        print(f\"Error processing image with Ollama: {e}\")\n",
    "\n",
    "# This 'image_summary' can now be used along with your user's text query\n",
    "# for retrieval or further processing in your RAG pipeline."
   ]
  },
  {
   "cell_type": "markdown",
   "metadata": {},
   "source": [
    "# Handling User Input: Refine Query"
   ]
  },
  {
   "cell_type": "code",
   "execution_count": 6,
   "metadata": {},
   "outputs": [
    {
     "name": "stdout",
     "output_type": "stream",
     "text": [
      "Original user query: What's going on with my cat? What should I do?\n",
      "Image Summary: The image depicts a cat standing next to a bowl, with its head resting on the edge of the bowl. The cat is positioned on a tiled floor, and its body is oriented towards the right side of the image.\n",
      "\n",
      "* **Cat**\n",
      "\t+ The cat is standing on the floor, with its head resting on the edge of the bowl.\n",
      "\t+ Its body is oriented towards the right side of the image.\n",
      "\t+ The cat appears to be thin and underweight, with a noticeable lack of muscle mass.\n",
      "\t+ Its fur is light-colored, and it has a short, smooth coat.\n",
      "\t+ The cat's ears are perked up, and its eyes are looking directly at the camera.\n",
      "* **Bowl**\n",
      "\t+ The bowl is placed on the floor, next to the cat.\n",
      "\t+ It is a light-colored, plastic bowl with a smooth, rounded shape.\n",
      "\t+ The bowl appears to be empty, with no food or water visible inside.\n",
      "* **Floor**\n",
      "\t+ The floor is made of small, square tiles that are arranged in a grid pattern.\n",
      "\t+ The tiles are a light-colored, beige color, and they appear to be made of ceramic or porcelain.\n",
      "\t+ The floor is clean and free of any debris or stains.\n",
      "\n",
      "In terms of health issues, the cat appears to be underweight and may be suffering from malnutrition or a lack of access to food. Its thin body and lack of muscle mass suggest that it may not be receiving enough food or nutrients. Additionally, the cat's eyes appear to be yellow or green, which could be a sign of feline uveitis or other eye problems. Overall, the cat appears to be in poor health and may require veterinary care to address its nutritional and health issues. \n",
      "\n",
      "There is no text present in the image.\n",
      "--------------------------------------------------------------------------------\n",
      "Refined query: Here's a refined query incorporating relevant keywords, clarifying intent, and anticipating related information that might be helpful:\n",
      "\n",
      "\"Given the image of a thin, underweight cat (Felis catus) standing next to an empty, light-colored plastic bowl on a clean ceramic tile floor, I am concerned about my pet's nutritional status and potential health issues. The cat's evident lack of muscle mass, yellow or green eyes, and perked-up ears suggest possible feline uveitis or other eye problems, malnutrition, or a lack of access to food and water.\n",
      "\n",
      "Can you provide information on the following:\n",
      "\n",
      "1. Common signs of underweight cats in veterinary medicine, including potential causes and consequences?\n",
      "2. Nutritional deficiencies and associated health issues in cats, such as malnutrition syndrome?\n",
      "3. Feline uveitis symptoms, diagnosis, treatment options, and prevention strategies?\n",
      "4. Possible factors contributing to a cat's lack of access to food or water, including environmental and behavioral considerations?\n",
      "5. Recommendations for addressing nutritional and health concerns in underweight cats, including dietary changes, supplements, and veterinary care?\n",
      "\n",
      "Furthermore, I would appreciate guidance on:\n",
      "\n",
      "1. How often should a cat's weight be checked by a veterinarian, and what are the ideal body condition scores?\n",
      "2. What are some non-invasive methods to monitor a cat's nutritional status at home, such as measuring food intake or observing behavior?\n",
      "3. Are there any specific breeds or life stages that may be more prone to malnutrition or health issues in cats?\n",
      "\n",
      "I would like to receive information on these topics from credible veterinary sources and up-to-date guidelines to ensure the best possible care for my pet.\"\n"
     ]
    }
   ],
   "source": [
    "import uuid\n",
    "from langchain_ollama import ChatOllama\n",
    "from langchain_core.output_parsers import StrOutputParser\n",
    "from langchain_core.prompts import ChatPromptTemplate\n",
    "from langchain_core.runnables import RunnablePassthrough\n",
    "\n",
    "# Define the LLM for query refinement (using the same model as your RAG chain if appropriate)\n",
    "query_refinement_model = ChatOllama(model=\"llama3.2\")\n",
    "\n",
    "# Prompt for query refinement\n",
    "query_refinement_prompt = ChatPromptTemplate.from_template(\n",
    "    \"\"\"You are an intelligent assistant. Your task is to rephrase and expand the given user query \\\n",
    "into a more detailed and context-rich query that can be used to retrieve relevant information \\\n",
    "from a veterinary knowledge base. Use the provided image description to add visual context \\\n",
    "and relevant keywords to the refined query. Focus on adding relevant keywords, clarifying intent, \\\n",
    "and anticipating related information that might be helpful. The output should be a single, refined query.\n",
    "\n",
    "Original query: {original_query}\n",
    "Image description: {image_summary}\"\"\"\n",
    ")\n",
    "\n",
    "# Create the query refinement chain\n",
    "query_refinement_chain = (\n",
    "    {\n",
    "        \"original_query\": RunnablePassthrough(),\n",
    "        \"image_summary\": RunnablePassthrough()\n",
    "    }\n",
    "    | query_refinement_prompt\n",
    "    | query_refinement_model\n",
    "    | StrOutputParser()\n",
    ")# --- Demonstration of query refinement and then retrieval with scores ---\n",
    "\n",
    "\n",
    "print(f\"Original user query: {query}\")\n",
    "print(f\"Image Summary: {image_summary}\")\n",
    "\n",
    "refined_query = query_refinement_chain.invoke(\n",
    "    {\"original_query\": query, \"image_summary\": image_summary}\n",
    ")\n",
    "\n",
    "print(\"-\"*80)\n",
    "print(f\"Refined query: {refined_query}\")\n"
   ]
  },
  {
   "cell_type": "markdown",
   "metadata": {},
   "source": [
    "# Query Decomposition"
   ]
  },
  {
   "cell_type": "code",
   "execution_count": null,
   "metadata": {},
   "outputs": [
    {
     "name": "stdout",
     "output_type": "stream",
     "text": [
      "Original refined query: Here's a refined query incorporating relevant keywords, clarifying intent, and anticipating related information that might be helpful:\n",
      "\n",
      "\"Given the image of a thin, underweight cat (Felis catus) standing next to an empty, light-colored plastic bowl on a clean ceramic tile floor, I am concerned about  ....\n",
      "--------------------------------------------------------------------------------\n"
     ]
    },
    {
     "data": {
      "text/plain": [
       "'What are the common signs of underweight cats in veterinary medicine, including potential causes and consequences?'"
      ]
     },
     "execution_count": 7,
     "metadata": {},
     "output_type": "execute_result"
    }
   ],
   "source": [
    "from langchain_core.output_parsers import JsonOutputParser\n",
    "# Prompt for query decomposition\n",
    "query_decomposition_prompt = ChatPromptTemplate.from_template(\n",
    "    \"\"\"You are an intelligent assistant. Your task is to break down the given complex query \\\n",
    "into a list of simpler, focused sub-queries. Each sub-query should be a standalone question \\\n",
    "that can be used to retrieve specific information from a veterinary knowledge base. \\\n",
    "Present the sub-queries as a JSON array of strings, where each string is a sub-query. \\\n",
    "\n",
    "Complex query: {refined_query}\"\"\"\n",
    ")\n",
    "\n",
    "# Create the query decomposition chain\n",
    "query_decomposition_chain = (\n",
    "    query_decomposition_prompt  \n",
    "    | query_refinement_model    \n",
    "    | JsonOutputParser() \n",
    ")\n",
    "\n",
    "# --- Demonstration of query decomposition ---\n",
    "\n",
    "print(f\"Original refined query: {refined_query[:300]} ....\")\n",
    "\n",
    "decomposed_queries = query_decomposition_chain.invoke({\"refined_query\": refined_query})\n",
    "\n",
    "print(\"-\" * 80)\n",
    "# print(f\"Decomposed queries:\\n{decomposed_queries}\")\n",
    "\n",
    "decomposed_queries[0]"
   ]
  },
  {
   "cell_type": "markdown",
   "metadata": {},
   "source": [
    "# Contextual Retrievals "
   ]
  },
  {
   "cell_type": "code",
   "execution_count": 15,
   "metadata": {},
   "outputs": [],
   "source": [
    "class SummaryToOriginalRetriever:\n",
    "    def __init__(self, vectorstore_summaries, vectorstore_original_texts, vectorstore_original_images):\n",
    "        self.vectorstore = vectorstore_summaries\n",
    "        self.textstore = vectorstore_original_texts\n",
    "        self.imagestore = vectorstore_original_images\n",
    "\n",
    "    def retrieve(self, query, k=5):\n",
    "        # Search summaries\n",
    "        results = self.vectorstore.similarity_search_with_score(query, k=k)\n",
    "        originals = []\n",
    "        for doc, score in results:\n",
    "            doc_id = doc.metadata.get('doc_id')\n",
    "            doc_type = doc.metadata.get('type', 'text')  # You may need to adjust this\n",
    "            # Try to fetch from textstore first, then imagestore\n",
    "            if doc_type == 'image':\n",
    "                original = self.imagestore.get(doc_id)\n",
    "            else:\n",
    "                original = self.textstore.get(doc_id)\n",
    "            originals.append({\n",
    "                \"summary\": doc.page_content,\n",
    "                \"original\": original,\n",
    "                \"score\": score,\n",
    "                \"doc_id\": doc_id,\n",
    "                \"type\": doc_type\n",
    "            })\n",
    "        return originals"
   ]
  },
  {
   "cell_type": "code",
   "execution_count": 16,
   "metadata": {},
   "outputs": [
    {
     "name": "stdout",
     "output_type": "stream",
     "text": [
      "Summary: Customized diets are available to help treat and control various health issues in cats, such as alle...\n",
      "Original: {'ids': [], 'embeddings': None, 'documents': [], 'uris': None, 'included': ['metadatas', 'documents'...\n",
      "Score: 0.6065414547920227\n",
      "Doc ID: 87c1181e-cbd8-47b1-9987-ce9f1ec2844c\n",
      "Type: text\n",
      "\n",
      "Summary: Here's a concise summary:\n",
      "\n",
      "Commercial cat foods can impact your cat's condition, including haircoat,...\n",
      "Original: {'ids': [], 'embeddings': None, 'documents': [], 'uris': None, 'included': ['metadatas', 'documents'...\n",
      "Score: 0.6297948956489563\n",
      "Doc ID: 5332e381-475f-45be-ad3b-1b66e8daa67e\n",
      "Type: text\n",
      "\n",
      "Summary: Prescription diets are recommended for cats with specific medical conditions, such as heart disease,...\n",
      "Original: {'ids': [], 'embeddings': None, 'documents': [], 'uris': None, 'included': ['metadatas', 'documents'...\n",
      "Score: 0.6425747871398926\n",
      "Doc ID: 1ba7e737-d441-4c4e-8116-e7e1fa160057\n",
      "Type: text\n",
      "\n",
      "Summary: Cats may not self-regulate their diet due to taste preferences, leading some to overeat and others t...\n",
      "Original: {'ids': [], 'embeddings': None, 'documents': [], 'uris': None, 'included': ['metadatas', 'documents'...\n",
      "Score: 0.6502344608306885\n",
      "Doc ID: 6dd4e892-79e3-4c30-80e5-fbd7ac380bff\n",
      "Type: text\n",
      "\n",
      "Summary: Older cats are more sensitive to dietary and environmental changes. Gradual changes should be made w...\n",
      "Original: {'ids': [], 'embeddings': None, 'documents': [], 'uris': None, 'included': ['metadatas', 'documents'...\n",
      "Score: 0.6809556484222412\n",
      "Doc ID: 003e6825-e4b5-48a0-8af6-89b90b2be5ff\n",
      "Type: text\n",
      "\n"
     ]
    }
   ],
   "source": [
    "retriever = SummaryToOriginalRetriever(\n",
    "    vectorstore_summaries,\n",
    "    vectorstore_original_texts,\n",
    "    vectorstore_original_images\n",
    ")\n",
    "results = retriever.retrieve(decomposed_queries[0], k=5)\n",
    "\n",
    "for res in results:\n",
    "    print(f\"Summary: {res['summary'][:100]}...\")\n",
    "    print(f\"Original: {str(res['original'])[:100]}...\")\n",
    "    print(f\"Score: {res['score']}\")\n",
    "    print(f\"Doc ID: {res['doc_id']}\")\n",
    "    print(f\"Type: {res['type']}\")\n",
    "    print()"
   ]
  },
  {
   "cell_type": "code",
   "execution_count": 17,
   "metadata": {},
   "outputs": [
    {
     "name": "stdout",
     "output_type": "stream",
     "text": [
      "Summary doc IDs: ['e330983d-355b-4b67-98bc-ef44e43234d2', 'e280da7e-2142-43a7-9827-6e86ec4ee960', '055889bb-c09b-4ee2-9c88-89fbd9562d2a', '49223229-9382-4f49-9f77-33314de55e56', 'c2f08628-460c-463f-88e2-0ed7c6dad596']\n",
      "Original doc IDs: ['e330983d-355b-4b67-98bc-ef44e43234d2', 'e280da7e-2142-43a7-9827-6e86ec4ee960', '055889bb-c09b-4ee2-9c88-89fbd9562d2a', '49223229-9382-4f49-9f77-33314de55e56', 'c2f08628-460c-463f-88e2-0ed7c6dad596']\n"
     ]
    }
   ],
   "source": [
    "# For summaries\n",
    "summary_docs = vectorstore_summaries.get(limit=5, include=['metadatas'])\n",
    "print(\"Summary doc IDs:\", [m.get('doc_id') for m in summary_docs['metadatas']])\n",
    "\n",
    "# For originals\n",
    "original_docs = vectorstore_original_texts.get(limit=5, include=['metadatas'])\n",
    "print(\"Original doc IDs:\", [m.get('doc_id') for m in original_docs['metadatas']])"
   ]
  },
  {
   "cell_type": "code",
   "execution_count": 18,
   "metadata": {},
   "outputs": [
    {
     "name": "stdout",
     "output_type": "stream",
     "text": [
      "{'ids': [], 'embeddings': None, 'documents': [], 'uris': None, 'included': ['documents', 'metadatas'], 'data': None, 'metadatas': []}\n"
     ]
    }
   ],
   "source": [
    "# Try fetching a known doc_id directly\n",
    "doc_id = \"e330983d-355b-4b67-98bc-ef44e43234d2\"\n",
    "result = vectorstore_original_texts.get(ids=[doc_id], include=['documents', 'metadatas'])\n",
    "print(result)"
   ]
  },
  {
   "cell_type": "code",
   "execution_count": 19,
   "metadata": {},
   "outputs": [
    {
     "name": "stdout",
     "output_type": "stream",
     "text": [
      "{'ids': [], 'embeddings': None, 'documents': [], 'uris': None, 'included': ['documents', 'metadatas'], 'data': None, 'metadatas': []}\n"
     ]
    }
   ],
   "source": [
    "# Access the underlying Chroma collection\n",
    "collection = vectorstore_original_texts._collection  # This is a chromadb Collection object\n",
    "\n",
    "# Now use the chromadb get method\n",
    "result = collection.get(ids=[doc_id], include=['documents', 'metadatas'])\n",
    "print(result)"
   ]
  },
  {
   "cell_type": "code",
   "execution_count": 23,
   "metadata": {},
   "outputs": [
    {
     "name": "stdout",
     "output_type": "stream",
     "text": [
      "{'ids': [], 'embeddings': None, 'documents': [], 'uris': None, 'included': ['documents', 'metadatas'], 'data': None, 'metadatas': []}\n"
     ]
    }
   ],
   "source": [
    "doc_id = \"e330983d-355b-4b67-98bc-ef44e43234d2\"\n",
    "collection = vectorstore_original_texts._collection\n",
    "result = collection.get(ids=[doc_id], include=['documents', 'metadatas'])\n",
    "print(result)"
   ]
  }
 ],
 "metadata": {
  "kernelspec": {
   "display_name": "Python 3",
   "language": "python",
   "name": "python3"
  },
  "language_info": {
   "codemirror_mode": {
    "name": "ipython",
    "version": 3
   },
   "file_extension": ".py",
   "mimetype": "text/x-python",
   "name": "python",
   "nbconvert_exporter": "python",
   "pygments_lexer": "ipython3",
   "version": "3.12.1"
  }
 },
 "nbformat": 4,
 "nbformat_minor": 2
}
