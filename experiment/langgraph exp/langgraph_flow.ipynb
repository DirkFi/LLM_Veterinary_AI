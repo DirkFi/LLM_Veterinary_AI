{
 "cells": [
  {
   "cell_type": "markdown",
   "metadata": {},
   "source": [
    "# Setup LangSmith API\n",
    "Retrievals can be traced here for easier debugging."
   ]
  },
  {
   "cell_type": "code",
   "execution_count": 5,
   "metadata": {},
   "outputs": [],
   "source": [
    "import os\n",
    "os.environ['LANGCHAIN_TRACING_V2'] = 'true'\n",
    "os.environ['LANGCHAIN_ENDPOINT'] = 'https://api.smith.langchain.com'\n",
    "os.environ['LANGSMITH_API_KEY'] = ' tryurbest-2-guess-what-it_i5* '"
   ]
  },
  {
   "cell_type": "markdown",
   "metadata": {},
   "source": [
    "# Graph States"
   ]
  },
  {
   "cell_type": "code",
   "execution_count": null,
   "metadata": {},
   "outputs": [],
   "source": [
    "from typing_extensions import TypedDict\n",
    "from typing import Optional, List, Dict, Any\n",
    "\n",
    "class GraphState(TypedDict):\n",
    "    # Core user input\n",
    "    text_query: str\n",
    "    image_path: Optional[str]  # Path to uploaded image, if any\n",
    "\n",
    "    # Routing/intent\n",
    "    query_type : str # currently being divide into 'emergency'/'Q&A'/'irrelevant'.\n",
    "    \n",
    "    # Q&A path\n",
    "    refined_query: Optional[str]\n",
    "    sub_queries: Optional[List[str]]\n",
    "    current_sub_query: Optional[str]\n",
    "    retrieved_docs: Optional[List[Dict[str, Any]]]  # Results from retrieval\n",
    "    reranked_docs: Optional[List[Dict[str, Any]]]   # After rerank step\n",
    "\n",
    "    # Feedback loop\n",
    "    followup_questions: Optional[List[str]]\n",
    "    user_responses: Optional[List[str]]\n",
    "    loop_count: int\n",
    "\n",
    "    # Answer generation\n",
    "    generated_answer: Optional[str]\n",
    "    hallucination_check: Optional[bool]\n",
    "    answer_sufficient: Optional[bool]\n",
    "\n",
    "    # Emergency path\n",
    "    emergency_instructions: Optional[str]\n",
    "    emergency_retrieved_docs: Optional[List[Dict[str, Any]]]\n",
    "\n",
    "    # Web search\n",
    "    web_search_results: Optional[List[Dict[str, Any]]]\n",
    "\n",
    "    # Final output\n",
    "    final_answer: Optional[str]\n",
    "\n",
    "    # Misc/trace/debug\n",
    "    path_taken: Optional[List[str]]\n",
    "    error: Optional[str]"
   ]
  },
  {
   "cell_type": "markdown",
   "metadata": {},
   "source": [
    "<h1> Graph Nodes"
   ]
  },
  {
   "cell_type": "code",
   "execution_count": 6,
   "metadata": {},
   "outputs": [],
   "source": [
    "import base64\n",
    "import os\n",
    "import ollama"
   ]
  },
  {
   "cell_type": "markdown",
   "metadata": {},
   "source": [
    "## Query Handler Node \n",
    "\n",
    "Before LLM analyze user query and image, it will be assessed with \"Is this veterinary-related?\". This will ensure our AI tool will not be used for other purpose."
   ]
  },
  {
   "cell_type": "code",
   "execution_count": 33,
   "metadata": {},
   "outputs": [],
   "source": [
    "def query_handler(state):\n",
    "    text_query = state.get(\"text_query\", \"\")\n",
    "    image_path = state.get(\"image_path\", None)\n",
    "\n",
    "    prompt = (\n",
    "        \"You are a domain classifier for a veterinary assistant. \"\n",
    "        \"If an image is provided, understand the image from veterinary point of view.\"\n",
    "        \"A user query is the combination of text query and image(if there is). \"\n",
    "        \"Then, classify the user query into one of three categories:\\n\"\n",
    "        \"1. 'emergency' — If the user query is about a veterinary emergency (e.g., mass bleeding, serious bone fracture, unconsciousness, severe breathing difficulty, or other life-threatening situations).\\n\"\n",
    "        \"2. 'Q&A' — If the user query is about is about general veterinary questions, symptom checks, or non-emergency animal health issues.\\n\\n\"\n",
    "        \"3. 'irrelevant' — If the user query is NOT about veterinary, animal health, pet care, etc.\\n\"\n",
    "        \"Your response must be exactly one of: 'irrelevant', 'emergency', or 'Q&A'. Do not explain your answer or add anything else.\\n\\n\"\n",
    "        f\"User input: {text_query}\\n\"\n",
    "    )\n",
    "\n",
    "    messages = [{\n",
    "        \"role\": \"user\",\n",
    "        \"content\": prompt,\n",
    "        \"images\": []\n",
    "    }]\n",
    "\n",
    "    if image_path and os.path.exists(image_path):\n",
    "        messages[0][\"images\"].append(image_path)\n",
    "\n",
    "    response = ollama.chat(\n",
    "        model=\"minicpm-v:8b\",\n",
    "        messages=messages,\n",
    "        options={\"temperature\": 0.2}\n",
    "    )\n",
    "    result = response['message']['content'].strip().lower()\n",
    "    # Only allow the three valid outputs\n",
    "    if result not in ['irrelevant', 'emergency', 'q&a']:\n",
    "        result = 'irrelevant'\n",
    "    state[\"query_type\"] = result\n",
    "    return state"
   ]
  },
  {
   "cell_type": "code",
   "execution_count": 34,
   "metadata": {},
   "outputs": [
    {
     "name": "stdout",
     "output_type": "stream",
     "text": [
      "Input Query: What vaccines does my cat need?\n",
      "Updated State: {'text_query': 'What vaccines does my cat need?', 'image_path': None, 'query_type': 'q&a'}\n",
      "Query Type: q&a\n",
      "----------------------------------------\n",
      "Input Query: My cat is bleeding a lot after being hit by a car.\n",
      "Updated State: {'text_query': 'My cat is bleeding a lot after being hit by a car.', 'image_path': None, 'query_type': 'emergency'}\n",
      "Query Type: emergency\n",
      "----------------------------------------\n",
      "Input Query: How do I fix my car engine?\n",
      "Updated State: {'text_query': 'How do I fix my car engine?', 'image_path': None, 'query_type': 'irrelevant'}\n",
      "Query Type: irrelevant\n",
      "----------------------------------------\n",
      "Input Query: What should I do?\n",
      "Image Path: ../emergency_cat.jpg\n",
      "Updated State: {'text_query': 'What should I do?', 'image_path': '../emergency_cat.jpg', 'query_type': 'emergency'}\n",
      "Query Type: emergency\n",
      "----------------------------------------\n",
      "Input Query: What should I feed to this cat?\n",
      "Image Path: ../skinny_cat.jpg\n",
      "Updated State: {'text_query': 'What should I feed to this cat?', 'image_path': '../skinny_cat.jpg', 'query_type': 'q&a'}\n",
      "Query Type: q&a\n",
      "----------------------------------------\n"
     ]
    }
   ],
   "source": [
    "def test_query_handler_node(query_handler, test_query, image_path=None):\n",
    "    # Build the initial state\n",
    "    state = {\n",
    "        \"text_query\": test_query,\n",
    "        \"image_path\": image_path\n",
    "    }\n",
    "    # Call the query handler node\n",
    "    new_state = query_handler(state)\n",
    "    # Print the results\n",
    "    print(\"Input Query:\", test_query)\n",
    "    if image_path:\n",
    "        print(\"Image Path:\", image_path)\n",
    "    print(\"Updated State:\", new_state)\n",
    "    print(\"Query Type:\", new_state.get(\"query_type\", \"N/A\"))\n",
    "    print(\"-\" * 40)\n",
    "\n",
    "# --- Example usage ---\n",
    "test_query_handler_node(query_handler, \"What vaccines does my cat need?\")\n",
    "test_query_handler_node(query_handler, \"My cat is bleeding a lot after being hit by a car.\")\n",
    "test_query_handler_node(query_handler, \"How do I fix my car engine?\")\n",
    "test_query_handler_node(query_handler, \"What should I do?\", image_path=\"../emergency_cat.jpg\")\n",
    "test_query_handler_node(query_handler, \"What should I feed to this cat?\", image_path=\"../skinny_cat.jpg\")\n"
   ]
  },
  {
   "cell_type": "markdown",
   "metadata": {},
   "source": [
    "# Q&A Path"
   ]
  },
  {
   "cell_type": "markdown",
   "metadata": {},
   "source": [
    "## Query Refinement"
   ]
  },
  {
   "cell_type": "code",
   "execution_count": 83,
   "metadata": {},
   "outputs": [],
   "source": [
    "def get_image_summary(image_path):\n",
    "    prompt = \"\"\"From a feline veterinary stand point, provide a highly detailed and objective \n",
    "                description of the image. Focus on all observable elements, actions, \n",
    "                objects, subjects, their attributes (e.g., color, size, texture), \n",
    "                their spatial relationships, and any discernible context or implied scene. \n",
    "                Also focus on all possible health issue.\n",
    "                Describe any text present in the image. This description must be exhaustive \n",
    "                and purely factual, capturing every significant visual detail to serve as a \n",
    "                comprehensive textual representation for further analysis by another AI model. \n",
    "                If the image is entirely irrelevant or contains no discernible subject, \n",
    "                state \"No relevant visual information.\"\"\"\n",
    "    messages = [{\n",
    "        \"role\": \"user\",\n",
    "        \"content\": prompt,\n",
    "        \"images\": [image_path]\n",
    "    }]\n",
    "    response = ollama.chat(\n",
    "        model=\"minicpm-v:8b\",\n",
    "        messages=messages,\n",
    "        options={\"temperature\": 0.2}\n",
    "    )\n",
    "    return response['message']['content']\n",
    "\n",
    "def query_refinement_node(state):\n",
    "    text_query = state.get(\"text_query\", \"\")\n",
    "    image_path = state.get(\"image_path\", None)\n",
    "    image_summary = get_image_summary(image_path) if image_path else \"\"\n",
    "\n",
    "    if image_summary:\n",
    "        prompt = (\n",
    "            f\"You are a veterinary assistant AI. Your task is to rewrite and expand the user's query for a veterinary knowledge base search. \"\n",
    "            f\"Use the relevant image description to add context, clarify the situation, and incorporate any relevant details or possible causes. \"\n",
    "            f\"Consider add questions about possible causes, diagnostic considerations, anything that would be helpful in the situation, but combine everything into a single, comprehensive question or query.\"\n",
    "            f\"Combine all information into a single, comprehensive question or query that anticipates what a veterinarian or pet owner would want to know. \"\n",
    "            f\"Output ONLY one single, context-rich query as a paragraph, and nothing else.\\n\\n\"\n",
    "            f\"User query: {text_query}\\n\"\n",
    "            f\"Image description: {image_summary}\\n\"\n",
    "            f\"Refined query:\"\n",
    "        )\n",
    "    else:\n",
    "        prompt = (\n",
    "            f\"You are a veterinary assistant AI. Your task is to rewrite and expand the user's query for a veterinary knowledge base search. \"\n",
    "            f\"Consider add questions about possible causes, diagnostic considerations, anything that would be helpful in the situation, but combine everything into a single, comprehensive question or query. \"\n",
    "            f\"Output ONLY one single, context-rich query as a paragraph, and nothing else.\\n\\n\"\n",
    "            f\"User query: {text_query}\\n\"\n",
    "            f\"Refined query:\"\n",
    "        )\n",
    "\n",
    "    messages = [{\n",
    "        \"role\": \"user\",\n",
    "        \"content\": prompt\n",
    "    }]\n",
    "    response = ollama.chat(\n",
    "        model=\"llama3.2:3b\",  # or another strong text model\n",
    "        messages=messages,\n",
    "        options={\"temperature\": 0.3}\n",
    "    )\n",
    "    state[\"refined_query\"] = response['message']['content']\n",
    "    return state"
   ]
  },
  {
   "cell_type": "code",
   "execution_count": 84,
   "metadata": {},
   "outputs": [
    {
     "name": "stdout",
     "output_type": "stream",
     "text": [
      "Input Query: What should I feed to this cat?\n",
      "Image Path: ../skinny_cat.jpg\n",
      "Refined Query: What type and quantity of food should I provide to my adult domestic short-haired cat, taking into account its potential nutritional needs based on its appearance and living environment, while also considering the importance of fresh water availability and potential risks associated with excessive collar weight or stagnant water bowls, and what are some possible causes for not having food in the bowl at this time, such as irregular feeding schedules or underlying medical issues that may be contributing to its current state.\n",
      "----------------------------------------\n",
      "Input Query: My cat is limping, what should I do?\n",
      "Refined Query: What are the potential causes of a limping cat, and what diagnostic tests and examinations should be performed to determine the underlying reason for the limp, including consideration of musculoskeletal injuries, arthritis, neurological conditions, and other possible causes, as well as guidance on how to prepare my cat for a veterinary visit, such as providing information on any recent changes in behavior or appetite, and any notable signs or symptoms that may indicate an urgent need for attention, and what steps I can take at home to support my cat's comfort and mobility while awaiting a veterinary diagnosis and treatment plan.\n",
      "----------------------------------------\n"
     ]
    }
   ],
   "source": [
    "def test_query_refinement_node(query_refinement_node, test_query, image_path=None):\n",
    "    # Build the initial state\n",
    "    state = {\n",
    "        \"text_query\": test_query,\n",
    "        \"image_path\": image_path\n",
    "    }\n",
    "    # Call the query refinement node\n",
    "    new_state = query_refinement_node(state)\n",
    "    # Print the results\n",
    "    print(\"Input Query:\", test_query)\n",
    "    if image_path:\n",
    "        print(\"Image Path:\", image_path)\n",
    "    print(\"Refined Query:\", new_state.get(\"refined_query\", \"N/A\"))\n",
    "    print(\"-\" * 40)\n",
    "\n",
    "# --- Example usage ---\n",
    "test_query_refinement_node(query_refinement_node, \"What should I feed to this cat?\", image_path=\"../skinny_cat.jpg\")\n",
    "test_query_refinement_node(query_refinement_node, \"My cat is limping, what should I do?\")"
   ]
  }
 ],
 "metadata": {
  "kernelspec": {
   "display_name": "Python 3",
   "language": "python",
   "name": "python3"
  },
  "language_info": {
   "codemirror_mode": {
    "name": "ipython",
    "version": 3
   },
   "file_extension": ".py",
   "mimetype": "text/x-python",
   "name": "python",
   "nbconvert_exporter": "python",
   "pygments_lexer": "ipython3",
   "version": "3.12.1"
  }
 },
 "nbformat": 4,
 "nbformat_minor": 2
}
