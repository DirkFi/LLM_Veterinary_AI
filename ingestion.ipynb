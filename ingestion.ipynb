{
 "cells": [
  {
   "cell_type": "code",
   "execution_count": 1,
   "metadata": {},
   "outputs": [],
   "source": [
    "# Install dependencies if needed\n",
    "# !pip install langchain langchain-experimental langchain-chroma pillow open_clip_torch torch matplotlib unstructured pydantic\n",
    "import os\n",
    "from textbook_loading import (\n",
    "    load_book,\n",
    "    clean_and_categorize_elements,\n",
    "    summarize_elements,\n",
    "    store_in_chromadb,\n",
    "    delete_irrelevant_images\n",
    ")"
   ]
  },
  {
   "cell_type": "code",
   "execution_count": 2,
   "metadata": {},
   "outputs": [],
   "source": [
    "pdf_file = './data/shortExample_PARASITES.pdf'\n",
    "image_output_dir = './figures_Parasites'\n",
    "chroma_persist_dir = './chroma/textbook_test_parasites/'\n",
    "\n",
    "# Make sure the data directory exists\n",
    "assert os.path.exists('./data'), \"Error: './data' directory not found.\"\n",
    "assert os.path.exists(pdf_file), f\"Error: PDF file not found at {pdf_file}.\""
   ]
  },
  {
   "cell_type": "code",
   "execution_count": 3,
   "metadata": {},
   "outputs": [
    {
     "name": "stdout",
     "output_type": "stream",
     "text": [
      "📚 Loading and partitioning PDF elements...\n"
     ]
    },
    {
     "name": "stderr",
     "output_type": "stream",
     "text": [
      "The `max_size` parameter is deprecated and will be removed in v4.26. Please specify in `size['longest_edge'] instead`.\n"
     ]
    },
    {
     "name": "stdout",
     "output_type": "stream",
     "text": [
      "✅ Found 193 raw elements.\n"
     ]
    }
   ],
   "source": [
    "print(\"📚 Loading and partitioning PDF elements...\")\n",
    "raw_pdf_elements = load_book(pdf_file, image_output_dir)\n",
    "print(f\"✅ Found {len(raw_pdf_elements)} raw elements.\")"
   ]
  },
  {
   "cell_type": "code",
   "execution_count": 4,
   "metadata": {},
   "outputs": [
    {
     "name": "stdout",
     "output_type": "stream",
     "text": [
      "🧹 Cleaning and categorizing elements...\n",
      "Categorized: 40 text chunks, 1 tables, 18 images.\n"
     ]
    }
   ],
   "source": [
    "print(\"🧹 Cleaning and categorizing elements...\")\n",
    "texts, tables, images_raw, _, _, _, _, _ = clean_and_categorize_elements(raw_pdf_elements)\n",
    "print(f\"Categorized: {len(texts)} text chunks, {len(tables)} tables, {len(images_raw)} images.\")"
   ]
  },
  {
   "cell_type": "code",
   "execution_count": 5,
   "metadata": {},
   "outputs": [
    {
     "name": "stdout",
     "output_type": "stream",
     "text": [
      "📝 Summarizing text, tables, and relevant images...\n",
      "Checking image relevance with local textual context...\n",
      "Skipping irrelevant image: ./figures_Parasites/figure-1-1.jpg\n",
      "Skipping irrelevant image: ./figures_Parasites/figure-2-3.jpg\n",
      "Skipping irrelevant image: ./figures_Parasites/figure-3-4.jpg\n",
      "Skipping irrelevant image: ./figures_Parasites/figure-4-5.jpg\n",
      "Skipping irrelevant image: ./figures_Parasites/figure-6-7.jpg\n",
      "Skipping irrelevant image: ./figures_Parasites/figure-7-8.jpg\n",
      "Skipping irrelevant image: ./figures_Parasites/figure-8-10.jpg\n",
      "Skipping irrelevant image: ./figures_Parasites/figure-10-14.jpg\n",
      "Skipping irrelevant image: ./figures_Parasites/figure-11-15.jpg\n",
      "Skipping irrelevant image: ./figures_Parasites/figure-12-16.jpg\n",
      "Skipping irrelevant image: ./figures_Parasites/figure-13-17.jpg\n",
      "Skipping irrelevant image: ./figures_Parasites/figure-14-18.jpg\n",
      "Number of relevant images for summarization: 6\n",
      "📊 Summarized: 40 text summaries, 1 table summaries, 6 image summaries.\n"
     ]
    }
   ],
   "source": [
    "print(\"📝 Summarizing text, tables, and relevant images...\")\n",
    "text_summaries, table_summaries, img_summaries, image_paths, relevant_images_to_summarize = summarize_elements(\n",
    "    texts, tables, images_raw\n",
    ")\n",
    "print(f\"📊 Summarized: {len(text_summaries)} text summaries, {len(table_summaries)} table summaries, {len(img_summaries)} image summaries.\")"
   ]
  },
  {
   "cell_type": "code",
   "execution_count": 6,
   "metadata": {},
   "outputs": [
    {
     "name": "stdout",
     "output_type": "stream",
     "text": [
      "💾 Storing data into ChromaDB at ./chroma/textbook_test_parasites/...\n",
      "Using ChromaDB for summaries at: ./chroma/textbook_test_parasites/ (collection: summaries)\n",
      "Using ChromaDB for original texts at: ./chroma/textbook_test_parasites/ (collection: original_texts)\n",
      "Using ChromaDB for original images at: ./chroma/textbook_test_parasites/ (collection: original_images)\n",
      "🎉 Data ingestion complete. Retriever initialized.\n"
     ]
    }
   ],
   "source": [
    "print(f\"💾 Storing data into ChromaDB at {chroma_persist_dir}...\")\n",
    "retriever = store_in_chromadb(\n",
    "    text_summaries, texts, table_summaries, tables, img_summaries, image_paths, persist_directory=chroma_persist_dir\n",
    ")\n",
    "print(\"🎉 Data ingestion complete. Retriever initialized.\")"
   ]
  },
  {
   "cell_type": "code",
   "execution_count": 7,
   "metadata": {},
   "outputs": [
    {
     "name": "stdout",
     "output_type": "stream",
     "text": [
      "Total documents in vectorstore (summaries): 47\n",
      "Total documents in docstore (original content): 47\n",
      "Sample of docstore original content (first 1 document if available):\n",
      "Could not retrieve content for doc ID: 4bb742e9-889a-4a86-b4ce-f57f1a17e1bd\n",
      "--- End of Inspection ---\n",
      "\n"
     ]
    }
   ],
   "source": [
    "# Check total documents in the vectorstore (summaries)\n",
    "vectorstore_ids = retriever.vectorstore.get(include=[])['ids']\n",
    "print(f\"Total documents in vectorstore (summaries): {len(vectorstore_ids)}\")\n",
    "\n",
    "# Check total documents in the docstore (original content)\n",
    "docstore_keys = retriever.docstore.mget(vectorstore_ids)\n",
    "print(f\"Total documents in docstore (original content): {len(docstore_keys)}\")\n",
    "\n",
    "if len(vectorstore_ids) > 0:\n",
    "    print(\"Sample of docstore original content (first 1 document if available):\")\n",
    "    sample_doc_ids = vectorstore_ids[:1]\n",
    "    retrieved_docs = retriever.docstore.mget(sample_doc_ids)\n",
    "    for i, doc_content in enumerate(retrieved_docs):\n",
    "        if doc_content:\n",
    "            print(f\"--- Document {i+1} Content (from docstore) ---\")\n",
    "            print(str(doc_content)[:500] + \"...\")\n",
    "        else:\n",
    "            print(f\"Could not retrieve content for doc ID: {sample_doc_ids[i]}\")\n",
    "else:\n",
    "    print(\"No documents to sample from.\")\n",
    "print(\"--- End of Inspection ---\\n\")"
   ]
  },
  {
   "cell_type": "code",
   "execution_count": 8,
   "metadata": {},
   "outputs": [
    {
     "name": "stdout",
     "output_type": "stream",
     "text": [
      "🗑️ Deleting irrelevant images...\n",
      "Successfully deleted irrelevant image: ./figures_Parasites/figure-1-1.jpg\n",
      "Successfully deleted irrelevant image: ./figures_Parasites/figure-2-3.jpg\n",
      "Successfully deleted irrelevant image: ./figures_Parasites/figure-3-4.jpg\n",
      "Successfully deleted irrelevant image: ./figures_Parasites/figure-4-5.jpg\n",
      "Successfully deleted irrelevant image: ./figures_Parasites/figure-6-7.jpg\n",
      "Successfully deleted irrelevant image: ./figures_Parasites/figure-7-8.jpg\n",
      "Successfully deleted irrelevant image: ./figures_Parasites/figure-8-10.jpg\n",
      "Successfully deleted irrelevant image: ./figures_Parasites/figure-10-14.jpg\n",
      "Successfully deleted irrelevant image: ./figures_Parasites/figure-11-15.jpg\n",
      "Successfully deleted irrelevant image: ./figures_Parasites/figure-12-16.jpg\n",
      "Successfully deleted irrelevant image: ./figures_Parasites/figure-13-17.jpg\n",
      "Successfully deleted irrelevant image: ./figures_Parasites/figure-14-18.jpg\n",
      "Finished deleting images. Total deleted: 12\n"
     ]
    }
   ],
   "source": [
    "print(\"🗑️ Deleting irrelevant images...\")\n",
    "delete_irrelevant_images(images_raw, relevant_images_to_summarize)"
   ]
  },
  {
   "cell_type": "markdown",
   "metadata": {},
   "source": [
    "# Inspecting Retrieved Docs"
   ]
  },
  {
   "cell_type": "code",
   "execution_count": 9,
   "metadata": {},
   "outputs": [],
   "source": [
    "query = \"What kinds of parasites or worm does cat often have? What does they look like?\""
   ]
  },
  {
   "cell_type": "code",
   "execution_count": 10,
   "metadata": {},
   "outputs": [
    {
     "name": "stdout",
     "output_type": "stream",
     "text": [
      "---------------------------------------- Here are the retrieved original_docs with similarity scores ----------------------------------------\n",
      "\n",
      "The query: 'What kinds of parasites or worm does cat often have? What does they look like?':\n",
      "\n",
      "In total there are 10 docs retrieved.\n",
      "----------------------------------------\n",
      "🔎 Similarity Score: 0.5322\n",
      "📝 Summary/Chunk: Here is a concise summary:\n",
      "\n",
      "Whipworms are long, slender parasites (2-3 inches) that live in a cat's large intestine. They typically don't cause disease in cats and can be treated with no intervention.\n",
      "📄 Full Original Content: page_content='WHIPWORMS These are slender parasites, 2 to 3 inches (50 to 76 mm) long that live in the cecum (the first part of the large intestine). Since they are thicker at one end, they have the appearance of a whip. Whipworms are usually found inciden- tally and are not known to cause disease in cats. Treatment: No treatment is necessary.' metadata={'doc_id': '92993530-90ac-49ff-b5f5-2e55d4f82d87'}\n",
      "----------------------------------------\n",
      "🔎 Similarity Score: 0.6143\n",
      "📝 Summary/Chunk: Here's a concise summary:\n",
      "\n",
      "* Ascarids (Roundworms) are common parasites in cats, affecting up to 75% of adults.\n",
      "* Two main species infest cats: adult worms live in stomach and intestines, growing up to 5 inches long.\n",
      "* Eggs have a hard shell and can survive for months or years in soil, becoming infective after 3-4 weeks.\n",
      "📄 Full Original Content: page_content='Ascarids (Roundworms) Ascarids are the most common worm parasite in cats, occurring in a large per- centage of kittens and in 25 to 75 percent of adults. There are two common species that infest the cat. Adult ascarids live in the stomach and intestines and can grow to 5 inches (13 cm) long. The eggs are protected by a hard shell. They are extremely hardy and can live for months or years in the soil. They become infective in three to four weeks after being passed out in stool.' metadata={'doc_id': 'b6deb415-0f52-4118-b905-77d824b8b56d'}\n",
      "----------------------------------------\n",
      "🔎 Similarity Score: 0.6393\n",
      "📝 Summary/Chunk: Here's a concise summary:\n",
      "\n",
      "Tapeworms are common internal parasites in adult cats, living in the small intestines. They can range from 1 inch to several feet long and attach themselves to the intestinal wall using their scolex (head).\n",
      "📄 Full Original Content: page_content='Tapeworms Tapeworms are the most common internal parasite in adult cats. They live in the small intestines, and vary in length from less than 1 inch (25 mm) to sev- eral feet (1 foot is .3 meters). The scolex (head) of the parasite fastens itself to' metadata={'doc_id': '49f3b89c-1d5b-4a49-bca1-ff5bcfa52c63'}\n",
      "----------------------------------------\n",
      "🔎 Similarity Score: 0.6846\n",
      "📝 Summary/Chunk: Here's a concise summary:\n",
      "\n",
      "Ascarid infection in cats occurs when:\n",
      "\n",
      "* Mother cat passes eggs in stool or larvae in milk to nursing kitten\n",
      "* Larvae infect kitten if ingested before maturation\n",
      "* Cat eats infected rodents and can reinfest herself through grooming of kittens after ingesting larvae.\n",
      "📄 Full Original Content: page_content='Ascarids (Roundworms) The cat passes eggs in her stool or larvae in her milk (1). The larvae infect her nursing kitten. Eggs from the stool (2) develop into larvae (3) and are eaten by rodents (4). The cat then eats the rodents while hunting. If the larvae pass through the kitten before maturing, the mother cat can also reinfest herself while grooming her kittens.' metadata={'doc_id': '7b4d7afc-8470-4653-9502-63e7257878d9'}\n",
      "----------------------------------------\n",
      "🔎 Similarity Score: 0.6981\n",
      "📝 Summary/Chunk: Key points:\n",
      "\n",
      "* Rare parasites found in cats include heartworms, eye worms, and pinworms.\n",
      "* Eye worms are specific to the West Coast US and discussed in chapter 5 (page 192).\n",
      "* Pinworms, common in children, are not typically acquired by cats.\n",
      "📄 Full Original Content: page_content='Other Worm Parasites All the parasites in this section occur rarely in cats. Heartworms are discussed in chapter 11 (see page 326). Eye worms occur among cats living on the West Coast of the United States. They are discussed in chapter 5 (see page 192). Pinworms, which are a common cause of concern to families with children, are not acquired or spread by cats.' metadata={'doc_id': '7aff139b-79d1-45b4-973d-76a29d807b54'}\n",
      "----------------------------------------\n",
      "🔎 Similarity Score: 0.7055\n",
      "📝 Summary/Chunk: Two main species of Strongyloides parasites exist: Strongyloides cati (found in subtropical climates) and Strongyloides stercoralis (a human parasite that can infect cats).\n",
      "📄 Full Original Content: page_content='STRONGYLOIDES There are two primary species of this parasite: Strongyloides cati, which is mainly found in subtropical climates and may be seen in the southern United States; and Strongyloides stercoralis, which is actually a human parasite but can —o—' metadata={'doc_id': '67696908-7468-4da0-bffe-3ccfc85ba901'}\n",
      "----------------------------------------\n",
      "🔎 Similarity Score: 0.7152\n",
      "📝 Summary/Chunk: Adult cats can be dewormed for gastrointestinal parasites. Deworming medications are typically effective against common worms such as tapeworms, hookworms, and roundworms. Regular deworming is usually recommended every 3-6 months to prevent re-infestation. Consult a veterinarian for the best treatment option and frequency.\n",
      "📄 Full Original Content: page_content='DEWORMING ADULT CATS GASTROINTESTINAL PARASITES • 59' metadata={'doc_id': '6c079fc1-bd72-472d-9c22-a871af3dd6ba'}\n",
      "----------------------------------------\n",
      "🔎 Similarity Score: 0.7469\n",
      "📝 Summary/Chunk: Two common tapeworm species found in cats are:\n",
      "\n",
      "1. Echinococcus multilocularis\n",
      "2. Taenia saginata\n",
      "📄 Full Original Content: page_content='Tapeworms There are two com- mon tapeworm species found in cats; both are —o—' metadata={'doc_id': '02411447-96d8-4114-a845-166bc9ec04fc'}\n",
      "----------------------------------------\n",
      "🔎 Similarity Score: 0.7856\n",
      "📝 Summary/Chunk: Adult cats can benefit from deworming, which also treats giardia infection.\n",
      "📄 Full Original Content: page_content='DEWORMING ADULT CATS Also treats giardia' metadata={'doc_id': '718ad092-9bb6-4008-8f67-430869010c7f'}\n",
      "----------------------------------------\n",
      "🔎 Similarity Score: 0.7862\n",
      "📝 Summary/Chunk: Here's a concise summary:\n",
      "\n",
      "Internal parasites are common in cats, often picked up through exposure to mosquitoes and fleas indoors, hunting outdoors, or nursing from an infected mother. Signs of infection include changes in stool appearance (mucus or blood), decreased appetite, weight loss, protruding third eyelid, diarrhea, and anemia. Common parasites include ascarids, tapeworms, and hookworms. Healthy adult cats develop some immunity to parasites, but kittens and young cats are more susceptible due to a lack of resistance.\n",
      "📄 Full Original Content: page_content='GASTROINTESTINAL PARASITES Most cats will suffer from internal parasites at some time in their lives. Kittens can be infected through nursing. Cats who go outside, especially if they hunt, are also prone to picking up parasites. Even cats who live completely indoors may be exposed from a new cat joining the family or by catching a mouse that snuck into the house. Mosquitoes and fleas inside your home can also carry parasites. The ideal parasite lives in its host without causing serious health problems. However, once parasite populations reach a certain size, clinical signs of ill- ness become evident in the animal in which they live. If worms are causing a problem, there is often some change in the appearance of the cat’s stool, which may include the passage of mucus or blood. There is also a decline in the cat’s general health. You may note decreased appetite, loss of weight, sometimes protrusion of the third eyelid, diarrhea, and anemia. Ascarids (roundworms), tapeworms, and hookworms are the most common intestinal parasites in cats. Healthy adult cats develop a certain degree of immunity to parasites, which helps keep any populations down. This varies with the individual parasite, though. For example, some parasites, such as tapeworms, return time after time. It is probable that cats, like dogs, develop a resistance to certain intestinal parasites whose larvae migrate in the animal’s tissues (such as ascarids and hookworms), although this has not been proven in cats. Tapeworms have no migratory phase and thus cause little buildup of immunity. Resistance to ascarids also appears to be age-related. Kittens and young cats show less resistance and, in consequence, may experience a heavy infes- tation. This can lead to marked debility or even death. Cats over 6 months of age are less likely to show significant clinical signs.' metadata={'doc_id': 'e434dba4-5cee-4837-a94e-7224d0fffae1'}\n"
     ]
    }
   ],
   "source": [
    "print('-'*40, \"Here are the retrieved original_docs with similarity scores\",'-'*40)\n",
    "\n",
    "# Retrieve documents and similarity scores using the underlying vectorstore\n",
    "results = retriever.vectorstore.similarity_search_with_score(query, k=10)\n",
    "\n",
    "print(f\"\\nThe query: '{query}':\")\n",
    "print(f\"\\nIn total there are {len(results)} docs retrieved.\")\n",
    "for doc, score in results:\n",
    "    print('-' * 40)\n",
    "    print(f\"🔎 Similarity Score: {score:.4f}\")\n",
    "    if hasattr(doc, \"page_content\") and doc.page_content:\n",
    "        print(\"📝 Summary/Chunk:\", doc.page_content)\n",
    "        if isinstance(doc.page_content, str) and doc.page_content.lower().endswith(('.png', '.jpg', '.jpeg', '.gif')):\n",
    "            print(\"🖼️ This doc is likely an image. Image path:\", doc.page_content)\n",
    "    else:\n",
    "        print(\"❓ No page_content in this doc. Full doc object:\", doc)\n",
    "    doc_id = doc.metadata.get('doc_id') if hasattr(doc, \"metadata\") else None\n",
    "    if doc_id:\n",
    "        original = retriever.docstore.mget([doc_id])[0]\n",
    "        print(\"📄 Full Original Content:\", original)\n",
    "        if isinstance(original, str) and original.lower().endswith(('.png', '.jpg', '.jpeg', '.gif')):\n",
    "            print(\"🖼️ Original content is an image. Image path:\", original)\n",
    "    else:\n",
    "        print(\"🚫 No doc_id found in metadata for this doc.\")"
   ]
  },
  {
   "cell_type": "markdown",
   "metadata": {},
   "source": [
    "# Let's Generate A Test Query"
   ]
  },
  {
   "cell_type": "code",
   "execution_count": 11,
   "metadata": {},
   "outputs": [],
   "source": [
    "# Retrieve documents and similarity scores using the underlying vectorstore\n",
    "results = retriever.vectorstore.similarity_search_with_score(query, k=8)\n",
    "\n",
    "def build_context(docs):\n",
    "    context = \"\"\n",
    "    for doc in docs:\n",
    "        # If the doc is a Document object with an image path in page_content or metadata\n",
    "        if hasattr(doc, \"page_content\") and isinstance(doc.page_content, str) and doc.page_content.lower().endswith(('.png', '.jpg', '.jpeg', '.gif')):\n",
    "            context += f\"![Image]({doc.page_content})\\n\"\n",
    "        elif hasattr(doc, \"metadata\") and \"image_path\" in doc.metadata:\n",
    "            context += f\"![Image]({doc.metadata['image_path']})\\n\"\n",
    "        elif hasattr(doc, \"page_content\"):\n",
    "            context += doc.page_content + \"\\n\"\n",
    "        else:\n",
    "            context += str(doc) + \"\\n\"\n",
    "    return context\n",
    "\n",
    "# Extract original docs from results\n",
    "original_docs = []\n",
    "for doc, score in results:\n",
    "    doc_id = doc.metadata.get('doc_id') if hasattr(doc, \"metadata\") else None\n",
    "    if doc_id:\n",
    "        original = retriever.docstore.mget([doc_id])[0]\n",
    "        if original:\n",
    "            original_docs.append(original)\n",
    "\n",
    "context = build_context(original_docs)"
   ]
  },
  {
   "cell_type": "code",
   "execution_count": 12,
   "metadata": {},
   "outputs": [
    {
     "data": {
      "text/markdown": [
       "* Whipworms: slender parasites 2 to 3 inches (50 to 76 mm) long that live in the cecum, appear like a whip due to being thicker at one end.\n",
       "* Ascarids (Roundworms): most common worm parasite in cats, can grow up to 5 inches (13 cm) long, eggs are protected by a hard shell.\n",
       "* Tapeworms: internal parasite that live in the small intestines, vary in length from less than 1 inch (25 mm) to several feet, scolex (head) fastens itself to intestinal wall."
      ],
      "text/plain": [
       "<IPython.core.display.Markdown object>"
      ]
     },
     "metadata": {},
     "output_type": "display_data"
    }
   ],
   "source": [
    "import ollama\n",
    "from IPython.display import display, Markdown\n",
    "\n",
    "def ask_ollama(context, user_query, model=\"llama3.2:latest\"):\n",
    "    prompt = f\"\"\"You are a helpful assistant for users. Using only the text, tables, and images provided in the context below, answer the user's question in markdown.\n",
    "        If you include images, use only those explicitly provided in the context, and include them using markdown image syntax with the correct path from the context. Do not use or invent any images that are not present in the context.\n",
    "\n",
    "        Context:\n",
    "        {context}\n",
    "\n",
    "        User question: {user_query}\n",
    "\n",
    "        Answer in markdown:\"\"\"\n",
    "    response = ollama.chat(model=model, messages=[{\"role\": \"user\", \"content\": prompt}])\n",
    "    return response['message']['content']\n",
    "\n",
    "def render_markdown_with_images(markdown_text):\n",
    "    display(Markdown(markdown_text))\n",
    "\n",
    "# Use the context and user query\n",
    "markdown_answer = ask_ollama(context, query)\n",
    "render_markdown_with_images(markdown_answer)"
   ]
  },
  {
   "cell_type": "code",
   "execution_count": 13,
   "metadata": {},
   "outputs": [
    {
     "data": {
      "text/plain": [
       "0"
      ]
     },
     "execution_count": 13,
     "metadata": {},
     "output_type": "execute_result"
    }
   ],
   "source": [
    "import os\n",
    "\n",
    "# Play the system sound (replace with any .wav or .mp3 file you have)\n",
    "os.system('afplay /System/Library/Sounds/Glass.aiff')"
   ]
  }
 ],
 "metadata": {
  "kernelspec": {
   "display_name": "Python 3",
   "language": "python",
   "name": "python3"
  },
  "language_info": {
   "codemirror_mode": {
    "name": "ipython",
    "version": 3
   },
   "file_extension": ".py",
   "mimetype": "text/x-python",
   "name": "python",
   "nbconvert_exporter": "python",
   "pygments_lexer": "ipython3",
   "version": "3.12.1"
  }
 },
 "nbformat": 4,
 "nbformat_minor": 2
}
