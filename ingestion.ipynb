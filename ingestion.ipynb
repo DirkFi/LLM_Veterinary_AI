{
 "cells": [
  {
   "cell_type": "code",
   "execution_count": 1,
   "metadata": {},
   "outputs": [],
   "source": [
    "# Install dependencies if needed\n",
    "# !pip install langchain langchain-experimental langchain-chroma pillow open_clip_torch torch matplotlib unstructured pydantic\n",
    "import os\n",
    "from textbook_loading import (\n",
    "    load_book,\n",
    "    clean_and_categorize_elements,\n",
    "    summarize_elements,\n",
    "    store_in_chromadb,\n",
    "    delete_irrelevant_images,\n",
    ")\n"
   ]
  },
  {
   "cell_type": "code",
   "execution_count": 2,
   "metadata": {},
   "outputs": [],
   "source": [
    "pdf_file = './data/MediumExample_Ears_17Pgs.pdf'\n",
    "image_output_dir = './figures/Ears'\n",
    "chroma_persist_dir = './chroma/Ears/'\n",
    "\n",
    "# Make sure the data directory exists\n",
    "assert os.path.exists('./data'), \"Error: './data' directory not found.\"\n",
    "assert os.path.exists(pdf_file), f\"Error: PDF file not found at {pdf_file}.\""
   ]
  },
  {
   "cell_type": "code",
   "execution_count": 3,
   "metadata": {},
   "outputs": [
    {
     "name": "stdout",
     "output_type": "stream",
     "text": [
      "📝 Unstructuring textbooks, filtering junks, semanic chunking...\n"
     ]
    },
    {
     "name": "stderr",
     "output_type": "stream",
     "text": [
      "The `max_size` parameter is deprecated and will be removed in v4.26. Please specify in `size['longest_edge'] instead`.\n"
     ]
    },
    {
     "name": "stdout",
     "output_type": "stream",
     "text": [
      "🎉 1.process_pdf_with_semantic_chunking complete.\n"
     ]
    }
   ],
   "source": [
    "print(\"📝 Unstructuring textbooks, filtering junks, semanic chunking...\")\n",
    "raw_pdf_elements = load_book(pdf_file, image_output_dir)\n",
    "print(\"🎉 1.process_pdf_with_semantic_chunking complete.\")\n"
   ]
  },
  {
   "cell_type": "code",
   "execution_count": 4,
   "metadata": {},
   "outputs": [],
   "source": [
    "# Clean and categorize\n",
    "texts, tables, images_raw, headers_raw, titles_raw, footers_raw, figure_captions_raw, list_items_raw = clean_and_categorize_elements(raw_pdf_elements, window_size=2, min_meaningful_text_length=75)\n"
   ]
  },
  {
   "cell_type": "code",
   "execution_count": 5,
   "metadata": {},
   "outputs": [
    {
     "name": "stdout",
     "output_type": "stream",
     "text": [
      "Texts and Tables Summary Done!\n",
      "Checking image relevance with local textual context...\n",
      "Skipping decorative image: ./figures/Ears/figure-1-1.jpg\n",
      "Skipping decorative image: ./figures/Ears/figure-2-3.jpg\n",
      "Skipping decorative image: ./figures/Ears/figure-3-5.jpg\n",
      "Skipping decorative image: ./figures/Ears/figure-6-10.jpg\n",
      "Skipping decorative image: ./figures/Ears/figure-8-12.jpg\n",
      "Skipping decorative image: ./figures/Ears/figure-9-14.jpg\n",
      "Skipping decorative image: ./figures/Ears/figure-10-15.jpg\n",
      "Skipping decorative image: ./figures/Ears/figure-11-17.jpg\n",
      "Skipping decorative image: ./figures/Ears/figure-12-18.jpg\n",
      "Skipping decorative image: ./figures/Ears/figure-13-19.jpg\n",
      "Skipping decorative image: ./figures/Ears/figure-14-20.jpg\n",
      "Skipping decorative image: ./figures/Ears/figure-15-21.jpg\n",
      "Skipping decorative image: ./figures/Ears/figure-16-22.jpg\n",
      "Number of relevant images: 9\n",
      "Generating LLM summaries for relevant images...\n"
     ]
    }
   ],
   "source": [
    "# Summarize, store, etc.\n",
    "text_summaries, table_summaries, image_paths, relevant_images_to_summarize, image_summaries = summarize_elements(\n",
    "    texts, tables, images_raw\n",
    ")"
   ]
  },
  {
   "cell_type": "code",
   "execution_count": 6,
   "metadata": {},
   "outputs": [],
   "source": [
    "retriever = store_in_chromadb(\n",
    "    text_summaries, texts, table_summaries, tables, image_paths,\n",
    "    relevant_images_to_summarize, image_summaries,\n",
    "    persist_directory=chroma_persist_dir\n",
    ")"
   ]
  },
  {
   "cell_type": "code",
   "execution_count": null,
   "metadata": {},
   "outputs": [],
   "source": [
    "delete_irrelevant_images(images_raw, relevant_images_to_summarize)"
   ]
  },
  {
   "cell_type": "code",
   "execution_count": 8,
   "metadata": {},
   "outputs": [
    {
     "data": {
      "text/plain": [
       "0"
      ]
     },
     "execution_count": 8,
     "metadata": {},
     "output_type": "execute_result"
    }
   ],
   "source": [
    "# System sound, when done\n",
    "sound_file = \"/System/Library/Sounds/Glass.aiff\"\n",
    "os.system(f\"afplay '{sound_file}'\")"
   ]
  },
  {
   "cell_type": "markdown",
   "metadata": {},
   "source": [
    "# Inspecting Retrieved Docs"
   ]
  },
  {
   "cell_type": "code",
   "execution_count": 27,
   "metadata": {},
   "outputs": [],
   "source": [
    "query = \"what do to if my cat got ear mite?\"\n",
    "results = retriever.retrieve_multi_modal(query, k=5)\n"
   ]
  },
  {
   "cell_type": "code",
   "execution_count": 28,
   "metadata": {},
   "outputs": [
    {
     "data": {
      "text/html": [
       "<img src=\"./figures/Ears/figure-11-16.jpg\" width=\"100\" style=\"margin:2px; border:1px solid #ccc;\"> <img src=\"./figures/Ears/figure-9-13.jpg\" width=\"100\" style=\"margin:2px; border:1px solid #ccc;\"> <img src=\"./figures/Ears/figure-7-11.jpg\" width=\"100\" style=\"margin:2px; border:1px solid #ccc;\"> <img src=\"./figures/Ears/figure-3-4.jpg\" width=\"100\" style=\"margin:2px; border:1px solid #ccc;\"> <img src=\"./figures/Ears/figure-2-2.jpg\" width=\"100\" style=\"margin:2px; border:1px solid #ccc;\">"
      ],
      "text/plain": [
       "<IPython.core.display.HTML object>"
      ]
     },
     "metadata": {},
     "output_type": "display_data"
    },
    {
     "name": "stdout",
     "output_type": "stream",
     "text": [
      "---------------------------------------- Retrieved Text Chunks (first 300 chars) ----------------------------------------\n",
      "Otitis Interna Otitis interna is an inner ear infection—often one that started out as a middle ear infection. Suspect otitis interna if your cat vomits, staggers, or falls toward the affected side, circles toward that side, or shows rhythmic jerking move- ments of her eyeballs. These are signs of ve...\n",
      "--------------------\n",
      "Structure of the Ears 206 • CAT OWNER’S HOME VETERINARY HANDBOOK Your cat has an ear problem if you notice ear scratching, repeated head shaking, a bad odor emanating from the ear, or large amounts of waxy dis- charge or pus draining. In a younger cat, the most likely cause is ear mites, but other d...\n",
      "--------------------\n",
      "BITES AND LACERATIONS Cats give and receive painful bites and scratches that are prone to severe infec- tion. The pinna is a frequent site for such injuries. Some occur during mating.\n",
      "--------------------\n",
      "EAR MITES Ear mite infection is one of the most common health problems seen in cats. Ear mites (Otodectes cynotis) are tiny insects that live in the ear canal and feed by piercing the skin. Mites are prolific. Kittens can be infected by their moth- ers while still in the nest. Suspect ear mites when...\n",
      "--------------------\n",
      "Otitis Media This condition, a middle ear infection, is not common in cats. Most cases result from an external ear infection that ruptures the eardrum. Tonsillitis and mouth and sinus infections can travel to the middle ear through the Eustachian tube, a passage that connects the middle ear to the b...\n",
      "--------------------\n"
     ]
    }
   ],
   "source": [
    "from IPython.display import display, HTML\n",
    "import os\n",
    "\n",
    "# 1. Display all images together as thumbnails\n",
    "image_paths = set()\n",
    "for res in results:\n",
    "    if res[\"modality\"] == \"image\" and os.path.exists(res[\"summary\"]):\n",
    "        image_paths.add(res[\"summary\"])\n",
    "    elif res[\"modality\"] == \"image_summary\":\n",
    "        img_path = res[\"original_metadata\"].get(\"image_path\")\n",
    "        if img_path and os.path.exists(img_path):\n",
    "            image_paths.add(img_path)\n",
    "\n",
    "if image_paths:\n",
    "    html_imgs = \" \".join(\n",
    "        f'<img src=\"{img}\" width=\"100\" style=\"margin:2px; border:1px solid #ccc;\">' for img in image_paths\n",
    "    )\n",
    "    display(HTML(html_imgs))\n",
    "else:\n",
    "    print(\"No images found in results.\")\n",
    "\n",
    "# 2. Display original text for each text result\n",
    "print('-'*40, \"Retrieved Text Chunks (first 300 chars)\", '-'*40)\n",
    "for res in results:\n",
    "    if res[\"modality\"] == \"text\":\n",
    "        doc_id = res[\"original_metadata\"].get(\"doc_id\")\n",
    "        original_text = None\n",
    "        if doc_id and hasattr(retriever, \"docstore\"):\n",
    "            doc = retriever.docstore._collection.get(ids=[doc_id], include=[\"documents\"])\n",
    "            if doc and doc.get(\"documents\") and doc[\"documents\"][0]:\n",
    "                original_text = doc[\"documents\"][0]\n",
    "        if not original_text:\n",
    "            original_text = res[\"summary\"]\n",
    "        text_display = original_text[:300] + (\"...\" if len(original_text) > 300 else \"\")\n",
    "        print(text_display)\n",
    "        print('-'*20)"
   ]
  }
 ],
 "metadata": {
  "kernelspec": {
   "display_name": "Python 3",
   "language": "python",
   "name": "python3"
  },
  "language_info": {
   "codemirror_mode": {
    "name": "ipython",
    "version": 3
   },
   "file_extension": ".py",
   "mimetype": "text/x-python",
   "name": "python",
   "nbconvert_exporter": "python",
   "pygments_lexer": "ipython3",
   "version": "3.12.1"
  }
 },
 "nbformat": 4,
 "nbformat_minor": 2
}
