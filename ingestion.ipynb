{
 "cells": [
  {
   "cell_type": "code",
   "execution_count": 1,
   "metadata": {},
   "outputs": [],
   "source": [
    "# Install dependencies if needed\n",
    "# !pip install langchain langchain-experimental langchain-chroma pillow open_clip_torch torch matplotlib unstructured pydantic\n",
    "import os\n",
    "from textbook_loading import (\n",
    "    load_book,\n",
    "    clean_and_categorize_elements,\n",
    "    summarize_elements,\n",
    "    store_in_chromadb,\n",
    "    delete_irrelevant_images\n",
    ")"
   ]
  },
  {
   "cell_type": "code",
   "execution_count": 2,
   "metadata": {},
   "outputs": [],
   "source": [
    "pdf_file = './data/shortExample2_Nutrition_20Pgs.pdf'\n",
    "image_output_dir = './figures'\n",
    "chroma_persist_dir = './chroma/textbook_test_Nutrition/'\n",
    "\n",
    "# Make sure the data directory exists\n",
    "assert os.path.exists('./data'), \"Error: './data' directory not found.\"\n",
    "assert os.path.exists(pdf_file), f\"Error: PDF file not found at {pdf_file}.\""
   ]
  },
  {
   "cell_type": "code",
   "execution_count": 3,
   "metadata": {},
   "outputs": [
    {
     "name": "stdout",
     "output_type": "stream",
     "text": [
      "📚 Loading and partitioning PDF elements...\n"
     ]
    },
    {
     "name": "stderr",
     "output_type": "stream",
     "text": [
      "The `max_size` parameter is deprecated and will be removed in v4.26. Please specify in `size['longest_edge'] instead`.\n"
     ]
    },
    {
     "name": "stdout",
     "output_type": "stream",
     "text": [
      "✅ Found 316 raw elements.\n"
     ]
    }
   ],
   "source": [
    "print(\"📚 Loading and partitioning PDF elements...\")\n",
    "raw_pdf_elements = load_book(pdf_file, image_output_dir)\n",
    "print(f\"✅ Found {len(raw_pdf_elements)} raw elements.\")"
   ]
  },
  {
   "cell_type": "code",
   "execution_count": 4,
   "metadata": {},
   "outputs": [
    {
     "name": "stdout",
     "output_type": "stream",
     "text": [
      "🧹 Cleaning and categorizing elements...\n",
      "Categorized: 53 text chunks, 4 tables, 21 images.\n"
     ]
    }
   ],
   "source": [
    "print(\"🧹 Cleaning and categorizing elements...\")\n",
    "texts, tables, images_raw, _, _, _, _, _ = clean_and_categorize_elements(raw_pdf_elements)\n",
    "print(f\"Categorized: {len(texts)} text chunks, {len(tables)} tables, {len(images_raw)} images.\")"
   ]
  },
  {
   "cell_type": "code",
   "execution_count": 5,
   "metadata": {},
   "outputs": [
    {
     "name": "stdout",
     "output_type": "stream",
     "text": [
      "📝 Summarizing text, tables, and relevant images...\n",
      "Checking image relevance with local textual context...\n",
      "Skipping irrelevant image: /Users/mas/Desktop/LLM_Veterinary_AI/figures/figure-1-1.jpg\n",
      "Skipping irrelevant image: /Users/mas/Desktop/LLM_Veterinary_AI/figures/figure-4-2.jpg\n",
      "Skipping irrelevant image: /Users/mas/Desktop/LLM_Veterinary_AI/figures/figure-5-3.jpg\n",
      "Skipping irrelevant image: /Users/mas/Desktop/LLM_Veterinary_AI/figures/figure-6-4.jpg\n",
      "Skipping irrelevant image: /Users/mas/Desktop/LLM_Veterinary_AI/figures/figure-7-5.jpg\n",
      "Skipping irrelevant image: /Users/mas/Desktop/LLM_Veterinary_AI/figures/figure-8-6.jpg\n",
      "Skipping irrelevant image: /Users/mas/Desktop/LLM_Veterinary_AI/figures/figure-9-7.jpg\n",
      "Skipping irrelevant image: /Users/mas/Desktop/LLM_Veterinary_AI/figures/figure-10-8.jpg\n",
      "Skipping irrelevant image: /Users/mas/Desktop/LLM_Veterinary_AI/figures/figure-11-9.jpg\n",
      "Skipping irrelevant image: /Users/mas/Desktop/LLM_Veterinary_AI/figures/figure-12-10.jpg\n",
      "Skipping irrelevant image: /Users/mas/Desktop/LLM_Veterinary_AI/figures/figure-13-11.jpg\n",
      "Skipping irrelevant image: /Users/mas/Desktop/LLM_Veterinary_AI/figures/figure-14-13.jpg\n",
      "Skipping irrelevant image: /Users/mas/Desktop/LLM_Veterinary_AI/figures/figure-16-15.jpg\n",
      "Skipping irrelevant image: /Users/mas/Desktop/LLM_Veterinary_AI/figures/figure-17-16.jpg\n",
      "Skipping irrelevant image: /Users/mas/Desktop/LLM_Veterinary_AI/figures/figure-18-17.jpg\n",
      "Skipping irrelevant image: /Users/mas/Desktop/LLM_Veterinary_AI/figures/figure-19-19.jpg\n",
      "Skipping irrelevant image: /Users/mas/Desktop/LLM_Veterinary_AI/figures/figure-21-21.jpg\n",
      "Number of relevant images for summarization: 4\n",
      "📊 Summarized: 53 text summaries, 4 table summaries, 4 image summaries.\n"
     ]
    }
   ],
   "source": [
    "print(\"📝 Summarizing text, tables, and relevant images...\")\n",
    "text_summaries, table_summaries, img_summaries, image_paths, relevant_images_to_summarize = summarize_elements(\n",
    "    texts, tables, images_raw\n",
    ")\n",
    "print(f\"📊 Summarized: {len(text_summaries)} text summaries, {len(table_summaries)} table summaries, {len(img_summaries)} image summaries.\")"
   ]
  },
  {
   "cell_type": "code",
   "execution_count": 6,
   "metadata": {},
   "outputs": [
    {
     "name": "stdout",
     "output_type": "stream",
     "text": [
      "💾 Storing data into ChromaDB at ./chroma/textbook_test_Nutrition/...\n",
      "Using ChromaDB for summaries at: ./chroma/textbook_test_Nutrition/ (collection: summaries)\n",
      "Using ChromaDB for original texts at: ./chroma/textbook_test_Nutrition/ (collection: original_texts)\n",
      "Using ChromaDB for original images at: ./chroma/textbook_test_Nutrition/ (collection: original_images)\n",
      "🎉 Data ingestion complete. Retriever initialized.\n"
     ]
    }
   ],
   "source": [
    "print(f\"💾 Storing data into ChromaDB at {chroma_persist_dir}...\")\n",
    "retriever = store_in_chromadb(\n",
    "    text_summaries, texts, table_summaries, tables, img_summaries, image_paths, persist_directory=chroma_persist_dir\n",
    ")\n",
    "print(\"🎉 Data ingestion complete. Retriever initialized.\")"
   ]
  },
  {
   "cell_type": "code",
   "execution_count": 7,
   "metadata": {},
   "outputs": [
    {
     "name": "stdout",
     "output_type": "stream",
     "text": [
      "Total documents in vectorstore (summaries): 61\n",
      "Total documents in docstore (original content): 61\n",
      "Sample of docstore original content (first 1 document if available):\n",
      "Could not retrieve content for doc ID: d6814a70-870d-40c0-ab58-b3b5f8126b2c\n",
      "--- End of Inspection ---\n",
      "\n"
     ]
    }
   ],
   "source": [
    "# Check total documents in the vectorstore (summaries)\n",
    "vectorstore_ids = retriever.vectorstore.get(include=[])['ids']\n",
    "print(f\"Total documents in vectorstore (summaries): {len(vectorstore_ids)}\")\n",
    "\n",
    "# Check total documents in the docstore (original content)\n",
    "docstore_keys = retriever.docstore.mget(vectorstore_ids)\n",
    "print(f\"Total documents in docstore (original content): {len(docstore_keys)}\")\n",
    "\n",
    "if len(vectorstore_ids) > 0:\n",
    "    print(\"Sample of docstore original content (first 1 document if available):\")\n",
    "    sample_doc_ids = vectorstore_ids[:1]\n",
    "    retrieved_docs = retriever.docstore.mget(sample_doc_ids)\n",
    "    for i, doc_content in enumerate(retrieved_docs):\n",
    "        if doc_content:\n",
    "            print(f\"--- Document {i+1} Content (from docstore) ---\")\n",
    "            print(str(doc_content)[:500] + \"...\")\n",
    "        else:\n",
    "            print(f\"Could not retrieve content for doc ID: {sample_doc_ids[i]}\")\n",
    "else:\n",
    "    print(\"No documents to sample from.\")\n",
    "print(\"--- End of Inspection ---\\n\")"
   ]
  },
  {
   "cell_type": "code",
   "execution_count": 8,
   "metadata": {},
   "outputs": [
    {
     "name": "stdout",
     "output_type": "stream",
     "text": [
      "🗑️ Deleting irrelevant images...\n",
      "Successfully deleted irrelevant image: /Users/mas/Desktop/LLM_Veterinary_AI/figures/figure-1-1.jpg\n",
      "Successfully deleted irrelevant image: /Users/mas/Desktop/LLM_Veterinary_AI/figures/figure-4-2.jpg\n",
      "Successfully deleted irrelevant image: /Users/mas/Desktop/LLM_Veterinary_AI/figures/figure-5-3.jpg\n",
      "Successfully deleted irrelevant image: /Users/mas/Desktop/LLM_Veterinary_AI/figures/figure-6-4.jpg\n",
      "Successfully deleted irrelevant image: /Users/mas/Desktop/LLM_Veterinary_AI/figures/figure-7-5.jpg\n",
      "Successfully deleted irrelevant image: /Users/mas/Desktop/LLM_Veterinary_AI/figures/figure-8-6.jpg\n",
      "Successfully deleted irrelevant image: /Users/mas/Desktop/LLM_Veterinary_AI/figures/figure-9-7.jpg\n",
      "Successfully deleted irrelevant image: /Users/mas/Desktop/LLM_Veterinary_AI/figures/figure-10-8.jpg\n",
      "Successfully deleted irrelevant image: /Users/mas/Desktop/LLM_Veterinary_AI/figures/figure-11-9.jpg\n",
      "Successfully deleted irrelevant image: /Users/mas/Desktop/LLM_Veterinary_AI/figures/figure-12-10.jpg\n",
      "Successfully deleted irrelevant image: /Users/mas/Desktop/LLM_Veterinary_AI/figures/figure-13-11.jpg\n",
      "Successfully deleted irrelevant image: /Users/mas/Desktop/LLM_Veterinary_AI/figures/figure-14-13.jpg\n",
      "Successfully deleted irrelevant image: /Users/mas/Desktop/LLM_Veterinary_AI/figures/figure-16-15.jpg\n",
      "Successfully deleted irrelevant image: /Users/mas/Desktop/LLM_Veterinary_AI/figures/figure-17-16.jpg\n",
      "Successfully deleted irrelevant image: /Users/mas/Desktop/LLM_Veterinary_AI/figures/figure-18-17.jpg\n",
      "Successfully deleted irrelevant image: /Users/mas/Desktop/LLM_Veterinary_AI/figures/figure-19-19.jpg\n",
      "Successfully deleted irrelevant image: /Users/mas/Desktop/LLM_Veterinary_AI/figures/figure-21-21.jpg\n",
      "Finished deleting images. Total deleted: 17\n"
     ]
    }
   ],
   "source": [
    "print(\"🗑️ Deleting irrelevant images...\")\n",
    "delete_irrelevant_images(images_raw, relevant_images_to_summarize)"
   ]
  },
  {
   "cell_type": "markdown",
   "metadata": {},
   "source": [
    "# Inspecting Retrieved Docs"
   ]
  },
  {
   "cell_type": "code",
   "execution_count": 9,
   "metadata": {},
   "outputs": [
    {
     "name": "stdout",
     "output_type": "stream",
     "text": [
      "---------------------------------------- Here are the retrieved original_docs with similarity scores ----------------------------------------\n",
      "\n",
      "The query: 'My cat's ear has dirty and greasy thing, what should I do?':\n",
      "\n",
      "In total there are 8 docs retrieved.\n",
      "----------------------------------------\n",
      "🔎 Similarity Score: 0.8479\n",
      "📝 Summary/Chunk: Cats may need to change their diet due to health issues, which can be done to help them adjust to the new food more easily.\n",
      "📄 Full Original Content: page_content='Switching Diets It may become necessary to adjust a cat’s diet and switch to a new food because of a health problem. This is yet another reason to get your cat accustomed to —o—' metadata={'doc_id': '42bfdbea-b1a6-4ea3-aead-0e5c7ce6218b'}\n",
      "----------------------------------------\n",
      "🔎 Similarity Score: 0.8487\n",
      "📝 Summary/Chunk: Here's a concise summary:\n",
      "\n",
      "Cats have limited taste buds (9,000) and can only detect basic tastes of sour, bitter, and salty. However, their sense of smell is superior and highly developed, which makes up for their poor taste. Heating food or using warm prey-like food may entice cats with its aroma.\n",
      "📄 Full Original Content: page_content='NUTRITION Compared to humans, the cat’s sense of taste is far less refined. We have 9,000 taste buds, while cats have only 473. These special mushroom-shaped papillae are present at the tip and sides of the tongue. A set of cup-shaped papillae are located at the back of the tongue. Cats are responsive to the basic tastes of sour, bitter, and salty. Recent stud- ies have shown that cats cannot taste sweet things at all. As strict carnivores, there really is no need for them to respond to sweet tastes. The rough, prickly feline tongue is covered with tiny hooklike barbs. Cats use their tongues to remove feathers or fur from their prey and to lick meat from the bones. They also use them to groom. A cat’s tongue mimics a spoon when drinking, enabling her to lap up liquids in quantity, swallowing after every third or fourth lap. Cats make up for their poor sense of taste with a superior sense of smell. In fact, both senses are registered in the same area of the feline brain. That is why heating food to intensify the aroma may tempt a cat who is not eating well. Food straight from the refrigerator doesn’t appeal to cats, whose wild ancestors ate freshly killed prey while it was still warm.' metadata={'doc_id': 'e330983d-355b-4b67-98bc-ef44e43234d2'}\n",
      "----------------------------------------\n",
      "🔎 Similarity Score: 0.8851\n",
      "📝 Summary/Chunk: Here is a concise summary:\n",
      "\n",
      "Generic cat foods are less expensive than popular brands but often lack specific nutritional balance claims. They contain varying ingredients depending on available nutrient sources and may have lower digestibility due to added indigestible fibers.\n",
      "📄 Full Original Content: page_content='Generic and Private-Label Brands Generic cat foods do not have a brand name. Private-label pet foods carry the names of the stores in which they are sold. These foods provide a list of ingredients as required by law, but most cannot make claims that the food is nutritionally balanced or complete. Generic products are less expensive than popular and premium brands, because the food is manufactured using low-cost ingredients. Furthermore, the ingredients vary from package lot to package lot, depending on which nutrient sources were available at the time the food was manufactured. In tests, many of the generic products were found to have lower digestibility, due to the addition of indigestible fibers.' metadata={'doc_id': 'fcef2504-46aa-43a2-84f7-11ae4cb77a53'}\n",
      "----------------------------------------\n",
      "🔎 Similarity Score: 0.8875\n",
      "📝 Summary/Chunk: Cats may not self-regulate their diet due to taste preferences, leading some to overeat and others to starve if given options. Providing a varied diet is not sufficient for ensuring nutritional balance; instead, owners should focus on choosing high-quality food that meets the cat's specific needs.\n",
      "📄 Full Original Content: page_content='FOOD PREFERENCES Many owners assume a cat will naturally eat a nutritionally balanced diet if given a variety of foods from which to choose, and will stop eating when she has had enough. This is incorrect. Many cats will starve rather than eat a food they find unappetizing. And many cats will eat out of boredom or enthusiasm until they are dangerously obese. —o—' metadata={'doc_id': '6dd4e892-79e3-4c30-80e5-fbd7ac380bff'}\n",
      "----------------------------------------\n",
      "🔎 Similarity Score: 0.8919\n",
      "📝 Summary/Chunk: Older cats are more sensitive to dietary and environmental changes. Gradual changes should be made when switching diets or changing drinking water to minimize stress.\n",
      "📄 Full Original Content: page_content='WY 508 • CAT OWNER’S HOME VETERINARY HANDBOOK And remember that older cats are less tolerant of changes in diet, and even of changes in drinking water. When changes are necessary, make them gradu- ally (see Switching Diets, page 509).' metadata={'doc_id': '003e6825-e4b5-48a0-8af6-89b90b2be5ff'}\n",
      "----------------------------------------\n",
      "🔎 Similarity Score: 0.8950\n",
      "📝 Summary/Chunk: There are three main types of cat food: dry, semimoist, and canned. For comparison, they should be evaluated on a dry matter basis. Canned foods typically have more nutritional value due to higher moisture content when water is factored out.\n",
      "📄 Full Original Content: page_content='TYPES OF CAT FOOD There are three types of cat food: dry, semimoist, and canned. To make mean- ingful comparisons, all must be compared on a dry matter basis (see page 501). When the water content is factored out and the products compared this way, you’ll find that most canned foods contain more all-important —o—' metadata={'doc_id': 'c56fa4a0-7f2e-4e46-a6cb-3994ebd16ee3'}\n",
      "----------------------------------------\n",
      "🔎 Similarity Score: 0.8991\n",
      "📝 Summary/Chunk: Cats require specific vitamins and minerals due to their unique biology. Key points include:\n",
      "\n",
      "* Cats need added pyridoxine (B6) and cobalamin (B12), especially when ill or not eating well.\n",
      "* They cannot convert beta-carotene to retinol, requiring dietary vitamin A instead.\n",
      "* Vitamin D is essential for cats as they cannot synthesize it like humans do.\n",
      "📄 Full Original Content: page_content='VITAMINS AND MINERALS Cats cannot convert tryptophan to niacin efficiently and may need added pyridoxine (B6) and cobalamin (B12), especially when they are ill or not eat- ing well. Cats are unable to convert beta-carotene to retinol, which is the active form of vitamin A. They must get vitamin A in the diet—another plus for feeding animal tissues. Vitamin D (calcitriol) is another essential dietary com- ponent for cats because they cannot synthesize it (humans synthesize vitamin —o—' metadata={'doc_id': 'badc1dd4-2d34-47af-a98a-3ee654000419'}\n",
      "----------------------------------------\n",
      "🔎 Similarity Score: 0.9111\n",
      "📝 Summary/Chunk: Here is a concise summary:\n",
      "\n",
      "Key points about dry cat food:\n",
      "\n",
      "* Dry foods contain carbohydrates from grains or potatoes, which can contribute to obesity.\n",
      "* They are less expensive and can be left out at all times, but may reduce water intake if fed exclusively.\n",
      "* Abrasive texture helps clean teeth, but may cause oral resorptive lesions.\n",
      "* Palatability can be lower than other types, but most cats accept them well.\n",
      "* High carbohydrate content may predispose to diabetes and FLUTD (feline lower urinary tract disease).\n",
      "* Nutritional value decreases over time and should not be used after 6 months of storage.\n",
      "📄 Full Original Content: page_content='Dry Cat Food All dry foods contain some sort of carbohydrate product that is used to form the kibbles. Often, it’s a grain such as wheat, corn, or rice. Grain-free dry foods are also available, but they contain an alternate carbohydrate source, such as potatoes. During processing, dry foods are cooked to 150°F (65.5°C), which breaks down the starch in the cereals, increasing their digestibility. The temperature flash also sterilizes the product and removes most of the moisture. Dry foods are the least expensive. They can also be left out at all times, enabling the cat to eat at will. This is a more natural way for cats to eat, but may contribute to obesity. Dry foods are abrasive and help keep the teeth clean and sharp. However, the shearing forces generated when a cat chews dry kibble may also be impli- cated in feline oral resorptive lesions (see page 243). A disadvantage of dry food is that palatability may be less than other types. However, most cats accept it well. Dry foods often have 20 percent to 50 percent carbohydrates, so they have less animal tissues. The protein content in some dry foods may not be ideal for cats. It’s important to read the labels carefully. A potential disadvantage of dry food is that the high carbohydrate content has been suggested as a possible predisposing factor in the development of dia- betes. Also, because of its lower moisture content, it may predispose a cat to FLUTD. Due to their desert origins, cats drink little water and may not drink until they are 3 percent to 5 percent dehydrated. Cats who eat only dry food are not taking in nearly the amount of fluid that cats eating canned food are. Some cats may need to be encouraged to drink more if they are fed only dry food. Dry foods tend to lose their nutritional value over time and should not be used after six months of storage.' metadata={'doc_id': 'ebaeac0f-4e4b-4b48-9a7b-6b1a3442cc74'}\n"
     ]
    }
   ],
   "source": [
    "query = \"My cat's ear has dirty and greasy thing, what should I do?\"\n",
    "print('-'*40, \"Here are the retrieved original_docs with similarity scores\",'-'*40)\n",
    "\n",
    "# Retrieve documents and similarity scores using the underlying vectorstore\n",
    "results = retriever.vectorstore.similarity_search_with_score(query, k=8)\n",
    "\n",
    "print(f\"\\nThe query: '{query}':\")\n",
    "print(f\"\\nIn total there are {len(results)} docs retrieved.\")\n",
    "for doc, score in results:\n",
    "    print('-' * 40)\n",
    "    print(f\"🔎 Similarity Score: {score:.4f}\")\n",
    "    if hasattr(doc, \"page_content\") and doc.page_content:\n",
    "        print(\"📝 Summary/Chunk:\", doc.page_content)\n",
    "        if isinstance(doc.page_content, str) and doc.page_content.lower().endswith(('.png', '.jpg', '.jpeg', '.gif')):\n",
    "            print(\"🖼️ This doc is likely an image. Image path:\", doc.page_content)\n",
    "    else:\n",
    "        print(\"❓ No page_content in this doc. Full doc object:\", doc)\n",
    "    doc_id = doc.metadata.get('doc_id') if hasattr(doc, \"metadata\") else None\n",
    "    if doc_id:\n",
    "        original = retriever.docstore.mget([doc_id])[0]\n",
    "        print(\"📄 Full Original Content:\", original)\n",
    "        if isinstance(original, str) and original.lower().endswith(('.png', '.jpg', '.jpeg', '.gif')):\n",
    "            print(\"🖼️ Original content is an image. Image path:\", original)\n",
    "    else:\n",
    "        print(\"🚫 No doc_id found in metadata for this doc.\")"
   ]
  },
  {
   "cell_type": "markdown",
   "metadata": {},
   "source": [
    "# Let's Generate A Test Query"
   ]
  },
  {
   "cell_type": "code",
   "execution_count": 10,
   "metadata": {},
   "outputs": [],
   "source": [
    "query = \"What would be a health weight for a 4 years old neutered cat?\"\n",
    "# Retrieve documents and similarity scores using the underlying vectorstore\n",
    "results = retriever.vectorstore.similarity_search_with_score(query, k=8)\n",
    "\n",
    "def build_context(docs):\n",
    "    context = \"\"\n",
    "    for doc in docs:\n",
    "        # If the doc is a Document object with an image path in page_content or metadata\n",
    "        if hasattr(doc, \"page_content\") and isinstance(doc.page_content, str) and doc.page_content.lower().endswith(('.png', '.jpg', '.jpeg', '.gif')):\n",
    "            context += f\"![Image]({doc.page_content})\\n\"\n",
    "        elif hasattr(doc, \"metadata\") and \"image_path\" in doc.metadata:\n",
    "            context += f\"![Image]({doc.metadata['image_path']})\\n\"\n",
    "        elif hasattr(doc, \"page_content\"):\n",
    "            context += doc.page_content + \"\\n\"\n",
    "        else:\n",
    "            context += str(doc) + \"\\n\"\n",
    "    return context\n",
    "\n",
    "# Extract original docs from results\n",
    "original_docs = []\n",
    "for doc, score in results:\n",
    "    doc_id = doc.metadata.get('doc_id') if hasattr(doc, \"metadata\") else None\n",
    "    if doc_id:\n",
    "        original = retriever.docstore.mget([doc_id])[0]\n",
    "        if original:\n",
    "            original_docs.append(original)\n",
    "\n",
    "context = build_context(original_docs)"
   ]
  },
  {
   "cell_type": "code",
   "execution_count": 11,
   "metadata": {},
   "outputs": [
    {
     "data": {
      "text/markdown": [
       "### Health Weight for a 4-Year-Old Neutered Cat\n",
       "\n",
       "The ideal weight for a 4-year-old neutered cat can vary depending on several factors, including breed, size, and body condition. However, according to general guidelines, a healthy adult cat typically weighs between 8-12 pounds (3.6-5.4 kg) for males and 6-9 pounds (2.7-4 kg) for females.\n",
       "\n",
       "For a neutered cat, it's essential to maintain a lean and muscular build to prevent obesity-related health issues. A general rule of thumb is to weigh your cat about 10-15% below their ideal weight.\n",
       "\n",
       "### Example Weights for a 4-Year-Old Neutered Cat\n",
       "\n",
       "* Male: 8.5-11 pounds (3.9-5 kg)\n",
       "* Female: 6.5-8.5 pounds (2.9-3.8 kg)\n",
       "\n",
       "Keep in mind that these are general guidelines, and the ideal weight for your specific cat may vary. It's always best to consult with your veterinarian to determine a healthy weight range for your feline friend."
      ],
      "text/plain": [
       "<IPython.core.display.Markdown object>"
      ]
     },
     "metadata": {},
     "output_type": "display_data"
    }
   ],
   "source": [
    "import ollama\n",
    "from IPython.display import display, Markdown\n",
    "\n",
    "def ask_ollama(context, user_query, model=\"llama3.2:latest\"):\n",
    "    prompt = f\"\"\"You are a helpful assistant. Using the following context, answer the user's question in markdown. \n",
    "        If there are images, include them using markdown image syntax with the correct path.\n",
    "\n",
    "        Context:\n",
    "        {context}\n",
    "\n",
    "        User question: {user_query}\n",
    "\n",
    "        Answer in markdown:\"\"\"\n",
    "    response = ollama.chat(model=model, messages=[{\"role\": \"user\", \"content\": prompt}])\n",
    "    return response['message']['content']\n",
    "\n",
    "def render_markdown_with_images(markdown_text):\n",
    "    display(Markdown(markdown_text))\n",
    "\n",
    "# Use the context and user query\n",
    "markdown_answer = ask_ollama(context, query)\n",
    "render_markdown_with_images(markdown_answer)"
   ]
  }
 ],
 "metadata": {
  "kernelspec": {
   "display_name": "Python 3",
   "language": "python",
   "name": "python3"
  },
  "language_info": {
   "codemirror_mode": {
    "name": "ipython",
    "version": 3
   },
   "file_extension": ".py",
   "mimetype": "text/x-python",
   "name": "python",
   "nbconvert_exporter": "python",
   "pygments_lexer": "ipython3",
   "version": "3.12.1"
  }
 },
 "nbformat": 4,
 "nbformat_minor": 2
}
