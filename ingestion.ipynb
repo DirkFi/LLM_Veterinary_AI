{
 "cells": [
  {
   "cell_type": "code",
   "execution_count": 1,
   "metadata": {},
   "outputs": [],
   "source": [
    "# Install dependencies if needed\n",
    "# !pip install langchain langchain-experimental langchain-chroma pillow open_clip_torch torch matplotlib unstructured pydantic\n",
    "import os\n",
    "import uuid\n",
    "from textbook_loading import (\n",
    "    load_book,\n",
    "    clean_and_categorize_elements,\n",
    "    summarize_elements,\n",
    "    store_in_chromadb,\n",
    "    delete_irrelevant_images\n",
    ")"
   ]
  },
  {
   "cell_type": "code",
   "execution_count": 2,
   "metadata": {},
   "outputs": [],
   "source": [
    "pdf_file = './data/shortExample1P_PickupCat.pdf'\n",
    "image_output_dir = './figures'\n",
    "chroma_persist_dir = './chroma/textbook_test_example1/'\n",
    "\n",
    "# Make sure the data directory exists\n",
    "assert os.path.exists('./data'), \"Error: './data' directory not found.\"\n",
    "assert os.path.exists(pdf_file), f\"Error: PDF file not found at {pdf_file}.\""
   ]
  },
  {
   "cell_type": "code",
   "execution_count": 3,
   "metadata": {},
   "outputs": [
    {
     "name": "stdout",
     "output_type": "stream",
     "text": [
      "📚 Loading and partitioning PDF elements...\n"
     ]
    },
    {
     "name": "stderr",
     "output_type": "stream",
     "text": [
      "The `max_size` parameter is deprecated and will be removed in v4.26. Please specify in `size['longest_edge'] instead`.\n"
     ]
    },
    {
     "name": "stdout",
     "output_type": "stream",
     "text": [
      "✅ Found 55 raw elements.\n"
     ]
    }
   ],
   "source": [
    "print(\"📚 Loading and partitioning PDF elements...\")\n",
    "raw_pdf_elements = load_book(pdf_file, image_output_dir)\n",
    "print(f\"✅ Found {len(raw_pdf_elements)} raw elements.\")"
   ]
  },
  {
   "cell_type": "code",
   "execution_count": 4,
   "metadata": {},
   "outputs": [
    {
     "name": "stdout",
     "output_type": "stream",
     "text": [
      "🧹 Cleaning and categorizing elements...\n",
      "Categorized: 9 text chunks, 0 tables, 10 images.\n"
     ]
    }
   ],
   "source": [
    "print(\"🧹 Cleaning and categorizing elements...\")\n",
    "texts, tables, images_raw, _, _, _, _, _ = clean_and_categorize_elements(raw_pdf_elements)\n",
    "print(f\"Categorized: {len(texts)} text chunks, {len(tables)} tables, {len(images_raw)} images.\")"
   ]
  },
  {
   "cell_type": "code",
   "execution_count": 5,
   "metadata": {},
   "outputs": [
    {
     "name": "stdout",
     "output_type": "stream",
     "text": [
      "📝 Summarizing text, tables, and relevant images...\n",
      "Checking image relevance with local textual context...\n",
      "Skipping irrelevant image: /Users/mas/Desktop/LLM_Veterinary_AI/figures/figure-4-9.jpg\n",
      "Skipping irrelevant image: /Users/mas/Desktop/LLM_Veterinary_AI/figures/figure-5-10.jpg\n",
      "Number of relevant images for summarization: 8\n",
      "📊 Summarized: 9 text summaries, 0 table summaries, 8 image summaries.\n"
     ]
    }
   ],
   "source": [
    "print(\"📝 Summarizing text, tables, and relevant images...\")\n",
    "text_summaries, table_summaries, img_summaries, image_paths, relevant_images_to_summarize = summarize_elements(\n",
    "    texts, tables, images_raw\n",
    ")\n",
    "print(f\"📊 Summarized: {len(text_summaries)} text summaries, {len(table_summaries)} table summaries, {len(img_summaries)} image summaries.\")"
   ]
  },
  {
   "cell_type": "code",
   "execution_count": 6,
   "metadata": {},
   "outputs": [
    {
     "name": "stdout",
     "output_type": "stream",
     "text": [
      "💾 Storing data into ChromaDB at ./chroma/textbook_test_example1/...\n",
      "Using ChromaDB for summaries at: ./chroma/textbook_test_example1/ (collection: summaries)\n",
      "Using ChromaDB for original texts at: ./chroma/textbook_test_example1/ (collection: original_texts)\n",
      "Using ChromaDB for original images at: ./chroma/textbook_test_example1/ (collection: original_images)\n",
      "🎉 Data ingestion complete. Retriever initialized.\n"
     ]
    }
   ],
   "source": [
    "print(f\"💾 Storing data into ChromaDB at {chroma_persist_dir}...\")\n",
    "retriever = store_in_chromadb(\n",
    "    text_summaries, texts, table_summaries, tables, img_summaries, image_paths, persist_directory=chroma_persist_dir\n",
    ")\n",
    "print(\"🎉 Data ingestion complete. Retriever initialized.\")"
   ]
  },
  {
   "cell_type": "code",
   "execution_count": 7,
   "metadata": {},
   "outputs": [
    {
     "name": "stdout",
     "output_type": "stream",
     "text": [
      "Total documents in vectorstore (summaries): 17\n",
      "Total documents in docstore (original content): 17\n",
      "Sample of docstore original content (first 1 document if available):\n",
      "Could not retrieve content for doc ID: b9de49ce-0f24-481d-965b-d396391e48ea\n",
      "--- End of Inspection ---\n",
      "\n"
     ]
    }
   ],
   "source": [
    "# Check total documents in the vectorstore (summaries)\n",
    "vectorstore_ids = retriever.vectorstore.get(include=[])['ids']\n",
    "print(f\"Total documents in vectorstore (summaries): {len(vectorstore_ids)}\")\n",
    "\n",
    "# Check total documents in the docstore (original content)\n",
    "docstore_keys = retriever.docstore.mget(vectorstore_ids)\n",
    "print(f\"Total documents in docstore (original content): {len(docstore_keys)}\")\n",
    "\n",
    "if len(vectorstore_ids) > 0:\n",
    "    print(\"Sample of docstore original content (first 1 document if available):\")\n",
    "    sample_doc_ids = vectorstore_ids[:1]\n",
    "    retrieved_docs = retriever.docstore.mget(sample_doc_ids)\n",
    "    for i, doc_content in enumerate(retrieved_docs):\n",
    "        if doc_content:\n",
    "            print(f\"--- Document {i+1} Content (from docstore) ---\")\n",
    "            print(str(doc_content)[:500] + \"...\")\n",
    "        else:\n",
    "            print(f\"Could not retrieve content for doc ID: {sample_doc_ids[i]}\")\n",
    "else:\n",
    "    print(\"No documents to sample from.\")\n",
    "print(\"--- End of Inspection ---\\n\")"
   ]
  },
  {
   "cell_type": "code",
   "execution_count": 8,
   "metadata": {},
   "outputs": [
    {
     "name": "stdout",
     "output_type": "stream",
     "text": [
      "🗑️ Deleting irrelevant images...\n",
      "Successfully deleted irrelevant image: /Users/mas/Desktop/LLM_Veterinary_AI/figures/figure-4-9.jpg\n",
      "Successfully deleted irrelevant image: /Users/mas/Desktop/LLM_Veterinary_AI/figures/figure-5-10.jpg\n",
      "Finished deleting images. Total deleted: 2\n"
     ]
    }
   ],
   "source": [
    "print(\"🗑️ Deleting irrelevant images...\")\n",
    "delete_irrelevant_images(images_raw, relevant_images_to_summarize)"
   ]
  },
  {
   "cell_type": "code",
   "execution_count": 9,
   "metadata": {},
   "outputs": [
    {
     "name": "stdout",
     "output_type": "stream",
     "text": [
      "---------------------------------------- Here are the retrieved original_docs with similarity scores ----------------------------------------\n",
      "\n",
      "The query: 'Can you show me how to pick up a cat? Include images':\n",
      "\n",
      "In total there are 8 docs retrieved.\n",
      "----------------------------------------\n",
      "🔎 Similarity Score: 0.7567\n",
      "📝 Summary/Chunk: To pick up a cat safely:\n",
      "\n",
      "* Reach down from above to avoid confrontation\n",
      "* Place one hand under the chest and take hold of front legs, ensuring a secure grip\n",
      "* Support hind legs if needed\n",
      "* Snuggle close to body, cradling chin for comfort\n",
      "📄 Full Original Content: page_content='PICKING UP A CAT As a general rule, it is advisable to reach down and pick up a cat from above. A face-to-face confrontation might provoke the cat into becoming uncooper- ative or aggressive. Cooperative cats can be picked up by placing one hand around the cat beneath the chest and taking hold of the cat’s front legs so they cross over each other, keeping your index finger between them for a secure grip. Pick up the cat and snuggle him close to your body, supporting his hind legs if neces- sary. Cradle his chin with your other hand.' metadata={'doc_id': '20476ee8-3dc7-481c-a680-6e03f75de86f'}\n",
      "----------------------------------------\n",
      "🔎 Similarity Score: 0.7656\n",
      "📝 Summary/Chunk: For emergency situations, gently pick up a fearful cat by reaching down and lifting them by the scruff of their neck, supporting their back feet and body. For kittens under 1 year old, this method is often effective. For older cats, be prepared for less cooperation.\n",
      "📄 Full Original Content: page_content='EMERGENCIES • 3 Apprehensive cats can be picked up by reaching down and lifting the cat by the scruff of his neck. Most cats under the age of 1 go limp—as they did when their mothers carried them as kittens. Older cats may not be as cooperative about scruffing. Support the cat’s back feet and body with your other hand.' metadata={'doc_id': 'febf7ff7-111e-444c-a767-dd4f09c5faeb'}\n",
      "----------------------------------------\n",
      "🔎 Similarity Score: 0.7836\n",
      "📝 Summary/Chunk: To handle and restrain a cat, it's essential to:\n",
      "\n",
      "- Maintain control of the cat's head\n",
      "- Choose the right method based on the cat's temperament (tranquil vs. frightened/aggressive)\n",
      "- Be aware that cats have five sets of defensive \"weapons\" (mouth & four feet)\n",
      "\n",
      "This allows for safe and effective restraint.\n",
      "📄 Full Original Content: page_content='Handling and Restraint Any cat, no matter how docile he may be, has the potential to bite when he is severely injured, frightened, or in pain. It is important to recognize this and take proper precautions to keep from being bitten. It is therefore wise to always have control of a cat’s head. There are several effective ways to handle and restrain a cat. Your choice will depend on whether the individual animal is tranquil and cooperative or frightened and aggressive. Remember that cats have five sets of weapons— one mouth and four feet. They are extremely skilled in using these weapons, and will not hesitate to do so.' metadata={'doc_id': 'a0572019-7e01-4902-b56a-1c153d91e0be'}\n",
      "----------------------------------------\n",
      "🔎 Similarity Score: 0.7948\n",
      "📝 Summary/Chunk: Here's a concise summary:\n",
      "\n",
      "When picking up an aggressive or frightened cat:\n",
      "- Use a towel to cover and calm the animal\n",
      "- Wear protective gloves and use a thick blanket\n",
      "- Push a slip leash over the cat's head for added safety\n",
      "- Avoid lifting by the neck loop, as it can agitate the cat further\n",
      "- Consider using alternative methods like a squeeze cage or fishing net with caution.\n",
      "📄 Full Original Content: page_content='fh 7 4 • CAT OWNER’S HOME VETERINARY HANDBOOK Frightened cats can be picked up by covering the animal with a towel. After a minute or two, as the cat becomes calmer, slide the rest of the towel under- neath and lift the cat up as a bundle. This method works for aggressive cats as well, although you may want to wear thick leather gloves and use a thick blan- ket. It is a good idea to push a slip leash over the cat’s head. This way, if he strug- gles and jumps out of your arms, at least he cannot completely escape. Aggressive cats can be picked up by slipping a leash or a loop of rope over the cat’s head and one front leg. Then lift the animal by the leash and set him down on a table or into a cat carrier or box. Do not attempt to lift the cat sim- ply with a loop around his neck. This method should be used only as a last resort (when the method above doesn’t work), because it is certain to agitate the cat further. Another option is to use a small squeeze cage or squeeze box. The cat is lured into a special box that can be tightened gently around the body to allow for injections and a minimal physical exam. A fishing net can also be used to contain the cat, but beware of claws reaching through!' metadata={'doc_id': '809842e8-5891-4ebb-b042-ed5f9dd77b5a'}\n",
      "----------------------------------------\n",
      "🔎 Similarity Score: 0.8298\n",
      "📝 Summary/Chunk: Some cats may be cooperative when restrained by the scruff of the neck for treatment, while others resist strenuously.\n",
      "📄 Full Original Content: page_content='RESTRAINING FOR TREATMENT Some cats are quite cooperative while being held by the scruff of the neck. However, some cats will object strenuously. —o— 04_095300 ch01.qxp 10/29/07 3:41 PM Page 5' metadata={'doc_id': '4840d0cd-e6b5-45e3-ba0c-d866c600e2d1'}\n",
      "----------------------------------------\n",
      "🔎 Similarity Score: 0.8495\n",
      "📝 Summary/Chunk: When treating a cooperative cat, approach calmly and gently, minimizing physical restraint. Lift onto a smooth surface, speak soothingly, and use gentle touch (e.g., ear rubbing) to calm the cat. Place one hand on the chest to keep the cat stable while administering treatment with your other hand.\n",
      "📄 Full Original Content: page_content='RESTRAINING FOR TREATMENT When the cat is cooperative, routine procedures such as grooming, bathing, and medicating the cat are best carried out in quiet surroundings with a min- imum of physical restraint. Approach the cat with confidence and handle him gently. If you are calm and go about this matter-of-factly, most cats handle moderate restraint and treatments reasonably well. Many can be coaxed into accepting the procedure and do not need to be restrained. Cooperative cats can be lifted onto a smooth, raised surface, such as a tabletop or a high tier of a cat tree. The cat will be less secure—but still not frightened. Speak in a calm, soothing voice until the cat relaxes. Rubbing the ears and scratching the head will calm many cats. Place one hand around the front of the cat’s chest to keep him from moving forward. Use your other hand to administer treatment.' metadata={'doc_id': 'd69700bc-c461-4645-b524-d74c236cbcd5'}\n",
      "----------------------------------------\n",
      "🔎 Similarity Score: 0.9264\n",
      "📝 Summary/Chunk: Here's a concise summary:\n",
      "\n",
      "For handling uncooperative cats:\n",
      "\n",
      "* For young cats (<1 year): gentle scruffing and tapping on the head\n",
      "* For older cats: hold the scruff firmly against the table or use a towel/blanket for calming effect\n",
      "* Use an assistant to help steady the cat, especially during short procedures.\n",
      "* Alternatives to restraint bags include using a coat sleeve, towels, or muzzles with a cloth circle and snap lock strap.\n",
      "📄 Full Original Content: page_content='Fh 7 6 • CAT OWNER’S HOME VETERINARY HANDBOOK Uncooperative cats can be handled in several ways, depending on the degree of agitation. If the cat is cooperative enough to permit handling. Some cats respond with quiet to simply having the scruff held and gently tugged back and forth or holding the scruff and gently tapping on the head as a dis- traction. This is more likely to be true for cats under age 1. If this is not the case, hold the scruff and press firmly against the top of the table so that the cat stretches out. These actions will prevent you from being scratched by the cat’s rear claws. When help is available, have your assistant stand behind the cat and place both hands around the cat’s neck or front legs while pressing their arms against the cat’s sides. Wrapping a towel or blanket around the cat has a calm- ing effect and is useful for short procedures such as giving medication. An assistant is required to steady the cat and hold the wraps in place. A coat sleeve makes an excellent restraint. The cat will often scoot into it willingly. Hold the end of the sleeve securely around the cat’s neck. Now you can treat the head or tail. Cat bags are special bags made for restraining cats. You place the cat on the unzipped bag, then quickly zip it around his body up to his neck. Some veteri- narians really like them. However, cat bags are widely disliked by cats, and they struggle about getting into it and may not be calm once inside. An easier solution may be to simply wrap the cat in a towel. There are also muzzles made especially for cats. These have a cloth circle to enclose the muzzle and, usually, a snap lock strap to go behind the ears.' metadata={'doc_id': 'fd7d3277-a489-47a6-b107-a9e4ee7bb9e0'}\n",
      "----------------------------------------\n",
      "🔎 Similarity Score: 0.9842\n",
      "📝 Summary/Chunk: In a clinical or home veterinary scenario where handling fearful cats is necessary for examination, treatment, or other medical reasons, this image provides a visual guide to safely picking up such animals using their 'scruff' as recommended in the text provided.\n",
      "\n",
      "The key technique illustrated here is known as \"scrufting,\" which involves grasping an animal's scruff (the area between the shoulder blades and along the back of its neck) with both hands. This part of a cat’s body has dense hair, making it less sensitive to pressure compared to more tender areas like underarms or stomachs.\n",
      "\n",
      "The veterinary assistant should ensure they have a firm but gentle grip on the scruff without pinching too tightly; otherwise, this could cause distress and injury to the animal. The hands position shown in the image suggests readiness for lifting by grasping both sides of the cat's neck. This technique is crucial because it minimizes stress while ensuring control over the cat’s movements.\n",
      "\n",
      "This method helps reduce anxiety during handling sessions as cats are less likely to bite or scratch if they sense no immediate threat, thus promoting a safer environment for veterinary professionals and their patients. It would be prudent to use such restraint techniques under direct guidance from an experienced veterinarian who could provide additional tips tailored to specific patient needs or conditions.\n",
      "\n",
      "Likely search terms related to this scenario might include \"cat restraint technique,\" “handling fearful cats,” or \"scruffing method.\"\n",
      "📄 Full Original Content: page_content='/Users/mas/Desktop/LLM_Veterinary_AI/figures/figure-1-2.jpg' metadata={'doc_id': 'a570cbc8-83f9-4a0e-bed1-fe1e3e47f2ca'}\n"
     ]
    }
   ],
   "source": [
    "query = \"Can you show me how to pick up a cat? Include images\"\n",
    "print('-'*40, \"Here are the retrieved original_docs with similarity scores\",'-'*40)\n",
    "\n",
    "# Retrieve documents and similarity scores using the underlying vectorstore\n",
    "results = retriever.vectorstore.similarity_search_with_score(query, k=8)\n",
    "\n",
    "print(f\"\\nThe query: '{query}':\")\n",
    "print(f\"\\nIn total there are {len(results)} docs retrieved.\")\n",
    "for doc, score in results:\n",
    "    print('-' * 40)\n",
    "    print(f\"🔎 Similarity Score: {score:.4f}\")\n",
    "    if hasattr(doc, \"page_content\") and doc.page_content:\n",
    "        print(\"📝 Summary/Chunk:\", doc.page_content)\n",
    "        if isinstance(doc.page_content, str) and doc.page_content.lower().endswith(('.png', '.jpg', '.jpeg', '.gif')):\n",
    "            print(\"🖼️ This doc is likely an image. Image path:\", doc.page_content)\n",
    "    else:\n",
    "        print(\"❓ No page_content in this doc. Full doc object:\", doc)\n",
    "    doc_id = doc.metadata.get('doc_id') if hasattr(doc, \"metadata\") else None\n",
    "    if doc_id:\n",
    "        original = retriever.docstore.mget([doc_id])[0]\n",
    "        print(\"📄 Full Original Content:\", original)\n",
    "        if isinstance(original, str) and original.lower().endswith(('.png', '.jpg', '.jpeg', '.gif')):\n",
    "            print(\"🖼️ Original content is an image. Image path:\", original)\n",
    "    else:\n",
    "        print(\"🚫 No doc_id found in metadata for this doc.\")"
   ]
  },
  {
   "cell_type": "code",
   "execution_count": 10,
   "metadata": {},
   "outputs": [
    {
     "data": {
      "text/plain": [
       "0"
      ]
     },
     "execution_count": 10,
     "metadata": {},
     "output_type": "execute_result"
    }
   ],
   "source": [
    "import os\n",
    "os.system('afplay /System/Library/Sounds/Glass.aiff')"
   ]
  }
 ],
 "metadata": {
  "kernelspec": {
   "display_name": "Python 3",
   "language": "python",
   "name": "python3"
  },
  "language_info": {
   "codemirror_mode": {
    "name": "ipython",
    "version": 3
   },
   "file_extension": ".py",
   "mimetype": "text/x-python",
   "name": "python",
   "nbconvert_exporter": "python",
   "pygments_lexer": "ipython3",
   "version": "3.12.1"
  }
 },
 "nbformat": 4,
 "nbformat_minor": 2
}
