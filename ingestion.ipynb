{
 "cells": [
  {
   "cell_type": "code",
   "execution_count": 1,
   "metadata": {},
   "outputs": [],
   "source": [
    "# Install dependencies if needed\n",
    "# !pip install langchain langchain-experimental langchain-chroma pillow open_clip_torch torch matplotlib unstructured pydantic\n",
    "import os\n",
    "from textbook_loading import (\n",
    "    load_book,\n",
    "    clean_and_categorize_elements,\n",
    "    summarize_elements,\n",
    "    store_in_chromadb,\n",
    "    delete_irrelevant_images\n",
    ")"
   ]
  },
  {
   "cell_type": "code",
   "execution_count": 2,
   "metadata": {},
   "outputs": [],
   "source": [
    "pdf_file = './data/shortExample1P_PickupCat.pdf'\n",
    "image_output_dir = './figures/figures_pickupCat'\n",
    "chroma_persist_dir = './chroma/textbook_test_pickupCat/'\n",
    "\n",
    "# Make sure the data directory exists\n",
    "assert os.path.exists('./data'), \"Error: './data' directory not found.\"\n",
    "assert os.path.exists(pdf_file), f\"Error: PDF file not found at {pdf_file}.\""
   ]
  },
  {
   "cell_type": "code",
   "execution_count": 3,
   "metadata": {},
   "outputs": [
    {
     "name": "stdout",
     "output_type": "stream",
     "text": [
      "📚 Loading and partitioning PDF elements...\n"
     ]
    },
    {
     "name": "stderr",
     "output_type": "stream",
     "text": [
      "The `max_size` parameter is deprecated and will be removed in v4.26. Please specify in `size['longest_edge'] instead`.\n"
     ]
    },
    {
     "name": "stdout",
     "output_type": "stream",
     "text": [
      "✅ Found 55 raw elements.\n"
     ]
    }
   ],
   "source": [
    "print(\"📚 Loading and partitioning PDF elements...\")\n",
    "raw_pdf_elements = load_book(pdf_file, image_output_dir)\n",
    "print(f\"✅ Found {len(raw_pdf_elements)} raw elements.\")"
   ]
  },
  {
   "cell_type": "code",
   "execution_count": 4,
   "metadata": {},
   "outputs": [
    {
     "name": "stdout",
     "output_type": "stream",
     "text": [
      "🧹 Cleaning and categorizing elements...\n",
      "Categorized: 9 text chunks, 0 tables, 10 images.\n"
     ]
    }
   ],
   "source": [
    "print(\"🧹 Cleaning and categorizing elements...\")\n",
    "texts, tables, images_raw, _, _, _, _, _ = clean_and_categorize_elements(raw_pdf_elements)\n",
    "print(f\"Categorized: {len(texts)} text chunks, {len(tables)} tables, {len(images_raw)} images.\")"
   ]
  },
  {
   "cell_type": "code",
   "execution_count": 5,
   "metadata": {},
   "outputs": [
    {
     "name": "stdout",
     "output_type": "stream",
     "text": [
      "📝 Summarizing text, tables, and Checking relevant images...\n",
      "Texts and Tables Summary Done!\n",
      "Checking image relevance with local textual context...\n",
      "Skipping irrelevant image: ./figures/figures_pickupCat/figure-2-5.jpg\n",
      "Number of relevant images: 9\n",
      "📊 Summarized: 9 text summaries, 0 table summaries\n"
     ]
    }
   ],
   "source": [
    "print(\"📝 Summarizing text, tables, and Checking relevant images...\")\n",
    "text_summaries, table_summaries, image_paths, relevant_images_to_summarize = summarize_elements(\n",
    "    texts, tables, images_raw\n",
    ")\n",
    "print(f\"📊 Summarized: {len(text_summaries)} text summaries, {len(table_summaries)} table summaries\")"
   ]
  },
  {
   "cell_type": "code",
   "execution_count": 6,
   "metadata": {},
   "outputs": [
    {
     "name": "stdout",
     "output_type": "stream",
     "text": [
      "💾 Storing data into ChromaDB at ./chroma/textbook_test_pickupCat/...\n",
      "🎉 Data ingestion complete. Retriever initialized.\n"
     ]
    }
   ],
   "source": [
    "print(f\"💾 Storing data into ChromaDB at {chroma_persist_dir}...\")\n",
    "#Returns a UnifiedRetriever class: def __init__(self, vectorstore, docstore, id_key=\"doc_id\"):\n",
    "retriever = store_in_chromadb(\n",
    "    text_summaries, texts, table_summaries, tables, image_paths, persist_directory=chroma_persist_dir\n",
    ")\n",
    "print(\"🎉 Data ingestion complete. Retriever initialized.\")"
   ]
  },
  {
   "cell_type": "code",
   "execution_count": 7,
   "metadata": {},
   "outputs": [
    {
     "name": "stdout",
     "output_type": "stream",
     "text": [
      "🗑️ Deleting irrelevant images...\n",
      "Successfully deleted irrelevant image: ./figures/figures_pickupCat/figure-2-5.jpg\n",
      "Finished deleting images. Total deleted: 1\n"
     ]
    }
   ],
   "source": [
    "print(\"🗑️ Deleting irrelevant images...\")\n",
    "delete_irrelevant_images(images_raw, relevant_images_to_summarize)"
   ]
  },
  {
   "cell_type": "markdown",
   "metadata": {},
   "source": [
    "# Inspecting Retrieved Docs"
   ]
  },
  {
   "cell_type": "code",
   "execution_count": 10,
   "metadata": {},
   "outputs": [],
   "source": [
    "query = \"How to properly pick up a cat?\""
   ]
  },
  {
   "cell_type": "code",
   "execution_count": 11,
   "metadata": {},
   "outputs": [
    {
     "name": "stdout",
     "output_type": "stream",
     "text": [
      "---------------------------------------- Here are the retrieved original_docs with similarity scores ----------------------------------------\n",
      "----------------------------------------\n",
      "🔎 Similarity Score: 0.6620\n",
      "📝 Summary/Chunk: Picking up a cat involves gentle handling to avoid stressing or injuring them. Key points:\n",
      "\n",
      "* Hold the cat securely but not too tightly, supporting their body and legs\n",
      "* Lift from under the cat, avoiding picking them up by their neck or tail\n",
      "* Keep your hands close to their body to prevent them from being injured or dropped\n",
      "* Be mindful of their claws and avoid sudden movements\n",
      "📄 Full Original Content: PICKING UP A CAT —o— 04_095300 ch01.qxp 10/29/07 3:41 PM Page 3\n",
      "Summary Metadata: {'type': 'text', 'doc_id': 'a6f8099d-9843-416c-99f8-968ef7d5f937'}\n",
      "Original Metadata: {'type': 'text', 'doc_id': 'a6f8099d-9843-416c-99f8-968ef7d5f937'}\n",
      "----------------------------------------\n",
      "🔎 Similarity Score: 0.8390\n",
      "📝 Summary/Chunk: For emergency situations, pick up apprehensive cats by gently lifting their neck to support their back legs and body, using care not to harm or injure them further.\n",
      "📄 Full Original Content: EMERGENCIES • 3 Apprehensive cats can be picked up by reaching down and lifting the cat by the scruff of his neck. Most cats under the age of 1 go limp—as they did when their mothers carried them as kittens. Older cats may not be as cooperative about scruffing. Support the cat’s back feet and body with your other hand.\n",
      "Summary Metadata: {'doc_id': 'ff2bacd9-b036-4c36-8f13-3552ffef6903', 'type': 'text'}\n",
      "Original Metadata: {'doc_id': 'ff2bacd9-b036-4c36-8f13-3552ffef6903', 'type': 'text'}\n",
      "----------------------------------------\n",
      "🔎 Similarity Score: 0.8563\n",
      "📝 Summary/Chunk: To pick up a cat safely:\n",
      "\n",
      "* Reach down from above to avoid confrontation.\n",
      "* Place one hand under chest and grasp front legs, with index finger between them for secure grip.\n",
      "* Snuggle close to body, support hind legs if needed, and cradle chin with opposite hand.\n",
      "📄 Full Original Content: PICKING UP A CAT As a general rule, it is advisable to reach down and pick up a cat from above. A face-to-face confrontation might provoke the cat into becoming uncooper- ative or aggressive. Cooperative cats can be picked up by placing one hand around the cat beneath the chest and taking hold of the cat’s front legs so they cross over each other, keeping your index finger between them for a secure grip. Pick up the cat and snuggle him close to your body, supporting his hind legs if neces- sary. Cradle his chin with your other hand.\n",
      "Summary Metadata: {'doc_id': '28c8b66a-02cf-4725-b73f-ba31e87810b2', 'type': 'text'}\n",
      "Original Metadata: {'type': 'text', 'doc_id': '28c8b66a-02cf-4725-b73f-ba31e87810b2'}\n",
      "----------------------------------------\n",
      "🔎 Similarity Score: 0.9098\n",
      "📝 Summary/Chunk: Here's a concise summary:\n",
      "\n",
      "When picking up a frightened or aggressive cat:\n",
      "\n",
      "* Use a towel to cover and calm the cat, then lift as a bundle.\n",
      "* For more control, use a slip leash over the head and front leg.\n",
      "* Avoid using a loop around the neck, as it can agitate the cat further.\n",
      "* Alternative options include:\n",
      "* Squeeze cage or squeeze box for gentle restraint\n",
      "* Fishing net to contain the cat (be cautious of claws)\n",
      "\n",
      "Remember to prioritize the cat's safety and calmness during pickup.\n",
      "📄 Full Original Content: fh 7 4 • CAT OWNER’S HOME VETERINARY HANDBOOK Frightened cats can be picked up by covering the animal with a towel. After a minute or two, as the cat becomes calmer, slide the rest of the towel under- neath and lift the cat up as a bundle. This method works for aggressive cats as well, although you may want to wear thick leather gloves and use a thick blan- ket. It is a good idea to push a slip leash over the cat’s head. This way, if he strug- gles and jumps out of your arms, at least he cannot completely escape. Aggressive cats can be picked up by slipping a leash or a loop of rope over the cat’s head and one front leg. Then lift the animal by the leash and set him down on a table or into a cat carrier or box. Do not attempt to lift the cat sim- ply with a loop around his neck. This method should be used only as a last resort (when the method above doesn’t work), because it is certain to agitate the cat further. Another option is to use a small squeeze cage or squeeze box. The cat is lured into a special box that can be tightened gently around the body to allow for injections and a minimal physical exam. A fishing net can also be used to contain the cat, but beware of claws reaching through!\n",
      "Summary Metadata: {'doc_id': '64340adf-4eab-4458-9f39-d6301985c752', 'type': 'text'}\n",
      "Original Metadata: {'doc_id': '64340adf-4eab-4458-9f39-d6301985c752', 'type': 'text'}\n",
      "----------------------------------------\n",
      "🔎 Similarity Score: 0.9363\n",
      "📝 Summary/Chunk: To restrain a cooperative cat for routine procedures, follow these steps:\n",
      "\n",
      "* Approach with confidence\n",
      "* Handle gently\n",
      "* Speak calmly and soothingly\n",
      "* Use gentle restraint (1 hand around chest, other hand administering treatment)\n",
      "* Avoid physical force or sudden movements.\n",
      "📄 Full Original Content: RESTRAINING FOR TREATMENT When the cat is cooperative, routine procedures such as grooming, bathing, and medicating the cat are best carried out in quiet surroundings with a min- imum of physical restraint. Approach the cat with confidence and handle him gently. If you are calm and go about this matter-of-factly, most cats handle moderate restraint and treatments reasonably well. Many can be coaxed into accepting the procedure and do not need to be restrained. Cooperative cats can be lifted onto a smooth, raised surface, such as a tabletop or a high tier of a cat tree. The cat will be less secure—but still not frightened. Speak in a calm, soothing voice until the cat relaxes. Rubbing the ears and scratching the head will calm many cats. Place one hand around the front of the cat’s chest to keep him from moving forward. Use your other hand to administer treatment.\n",
      "Summary Metadata: {'type': 'text', 'doc_id': '26f82758-7f17-4828-a884-3eacbce81966'}\n",
      "Original Metadata: {'doc_id': '26f82758-7f17-4828-a884-3eacbce81966', 'type': 'text'}\n",
      "----------------------------------------\n",
      "🔎 Similarity Score: 0.9617\n",
      "📝 Summary/Chunk: When handling or restraining a cat, always maintain control of its head to minimize the risk of being bitten. Effective ways to handle cats include considering their temperament (tranquil vs. frightened/aggressive) when choosing restraint methods. Cats are skilled at using their mouth and feet as \"weapons\" and may bite if threatened or in pain.\n",
      "📄 Full Original Content: Handling and Restraint Any cat, no matter how docile he may be, has the potential to bite when he is severely injured, frightened, or in pain. It is important to recognize this and take proper precautions to keep from being bitten. It is therefore wise to always have control of a cat’s head. There are several effective ways to handle and restrain a cat. Your choice will depend on whether the individual animal is tranquil and cooperative or frightened and aggressive. Remember that cats have five sets of weapons— one mouth and four feet. They are extremely skilled in using these weapons, and will not hesitate to do so.\n",
      "Summary Metadata: {'type': 'text', 'doc_id': '36d7f6a8-ed98-4fe2-bb1a-326405ad8035'}\n",
      "Original Metadata: {'doc_id': '36d7f6a8-ed98-4fe2-bb1a-326405ad8035', 'type': 'text'}\n",
      "----------------------------------------\n",
      "🔎 Similarity Score: 0.9803\n",
      "📝 Summary/Chunk: Some cats may not tolerate restraint for treatment, and handling them by the scruff of the neck can be stressful or even objectionable to them.\n",
      "📄 Full Original Content: RESTRAINING FOR TREATMENT Some cats are quite cooperative while being held by the scruff of the neck. However, some cats will object strenuously. —o— 04_095300 ch01.qxp 10/29/07 3:41 PM Page 5\n",
      "Summary Metadata: {'doc_id': 'ecf925b7-d6f3-4ed1-a44a-b5b9b3045a5c', 'type': 'text'}\n",
      "Original Metadata: {'doc_id': 'ecf925b7-d6f3-4ed1-a44a-b5b9b3045a5c', 'type': 'text'}\n",
      "----------------------------------------\n",
      "🔎 Similarity Score: 0.9843\n",
      "📝 Summary/Chunk: Here's a concise summary:\n",
      "\n",
      "When handling uncooperative cats, use gentle methods such as:\n",
      "\n",
      "* Scruffing with head tapping (under age 1)\n",
      "* Firmly holding scruff and pressing against table top\n",
      "* Using towels or blankets for calming and restraint\n",
      "* Assistant-assisted hold with towel wraps or coat sleeves\n",
      "* Muzzles with cloth circles and snap lock straps\n",
      "\n",
      "Note: Avoid using cat bags, as cats often struggle to get in and may not remain calm.\n",
      "📄 Full Original Content: Fh 7 6 • CAT OWNER’S HOME VETERINARY HANDBOOK Uncooperative cats can be handled in several ways, depending on the degree of agitation. If the cat is cooperative enough to permit handling. Some cats respond with quiet to simply having the scruff held and gently tugged back and forth or holding the scruff and gently tapping on the head as a dis- traction. This is more likely to be true for cats under age 1. If this is not the case, hold the scruff and press firmly against the top of the table so that the cat stretches out. These actions will prevent you from being scratched by the cat’s rear claws. When help is available, have your assistant stand behind the cat and place both hands around the cat’s neck or front legs while pressing their arms against the cat’s sides. Wrapping a towel or blanket around the cat has a calm- ing effect and is useful for short procedures such as giving medication. An assistant is required to steady the cat and hold the wraps in place. A coat sleeve makes an excellent restraint. The cat will often scoot into it willingly. Hold the end of the sleeve securely around the cat’s neck. Now you can treat the head or tail. Cat bags are special bags made for restraining cats. You place the cat on the unzipped bag, then quickly zip it around his body up to his neck. Some veteri- narians really like them. However, cat bags are widely disliked by cats, and they struggle about getting into it and may not be calm once inside. An easier solution may be to simply wrap the cat in a towel. There are also muzzles made especially for cats. These have a cloth circle to enclose the muzzle and, usually, a snap lock strap to go behind the ears.\n",
      "Summary Metadata: {'doc_id': 'db74a911-b710-4ab2-a311-3244140919ab', 'type': 'text'}\n",
      "Original Metadata: {'type': 'text', 'doc_id': 'db74a911-b710-4ab2-a311-3244140919ab'}\n",
      "----------------------------------------\n",
      "🔎 Similarity Score: 1.0602\n",
      "📝 Summary/Chunk: Summary: This section is an owner's guide for common feline health issues, including:\n",
      "\n",
      "* Common symptoms and signs of illness\n",
      "* First aid and emergency care\n",
      "* Preventative measures (e.g., vaccinations, parasite control)\n",
      "* Nutrition and dietary recommendations\n",
      "* Basic grooming and hygiene practices.\n",
      "\n",
      "Actionable advice includes monitoring your cat's behavior, recognizing potential health problems early, and taking preventative steps to maintain their overall well-being.\n",
      "📄 Full Original Content: 2 • CAT OWNER’S HOME VETERINARY HANDBOOK\n",
      "Summary Metadata: {'doc_id': '27636f2b-0aec-422f-ac44-1029927a5c7a', 'type': 'text'}\n",
      "Original Metadata: {'type': 'text', 'doc_id': '27636f2b-0aec-422f-ac44-1029927a5c7a'}\n",
      "----------------------------------------\n",
      "🔎 Similarity Score: 1.4073\n",
      "📝 Summary/Chunk: ./figures/figures_pickupCat/figure-1-2.jpg\n",
      "📄 Full Original Content: ./figures/figures_pickupCat/figure-1-2.jpg\n",
      "Summary Metadata: {'doc_id': '44283e12-b642-43da-9bc0-8c70f176c2f1', 'type': 'image', 'image_path': './figures/figures_pickupCat/figure-1-2.jpg'}\n",
      "Original Metadata: {'type': 'text', 'doc_id': '44283e12-b642-43da-9bc0-8c70f176c2f1'}\n"
     ]
    }
   ],
   "source": [
    "print('-'*40, \"Here are the retrieved original_docs with similarity scores\",'-'*40)\n",
    "\n",
    "results = retriever.retrieve(query, k=10)\n",
    "for res in results:\n",
    "    print('-' * 40)\n",
    "    print(f\"🔎 Similarity Score: {res['score']:.4f}\")\n",
    "    print(\"📝 Summary/Chunk:\", res[\"summary\"])\n",
    "    print(\"📄 Full Original Content:\", res[\"original\"])\n",
    "    print(\"Summary Metadata:\", res[\"summary_metadata\"])\n",
    "    print(\"Original Metadata:\", res[\"original_metadata\"])"
   ]
  }
 ],
 "metadata": {
  "kernelspec": {
   "display_name": "Python 3",
   "language": "python",
   "name": "python3"
  },
  "language_info": {
   "codemirror_mode": {
    "name": "ipython",
    "version": 3
   },
   "file_extension": ".py",
   "mimetype": "text/x-python",
   "name": "python",
   "nbconvert_exporter": "python",
   "pygments_lexer": "ipython3",
   "version": "3.12.1"
  }
 },
 "nbformat": 4,
 "nbformat_minor": 2
}
