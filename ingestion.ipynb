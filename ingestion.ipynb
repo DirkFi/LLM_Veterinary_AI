{
 "cells": [
  {
   "cell_type": "code",
   "execution_count": 1,
   "metadata": {},
   "outputs": [],
   "source": [
    "# Install dependencies if needed\n",
    "# !pip install langchain langchain-experimental langchain-chroma pillow open_clip_torch torch matplotlib unstructured pydantic\n",
    "import os\n",
    "from textbook_loading import (\n",
    "    load_book,\n",
    "    clean_and_categorize_elements,\n",
    "    summarize_elements,\n",
    "    store_in_chromadb,\n",
    "    delete_irrelevant_images\n",
    ")"
   ]
  },
  {
   "cell_type": "code",
   "execution_count": 4,
   "metadata": {},
   "outputs": [],
   "source": [
    "pdf_file = './data/shortExample2_Nutrition_20Pgs.pdf'\n",
    "image_output_dir = './figures/figures_Nutrition'\n",
    "chroma_persist_dir = './chroma/textbook_test_Nutrition/'\n",
    "\n",
    "# Make sure the data directory exists\n",
    "assert os.path.exists('./data'), \"Error: './data' directory not found.\"\n",
    "assert os.path.exists(pdf_file), f\"Error: PDF file not found at {pdf_file}.\""
   ]
  },
  {
   "cell_type": "code",
   "execution_count": 5,
   "metadata": {},
   "outputs": [
    {
     "name": "stdout",
     "output_type": "stream",
     "text": [
      "📚 Loading and partitioning PDF elements...\n"
     ]
    },
    {
     "name": "stderr",
     "output_type": "stream",
     "text": [
      "The `max_size` parameter is deprecated and will be removed in v4.26. Please specify in `size['longest_edge'] instead`.\n"
     ]
    },
    {
     "name": "stdout",
     "output_type": "stream",
     "text": [
      "✅ Found 316 raw elements.\n"
     ]
    }
   ],
   "source": [
    "print(\"📚 Loading and partitioning PDF elements...\")\n",
    "raw_pdf_elements = load_book(pdf_file, image_output_dir)\n",
    "print(f\"✅ Found {len(raw_pdf_elements)} raw elements.\")"
   ]
  },
  {
   "cell_type": "code",
   "execution_count": 7,
   "metadata": {},
   "outputs": [
    {
     "name": "stdout",
     "output_type": "stream",
     "text": [
      "🧹 Cleaning and categorizing elements...\n",
      "Categorized: 53 text chunks, 4 tables, 21 images.\n"
     ]
    }
   ],
   "source": [
    "print(\"🧹 Cleaning and categorizing elements...\")\n",
    "texts, tables, images_raw, _, _, _, _, _ = clean_and_categorize_elements(raw_pdf_elements)\n",
    "print(f\"Categorized: {len(texts)} text chunks, {len(tables)} tables, {len(images_raw)} images.\")"
   ]
  },
  {
   "cell_type": "code",
   "execution_count": 8,
   "metadata": {},
   "outputs": [
    {
     "name": "stdout",
     "output_type": "stream",
     "text": [
      "📝 Summarizing text, tables, and relevant images...\n",
      "Checking image relevance with local textual context...\n",
      "Skipping irrelevant image: ./figures/figures_Nutrition/figure-1-1.jpg\n",
      "Skipping irrelevant image: ./figures/figures_Nutrition/figure-4-2.jpg\n",
      "Skipping irrelevant image: ./figures/figures_Nutrition/figure-5-3.jpg\n",
      "Skipping irrelevant image: ./figures/figures_Nutrition/figure-6-4.jpg\n",
      "Skipping irrelevant image: ./figures/figures_Nutrition/figure-7-5.jpg\n",
      "Skipping irrelevant image: ./figures/figures_Nutrition/figure-8-6.jpg\n",
      "Skipping irrelevant image: ./figures/figures_Nutrition/figure-9-7.jpg\n",
      "Skipping irrelevant image: ./figures/figures_Nutrition/figure-10-8.jpg\n",
      "Skipping irrelevant image: ./figures/figures_Nutrition/figure-11-9.jpg\n",
      "Skipping irrelevant image: ./figures/figures_Nutrition/figure-12-10.jpg\n",
      "Skipping irrelevant image: ./figures/figures_Nutrition/figure-13-11.jpg\n",
      "Skipping irrelevant image: ./figures/figures_Nutrition/figure-14-13.jpg\n",
      "Skipping irrelevant image: ./figures/figures_Nutrition/figure-16-15.jpg\n",
      "Skipping irrelevant image: ./figures/figures_Nutrition/figure-17-16.jpg\n",
      "Skipping irrelevant image: ./figures/figures_Nutrition/figure-18-17.jpg\n",
      "Skipping irrelevant image: ./figures/figures_Nutrition/figure-19-19.jpg\n",
      "Skipping irrelevant image: ./figures/figures_Nutrition/figure-21-21.jpg\n",
      "Number of relevant images for summarization: 4\n",
      "📊 Summarized: 53 text summaries, 4 table summaries, 4 image summaries.\n"
     ]
    }
   ],
   "source": [
    "print(\"📝 Summarizing text, tables, and relevant images...\")\n",
    "text_summaries, table_summaries, img_summaries, image_paths, relevant_images_to_summarize = summarize_elements(\n",
    "    texts, tables, images_raw\n",
    ")\n",
    "print(f\"📊 Summarized: {len(text_summaries)} text summaries, {len(table_summaries)} table summaries, {len(img_summaries)} image summaries.\")"
   ]
  },
  {
   "cell_type": "code",
   "execution_count": 9,
   "metadata": {},
   "outputs": [
    {
     "name": "stdout",
     "output_type": "stream",
     "text": [
      "💾 Storing data into ChromaDB at ./chroma/textbook_test_Nutrition/...\n",
      "🎉 Data ingestion complete. Retriever initialized.\n"
     ]
    }
   ],
   "source": [
    "print(f\"💾 Storing data into ChromaDB at {chroma_persist_dir}...\")\n",
    "#Returns a UnifiedRetriever class: def __init__(self, vectorstore, docstore, id_key=\"doc_id\"):\n",
    "retriever = store_in_chromadb(\n",
    "    text_summaries, texts, table_summaries, tables, img_summaries, image_paths, persist_directory=chroma_persist_dir\n",
    ")\n",
    "print(\"🎉 Data ingestion complete. Retriever initialized.\")"
   ]
  },
  {
   "cell_type": "code",
   "execution_count": 10,
   "metadata": {},
   "outputs": [
    {
     "name": "stdout",
     "output_type": "stream",
     "text": [
      "🗑️ Deleting irrelevant images...\n",
      "Successfully deleted irrelevant image: ./figures/figures_Nutrition/figure-1-1.jpg\n",
      "Successfully deleted irrelevant image: ./figures/figures_Nutrition/figure-4-2.jpg\n",
      "Successfully deleted irrelevant image: ./figures/figures_Nutrition/figure-5-3.jpg\n",
      "Successfully deleted irrelevant image: ./figures/figures_Nutrition/figure-6-4.jpg\n",
      "Successfully deleted irrelevant image: ./figures/figures_Nutrition/figure-7-5.jpg\n",
      "Successfully deleted irrelevant image: ./figures/figures_Nutrition/figure-8-6.jpg\n",
      "Successfully deleted irrelevant image: ./figures/figures_Nutrition/figure-9-7.jpg\n",
      "Successfully deleted irrelevant image: ./figures/figures_Nutrition/figure-10-8.jpg\n",
      "Successfully deleted irrelevant image: ./figures/figures_Nutrition/figure-11-9.jpg\n",
      "Successfully deleted irrelevant image: ./figures/figures_Nutrition/figure-12-10.jpg\n",
      "Successfully deleted irrelevant image: ./figures/figures_Nutrition/figure-13-11.jpg\n",
      "Successfully deleted irrelevant image: ./figures/figures_Nutrition/figure-14-13.jpg\n",
      "Successfully deleted irrelevant image: ./figures/figures_Nutrition/figure-16-15.jpg\n",
      "Successfully deleted irrelevant image: ./figures/figures_Nutrition/figure-17-16.jpg\n",
      "Successfully deleted irrelevant image: ./figures/figures_Nutrition/figure-18-17.jpg\n",
      "Successfully deleted irrelevant image: ./figures/figures_Nutrition/figure-19-19.jpg\n",
      "Successfully deleted irrelevant image: ./figures/figures_Nutrition/figure-21-21.jpg\n",
      "Finished deleting images. Total deleted: 17\n"
     ]
    }
   ],
   "source": [
    "print(\"🗑️ Deleting irrelevant images...\")\n",
    "delete_irrelevant_images(images_raw, relevant_images_to_summarize)"
   ]
  },
  {
   "cell_type": "markdown",
   "metadata": {},
   "source": [
    "# Inspecting Retrieved Docs"
   ]
  },
  {
   "cell_type": "code",
   "execution_count": 13,
   "metadata": {},
   "outputs": [],
   "source": [
    "query = \"What would be the ideal weight of a 1 year old and a 4 years old neutered cat?\""
   ]
  },
  {
   "cell_type": "code",
   "execution_count": 14,
   "metadata": {},
   "outputs": [
    {
     "name": "stdout",
     "output_type": "stream",
     "text": [
      "---------------------------------------- Here are the retrieved original_docs with similarity scores ----------------------------------------\n",
      "----------------------------------------\n",
      "🔎 Similarity Score: 0.6388\n",
      "📝 Summary/Chunk: For geriatric cats, adjust their diet to prevent obesity:\n",
      "\n",
      "* Reduce calories by up to 30%\n",
      "* Feed canned food in smaller portions (divide daily ration into 2-3 parts) and warm it slightly before feeding\n",
      "* Consider 3-4 meals a day for underweight cats.\n",
      "📄 Full Original Content: FEEDING GERIATRIC CATS Preventing obesity is the single most important thing you can do to prolong the life of an older cat. Geriatric cats are less active and may require up to 30 percent fewer calories than do younger cats. If the cat’s diet is not adjusted accord- ingly, overfeeding will result in weight gain. If you are feeding canned cat food, divide the daily ration into two or three equal parts and feed them at regular intervals throughout the day. Although canned foods need to be stored in the refrigerator once opened, many geriatric cats will eat better if the food is slightly warmed before feeding. Underweight cats may be better off with three or four meals a day.\n",
      "Summary Metadata: {'type': 'text', 'doc_id': '2d359717-e6ab-4625-a52d-ab693fbb1834'}\n",
      "Original Metadata: {'type': 'text', 'doc_id': '2d359717-e6ab-4625-a52d-ab693fbb1834'}\n",
      "----------------------------------------\n",
      "🔎 Similarity Score: 0.6745\n",
      "📝 Summary/Chunk: To introduce a new diet to your cat, mix original and new foods (80% original, 20% new) for a few weeks until the cat accepts it. Gradually increase new food while reducing original food. If the cat refuses, don't starve her, as some cats may refuse certain foods and won't eat at all.\n",
      "📄 Full Original Content: Switching Diets 510 • CAT OWNER’S HOME VETERINARY HANDBOOK eating several different foods early on. If the cat refuses to eat the new diet, you can switch the food gradually. Mix together 80 percent of the original food and 20 percent of the new food, and feed the mixture until the cat accepts it. When she does, gradually increase the amount of new food while reducing the original food until the switch is complete. This could take several weeks. If a cat will not eat a new food, don’t assume she will eventually eat rather than starve herself. Some cats will starve themselves rather than eat a food they find unacceptable.\n",
      "Summary Metadata: {'doc_id': '594ccc10-ada9-4f3a-8b09-e7cf5f9fc4d2', 'type': 'text'}\n",
      "Original Metadata: {'doc_id': '594ccc10-ada9-4f3a-8b09-e7cf5f9fc4d2', 'type': 'text'}\n",
      "----------------------------------------\n",
      "🔎 Similarity Score: 0.6867\n",
      "📝 Summary/Chunk: Here's a concise summary:\n",
      "\n",
      "* A cat's nutritional needs vary depending on body type, activity level, coat, metabolism, and individual factors.\n",
      "* Each cat is unique, so monitoring food intake and adjusting based on activity level and metabolic rate is crucial.\n",
      "* Cats require more calories for non-maintenance activities, such as pregnancy and lactation.\n",
      "* Consider offering multiple nutritionally complete cat foods to determine your cat's preferences and adjust feeding accordingly.\n",
      "* Feeding free choice can be suitable for active cats, but not recommended for obese cats.\n",
      "📄 Full Original Content: th 7 Body type, activity level, coat, individual metabolism, and a host of other factors affect how much food a cats needs. This lithe, active Abyssinian will need more calories per day than a sedentary, heavy-bodied cat. The bottom line on feeding requirements is that each cat is an individual. You need to look at your cat objectively and determine the correct amount of food based on her activity level and metabolic rate, as well as the nutrient density of the food you feed her. Cats vary widely in the amount of food required to maintain normal body weight and should be fed whatever is necessary to maintain the ideal body condition. This means the ribs cannot be seen but are easily felt, and the abdomen is trim but not flabby. Older, sedentary cats require fewer calories than the amounts indicated in the table, while active cats require more. Considerably more food is required for nonmaintenance activities, such as pregnancy and lactation. Select several nutritionally complete cat foods and offer them one at a time to your cat for several days in succession. Note which ones your cat seems to like best. Having found two or three products acceptable to your cat, use them interchangeably to provide variety and appetite appeal. This is also a good idea in case of food recalls so that your cat will eat another food. Cats may be fed free choice, where dry food is available at all times, if the cat is active and maintains good body condition. (Canned products should be fed twice a day, at the same time each day, and left out for just 20 minutes. After that, throw away what hasn’t been eaten in the cat’s dish.) If your cat tends toward obesity, however, food should not be left down free choice. Even dry food can be put out for just 10 or 15 minutes two or three times a day. Here it becomes important to consult page 503 to determine caloric requirements—with a view to keeping the cat healthy and trim. There are advantages to feeding meals. You will know how much your cat is eating and whether your cat is eating at all. Regular meals give the cat something to look forward to. For a cat on medication, feeding meals makes it —o—\n",
      "Summary Metadata: {'doc_id': '2591805c-2d42-4cea-8b0c-e9dd80f213a4', 'type': 'text'}\n",
      "Original Metadata: {'type': 'text', 'doc_id': '2591805c-2d42-4cea-8b0c-e9dd80f213a4'}\n",
      "----------------------------------------\n",
      "🔎 Similarity Score: 0.7109\n",
      "📝 Summary/Chunk: Older cats require more vitamins and minerals due to decreased absorption. Key supplements:\n",
      "\n",
      "* Added B vitamins in high-quality commercial foods\n",
      "* Balanced calcium and phosphorus (1:2 ratio) to prevent bone softening\n",
      "* Optional vitamin and mineral supplements if necessary, especially for eating issues\n",
      "* Low-magnesium diets may be beneficial for FLUTD cats\n",
      "📄 Full Original Content: Vitamins and Minerals Older cats need more vitamins and minerals, because their ability to absorb vitamins through the intestinal tract diminishes as they age. In addition, B vitamins are lost in the urine of cats with reduced kidney function. Calcium and phosphorus in correct balance (1.2:1) help prevent softening of the bones. Most high-quality commercial foods for geriatric cats contain added B vitamins and balanced minerals. If you are feeding one of these products, you should not need to add vitamin and mineral supplements. If the cat has an eating problem, however, discuss supplements with your veterinarian. A food that’s low in magnesium (less than 0.1 percent on a dry-weight basis) is an important consideration for cats suffering from FLUTD. However, low-magnesium diets are not necessarily recommended for all cats. —o—\n",
      "Summary Metadata: {'type': 'text', 'doc_id': '4d8a1fd4-391e-404c-a910-1f68eb74cbf4'}\n",
      "Original Metadata: {'type': 'text', 'doc_id': '4d8a1fd4-391e-404c-a910-1f68eb74cbf4'}\n",
      "----------------------------------------\n",
      "🔎 Similarity Score: 0.7117\n",
      "📝 Summary/Chunk: Kittens require a high-protein (10-30% on a dry matter basis) and high-fat (20-40% on a dry matter basis) diet to support their rapid growth and energy needs.\n",
      "📄 Full Original Content: FEEDING KITTENS Fast-growing, energetic kittens need much more protein and fat in their diet than adults need.\n",
      "Summary Metadata: {'doc_id': 'ff7a3a37-91d7-4514-99ba-5901839cdeb0', 'type': 'text'}\n",
      "Original Metadata: {'type': 'text', 'doc_id': 'ff7a3a37-91d7-4514-99ba-5901839cdeb0'}\n",
      "----------------------------------------\n",
      "🔎 Similarity Score: 0.7210\n",
      "📝 Summary/Chunk: Customized diets are available to treat or control various health issues in cats, such as allergies, food intolerance, kidney problems, diabetes, and certain types of urinary stones. These diets should only be started under the guidance of a veterinarian, as they may cause harm if given to healthy cats.\n",
      "📄 Full Original Content: Diets for Health Problems Great progress has been made in developing diets that are helpful in treating and/or controlling health problems in cats. Many of these are available only by prescription or through your veterinarian. These diets are customized to be ideal for certain health problems, such as allergies and food intolerance, kid- ney problems, diabetes, and certain types of urinary stones. Do not start your cat on one of these diets without veterinary supervision, as they may cause problems for a cat with normal health.\n",
      "Summary Metadata: {'type': 'text', 'doc_id': 'bb71f754-42a4-4b5f-a868-260022c1985e'}\n",
      "Original Metadata: {'doc_id': 'bb71f754-42a4-4b5f-a868-260022c1985e', 'type': 'text'}\n",
      "----------------------------------------\n",
      "🔎 Similarity Score: 0.7221\n",
      "📝 Summary/Chunk: Switching diets may be necessary for cats with health issues. Accustoming your cat to a new food can help reduce stress during the transition.\n",
      "📄 Full Original Content: Switching Diets It may become necessary to adjust a cat’s diet and switch to a new food because of a health problem. This is yet another reason to get your cat accustomed to —o—\n",
      "Summary Metadata: {'doc_id': '4563452b-4eb0-492e-abc3-367afdd21674', 'type': 'text'}\n",
      "Original Metadata: {'type': 'text', 'doc_id': '4563452b-4eb0-492e-abc3-367afdd21674'}\n",
      "----------------------------------------\n",
      "🔎 Similarity Score: 0.7342\n",
      "📝 Summary/Chunk: Here's a concise summary:\n",
      "\n",
      "Cats are obligate carnivores requiring high amounts of protein (at least 26%) and fat in their diet. Due to enzyme deficiencies, they prefer to metabolize protein and fat as energy rather than carbohydrates. Feeding dog food to cats can lead to nutrient deficiencies. A balanced cat diet should consist of: \n",
      "- At least 26% protein\n",
      "- Adequate fat content\n",
      "- No more than 3% carbohydrates\n",
      "📄 Full Original Content: Basic Nutritional Requirements Cats are obligate carnivores, which means that in the wild, they subsist on a diet that consists only of meat. The ideal natural cat diet, the mouse, is 40 percent protein, 50 percent fat, and only 3 percent carbohydrates. In fact, cats require considerably more protein than dogs do—about two to three times as much. Never feed dog food to a cat! The diet will be deficient in many nutrients. Due to their natural diet and certain enzyme deficiencies, cats are some- what uniquely adapted to metabolize protein and fat as energy, in preference to carbohydrates. Even when a cat is on a limited protein diet, her body will try to use up all protein first. For this reason, it is easy for a sick cat who is not eating well to quickly become protein deficient. The diet of an adult cat must be at least 26 percent protein. Cats also need adequate fat in their diet. Fat is —o—\n",
      "Summary Metadata: {'type': 'text', 'doc_id': 'b1aa15f3-57aa-4c55-80c7-78a56a8864b4'}\n",
      "Original Metadata: {'doc_id': 'b1aa15f3-57aa-4c55-80c7-78a56a8864b4', 'type': 'text'}\n",
      "----------------------------------------\n",
      "🔎 Similarity Score: 0.7375\n",
      "📝 Summary/Chunk: Older cats are less tolerant of dietary and water changes. Gradually introduce changes to prevent stress and ensure smooth transition.\n",
      "📄 Full Original Content: WY 508 • CAT OWNER’S HOME VETERINARY HANDBOOK And remember that older cats are less tolerant of changes in diet, and even of changes in drinking water. When changes are necessary, make them gradu- ally (see Switching Diets, page 509).\n",
      "Summary Metadata: {'doc_id': '19361f8f-503f-4a76-afee-e2ddf7a9a25c', 'type': 'text'}\n",
      "Original Metadata: {'doc_id': '19361f8f-503f-4a76-afee-e2ddf7a9a25c', 'type': 'text'}\n",
      "----------------------------------------\n",
      "🔎 Similarity Score: 0.7488\n",
      "📝 Summary/Chunk: Key feeding errors for cats include:\n",
      "\n",
      "* Feeding dog food due to high protein and B vitamin requirements\n",
      "* Overdosing on vitamins A and D, or calcium and phosphorus\n",
      "* Excess amounts can lead to serious health issues, including:\n",
      " + Vitamin A deficiency (night blindness, retinal degeneration)\n",
      " + Taurine deficiency\n",
      " + Niacin deficiency\n",
      " + Metabolic bone disease\n",
      " + Kidney disease\n",
      "📄 Full Original Content: Common Feeding Errors A frequent error is feeding dog food. Never feed dog food to a cat! Cats require twice as much protein and B vitamins as do dogs. Cats, unlike dogs, cannot convert certain dietary precursors into necessary amino acids and water soluble vitamins. A cat given dog food over a long period can develop taurine deficiency, vitamin A deficiency (night blindness), niacin deficiency, retinal degeneration, and other serious or fatal illnesses. Another common error is to overdose a cat with vitamins A and D or cal- cium and phosphorus, either by giving the vitamins directly or by supple- menting the diet with products that are high in them (such as raw liver or fish oils). Excess vitamin A causes sterility and loss of hair. Excess calcium, phos- phorus, and vitamin D cause metabolic bone and kidney disease. —o—\n",
      "Summary Metadata: {'doc_id': '3e7062d2-72ea-4ec3-89aa-94d8c0ae3417', 'type': 'text'}\n",
      "Original Metadata: {'doc_id': '3e7062d2-72ea-4ec3-89aa-94d8c0ae3417', 'type': 'text'}\n"
     ]
    }
   ],
   "source": [
    "print('-'*40, \"Here are the retrieved original_docs with similarity scores\",'-'*40)\n",
    "\n",
    "results = retriever.retrieve(query, k=10)\n",
    "for res in results:\n",
    "    print('-' * 40)\n",
    "    print(f\"🔎 Similarity Score: {res['score']:.4f}\")\n",
    "    print(\"📝 Summary/Chunk:\", res[\"summary\"])\n",
    "    print(\"📄 Full Original Content:\", res[\"original\"])\n",
    "    print(\"Summary Metadata:\", res[\"summary_metadata\"])\n",
    "    print(\"Original Metadata:\", res[\"original_metadata\"])"
   ]
  },
  {
   "cell_type": "markdown",
   "metadata": {},
   "source": [
    "# Let's Generate A Test Query"
   ]
  }
 ],
 "metadata": {
  "kernelspec": {
   "display_name": "Python 3",
   "language": "python",
   "name": "python3"
  },
  "language_info": {
   "codemirror_mode": {
    "name": "ipython",
    "version": 3
   },
   "file_extension": ".py",
   "mimetype": "text/x-python",
   "name": "python",
   "nbconvert_exporter": "python",
   "pygments_lexer": "ipython3",
   "version": "3.12.1"
  }
 },
 "nbformat": 4,
 "nbformat_minor": 2
}
