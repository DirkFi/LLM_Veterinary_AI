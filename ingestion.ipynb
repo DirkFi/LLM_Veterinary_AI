{
 "cells": [
  {
   "cell_type": "code",
   "execution_count": 1,
   "metadata": {},
   "outputs": [],
   "source": [
    "# Install dependencies if needed\n",
    "# !pip install langchain langchain-experimental langchain-chroma pillow open_clip_torch torch matplotlib unstructured pydantic\n",
    "import os\n",
    "from textbook_loading import (\n",
    "    load_book,\n",
    "    clean_and_categorize_elements,\n",
    "    summarize_elements,\n",
    "    store_in_chromadb,\n",
    "    delete_irrelevant_images\n",
    ")"
   ]
  },
  {
   "cell_type": "code",
   "execution_count": 2,
   "metadata": {},
   "outputs": [],
   "source": [
    "pdf_file = './data/shortExample_PARASITES.pdf'\n",
    "image_output_dir = './figures/figures_Parasites'\n",
    "chroma_persist_dir = './chroma/textbook_test_Parasites/'\n",
    "\n",
    "# Make sure the data directory exists\n",
    "assert os.path.exists('./data'), \"Error: './data' directory not found.\"\n",
    "assert os.path.exists(pdf_file), f\"Error: PDF file not found at {pdf_file}.\""
   ]
  },
  {
   "cell_type": "code",
   "execution_count": 3,
   "metadata": {},
   "outputs": [
    {
     "name": "stdout",
     "output_type": "stream",
     "text": [
      "📚 Loading and partitioning PDF elements...\n"
     ]
    },
    {
     "name": "stderr",
     "output_type": "stream",
     "text": [
      "The `max_size` parameter is deprecated and will be removed in v4.26. Please specify in `size['longest_edge'] instead`.\n"
     ]
    },
    {
     "name": "stdout",
     "output_type": "stream",
     "text": [
      "✅ Found 193 raw elements.\n"
     ]
    }
   ],
   "source": [
    "print(\"📚 Loading and partitioning PDF elements...\")\n",
    "raw_pdf_elements = load_book(pdf_file, image_output_dir)\n",
    "print(f\"✅ Found {len(raw_pdf_elements)} raw elements.\")"
   ]
  },
  {
   "cell_type": "code",
   "execution_count": 4,
   "metadata": {},
   "outputs": [
    {
     "name": "stdout",
     "output_type": "stream",
     "text": [
      "🧹 Cleaning and categorizing elements...\n",
      "Categorized: 40 text chunks, 1 tables, 18 images.\n"
     ]
    }
   ],
   "source": [
    "print(\"🧹 Cleaning and categorizing elements...\")\n",
    "texts, tables, images_raw, _, _, _, _, _ = clean_and_categorize_elements(raw_pdf_elements)\n",
    "print(f\"Categorized: {len(texts)} text chunks, {len(tables)} tables, {len(images_raw)} images.\")"
   ]
  },
  {
   "cell_type": "code",
   "execution_count": 5,
   "metadata": {},
   "outputs": [
    {
     "name": "stdout",
     "output_type": "stream",
     "text": [
      "📝 Summarizing text, tables, and relevant images...\n",
      "Checking image relevance with local textual context...\n",
      "Skipping irrelevant image: ./figures/figures_Parasites/figure-1-1.jpg\n",
      "Skipping irrelevant image: ./figures/figures_Parasites/figure-2-3.jpg\n",
      "Skipping irrelevant image: ./figures/figures_Parasites/figure-3-4.jpg\n",
      "Skipping irrelevant image: ./figures/figures_Parasites/figure-4-5.jpg\n",
      "Skipping irrelevant image: ./figures/figures_Parasites/figure-6-7.jpg\n",
      "Skipping irrelevant image: ./figures/figures_Parasites/figure-7-8.jpg\n",
      "Skipping irrelevant image: ./figures/figures_Parasites/figure-8-10.jpg\n",
      "Skipping irrelevant image: ./figures/figures_Parasites/figure-10-14.jpg\n",
      "Skipping irrelevant image: ./figures/figures_Parasites/figure-11-15.jpg\n",
      "Skipping irrelevant image: ./figures/figures_Parasites/figure-12-16.jpg\n",
      "Skipping irrelevant image: ./figures/figures_Parasites/figure-13-17.jpg\n",
      "Skipping irrelevant image: ./figures/figures_Parasites/figure-14-18.jpg\n",
      "Number of relevant images for summarization: 6\n",
      "📊 Summarized: 40 text summaries, 1 table summaries, 6 image summaries.\n"
     ]
    }
   ],
   "source": [
    "print(\"📝 Summarizing text, tables, and relevant images...\")\n",
    "text_summaries, table_summaries, img_summaries, image_paths, relevant_images_to_summarize = summarize_elements(\n",
    "    texts, tables, images_raw\n",
    ")\n",
    "print(f\"📊 Summarized: {len(text_summaries)} text summaries, {len(table_summaries)} table summaries, {len(img_summaries)} image summaries.\")"
   ]
  },
  {
   "cell_type": "code",
   "execution_count": 6,
   "metadata": {},
   "outputs": [
    {
     "name": "stdout",
     "output_type": "stream",
     "text": [
      "💾 Storing data into ChromaDB at ./chroma/textbook_test_Parasites/...\n",
      "🎉 Data ingestion complete. Retriever initialized.\n"
     ]
    }
   ],
   "source": [
    "print(f\"💾 Storing data into ChromaDB at {chroma_persist_dir}...\")\n",
    "#Returns a UnifiedRetriever class: def __init__(self, vectorstore, docstore, id_key=\"doc_id\"):\n",
    "retriever = store_in_chromadb(\n",
    "    text_summaries, texts, table_summaries, tables, img_summaries, image_paths, persist_directory=chroma_persist_dir\n",
    ")\n",
    "print(\"🎉 Data ingestion complete. Retriever initialized.\")"
   ]
  },
  {
   "cell_type": "code",
   "execution_count": 7,
   "metadata": {},
   "outputs": [
    {
     "name": "stdout",
     "output_type": "stream",
     "text": [
      "🗑️ Deleting irrelevant images...\n",
      "Successfully deleted irrelevant image: ./figures/figures_Parasites/figure-1-1.jpg\n",
      "Successfully deleted irrelevant image: ./figures/figures_Parasites/figure-2-3.jpg\n",
      "Successfully deleted irrelevant image: ./figures/figures_Parasites/figure-3-4.jpg\n",
      "Successfully deleted irrelevant image: ./figures/figures_Parasites/figure-4-5.jpg\n",
      "Successfully deleted irrelevant image: ./figures/figures_Parasites/figure-6-7.jpg\n",
      "Successfully deleted irrelevant image: ./figures/figures_Parasites/figure-7-8.jpg\n",
      "Successfully deleted irrelevant image: ./figures/figures_Parasites/figure-8-10.jpg\n",
      "Successfully deleted irrelevant image: ./figures/figures_Parasites/figure-10-14.jpg\n",
      "Successfully deleted irrelevant image: ./figures/figures_Parasites/figure-11-15.jpg\n",
      "Successfully deleted irrelevant image: ./figures/figures_Parasites/figure-12-16.jpg\n",
      "Successfully deleted irrelevant image: ./figures/figures_Parasites/figure-13-17.jpg\n",
      "Successfully deleted irrelevant image: ./figures/figures_Parasites/figure-14-18.jpg\n",
      "Finished deleting images. Total deleted: 12\n"
     ]
    }
   ],
   "source": [
    "print(\"🗑️ Deleting irrelevant images...\")\n",
    "delete_irrelevant_images(images_raw, relevant_images_to_summarize)"
   ]
  },
  {
   "cell_type": "markdown",
   "metadata": {},
   "source": [
    "# Inspecting Retrieved Docs"
   ]
  },
  {
   "cell_type": "code",
   "execution_count": 14,
   "metadata": {},
   "outputs": [],
   "source": [
    "query = \"What is dipylidium caninum? What's the life cycle of dipylidium caninum?\""
   ]
  },
  {
   "cell_type": "code",
   "execution_count": 15,
   "metadata": {},
   "outputs": [
    {
     "name": "stdout",
     "output_type": "stream",
     "text": [
      "---------------------------------------- Here are the retrieved original_docs with similarity scores ----------------------------------------\n",
      "----------------------------------------\n",
      "🔎 Similarity Score: 1.1406\n",
      "📝 Summary/Chunk: The image illustrates a detailed depiction of the life cycle of Dipylidium caninum, also known as canine hair mites. As part of a veterinary handbook for pet owners, it serves to educate on parasitic infections affecting domestic animals.\n",
      "\n",
      "From this perspective:\n",
      "- The first stage shows segments passing in stool or found around a cat's recumbent body.\n",
      "  - **Search Term:** Cat fecal examination\n",
      "   This highlights the initial stages where mite segments are likely present without active infection symptoms, indicating potential exposure to parasites. \n",
      "\n",
      "- In the second phase, these segments are ingested by fleas when they bite and attach to them for feeding.\n",
      "\n",
      "  - **Search Term:** Flea lifecycle control\n",
      "\n",
      "- The third depiction shows a cat ingesting the flea containing mite eggs during grooming behavior.\n",
      "   This step is crucial as it introduces active transmission of the parasite from one animal to another. \n",
      "\n",
      "By explaining these steps, this veterinary context underscores how pet owners should be vigilant about their pets' health and cleanliness, especially in environments where parasites thrive.\n",
      "\n",
      "**Search Term:** Pet parasitic infections\n",
      "📄 Full Original Content: ./figures/figures_Parasites/figure-9-11.jpg\n",
      "Summary Metadata: {'type': 'image', 'image_path': './figures/figures_Parasites/figure-9-11.jpg', 'doc_id': '1ef34648-9eea-4b00-8d54-e913a6dff8b0'}\n",
      "Original Metadata: {'doc_id': '1ef34648-9eea-4b00-8d54-e913a6dff8b0', 'type': 'image'}\n",
      "----------------------------------------\n",
      "🔎 Similarity Score: 1.1586\n",
      "📝 Summary/Chunk: The two common tapeworm species found in cats are *Echinococcus granulosus* (also known as the dog tapeworm) and *Dipylidium caninum*.\n",
      "📄 Full Original Content: Tapeworms There are two com- mon tapeworm species found in cats; both are —o—\n",
      "Summary Metadata: {'doc_id': '96d812ce-5494-4996-b0c5-44a3e9a22999', 'type': 'text'}\n",
      "Original Metadata: {'doc_id': '96d812ce-5494-4996-b0c5-44a3e9a22999', 'type': 'text'}\n",
      "----------------------------------------\n",
      "🔎 Similarity Score: 1.2299\n",
      "📝 Summary/Chunk: Here's a concise summary:\n",
      "\n",
      "* Cat gets tapeworm Dipylidium caninum through flea or lice bites.\n",
      "* Tapeworm is transmitted from intermediate hosts (e.g., rodents) by eating infected insects.\n",
      "* Cats can also get tapeworm from:\n",
      " + Eating infected rodents\n",
      " + Consuming uncooked meat, raw fish, or animal parts\n",
      "* Actionable advice: Keep fleas and lice under control, avoid eating raw or undercooked meat, and clean up food scraps to prevent rodent infestation.\n",
      "📄 Full Original Content: ft AL? Segments pass in the stool and around the cat’s rec- tum (1). The segments or individual egg packets are eaten by rodents (2). The cat then ingests the rodent while hunting (3). transmitted by an intermediate host. Dipylidium caninum is acquired from fleas or lice that harbor immature tapeworms in their intestines. These insects acquire the parasite by eating tapeworm eggs. The cat must bite or swallow the insect to become infested. The tapeworm Taenia taeniaformis is acquired by eat- ing rodents, uncooked meat, raw freshwater fish, or discarded animal parts.\n",
      "Summary Metadata: {'doc_id': '04322a5c-4d4d-48f8-95c2-dabd15c0cf77', 'type': 'text'}\n",
      "Original Metadata: {'doc_id': '04322a5c-4d4d-48f8-95c2-dabd15c0cf77', 'type': 'text'}\n",
      "----------------------------------------\n",
      "🔎 Similarity Score: 1.3626\n",
      "📝 Summary/Chunk: Here is a concise summary:\n",
      "\n",
      "Toxoplasmosis is caused by Toxoplasma gondii, a protozoan parasite found in cats, typically acquired through eating infected birds or rodents or contaminated soil. Cats are the primary host, but other warm-blooded animals can also be infected.\n",
      "📄 Full Original Content: TOXOPLASMOSIS This disease is caused by the protozoan Toxoplasma gondii. Cats are likely to acquire the infection by consuming infected birds or rodents or, rarely, by ingesting oocysts in contaminated soil. Cats are the primary host for this obli- gate intracellular parasite (a parasite that can only exist inside the living cell of another organism), but it can infect other warm-blooded animals. —o—\n",
      "Summary Metadata: {'doc_id': 'e114b51c-0847-436f-9847-554bf862bbeb', 'type': 'text'}\n",
      "Original Metadata: {'doc_id': 'e114b51c-0847-436f-9847-554bf862bbeb', 'type': 'text'}\n",
      "----------------------------------------\n",
      "🔎 Similarity Score: 1.3643\n",
      "📝 Summary/Chunk: Key points:\n",
      "\n",
      "* Gastrointestinal parasites can cause weight loss, diarrhea, and lethargy in pets.\n",
      "* Common types include hookworms, roundworms, and tapeworms.\n",
      "* Regular deworming medication is essential for pet owners to prevent infestations.\n",
      "* Symptoms of parasitic infection may vary depending on the type of parasite.\n",
      "📄 Full Original Content: Ff 7 GASTROINTESTINAL PARASITES • 57\n",
      "Summary Metadata: {'doc_id': '40ac847c-529a-47c8-b745-deb6c3b6a3b5', 'type': 'text'}\n",
      "Original Metadata: {'doc_id': '40ac847c-529a-47c8-b745-deb6c3b6a3b5', 'type': 'text'}\n",
      "----------------------------------------\n",
      "🔎 Similarity Score: 1.3806\n",
      "📝 Summary/Chunk: Here's a concise summary:\n",
      "\n",
      "Trichinosis is a disease caused by eating uncooked pork with Trichina spiralis larvae. It affects people (15% US population) and pets (likely more in cats & dogs). Symptoms include muscle pain, headaches, and joint pain. To prevent: keep pets from roaming, cook all fresh meat, and have your vet administer mebendazole treatment if infected.\n",
      "📄 Full Original Content: TRICHINOSIS Trichinosis is acquired by ingesting uncooked pork that contains the encysted larvae of Trichina spiralis. It is estimated that 15 percent of the people living in the United States have, at some time, acquired trichinosis, although only a few clinical cases are reported each year. The incidence is probably somewhat higher in cats and dogs. Signs include muscle pain, headaches, and joint pain. Prevent this disease by keeping your cat from roaming, particularly if you live in a rural area. Cook all fresh meat (your own and your cat’s). Treatment: This involves using the drug mebendazole, under the supervi- sion of your veterinarian.\n",
      "Summary Metadata: {'doc_id': '69e1c309-b2db-4d1d-8672-3023d2ae8d54', 'type': 'text'}\n",
      "Original Metadata: {'type': 'text', 'doc_id': '69e1c309-b2db-4d1d-8672-3023d2ae8d54'}\n",
      "----------------------------------------\n",
      "🔎 Similarity Score: 1.3809\n",
      "📝 Summary/Chunk: The image depicts a diagnostic tool used in veterinary medicine for identifying and diagnosing internal parasites such as tapeworms like Dipylidium caninum mentioned in the context provided. In this case, it is likely that an ultrasound scan of either canine skin folds could be shown to identify larval stages of parasitic infestation by Dipylidium species or other similar ectoparasites.\n",
      "\n",
      "The search terms for such a scenario would include \"ultrasound diagnosis,\" \"tapeworm detection in dogs,\" and possibly specific references related to the life cycle of Tapeworms like D. caninum, including sources that discuss how it's transmitted by an intermediate host through flea or lice infestation as described.\n",
      "📄 Full Original Content: ./figures/figures_Parasites/figure-9-13.jpg\n",
      "Summary Metadata: {'type': 'image', 'image_path': './figures/figures_Parasites/figure-9-13.jpg', 'doc_id': '61aa30b5-79be-4303-9bc0-00f72a88f3c7'}\n",
      "Original Metadata: {'type': 'image', 'doc_id': '61aa30b5-79be-4303-9bc0-00f72a88f3c7'}\n",
      "----------------------------------------\n",
      "🔎 Similarity Score: 1.3900\n",
      "📝 Summary/Chunk: Here's a concise summary:\n",
      "\n",
      "Whipworms are slender parasites that live in the large intestine. They're usually found incidentally, but don't typically cause disease in cats. Treatment: no treatment is required.\n",
      "📄 Full Original Content: WHIPWORMS These are slender parasites, 2 to 3 inches (50 to 76 mm) long that live in the cecum (the first part of the large intestine). Since they are thicker at one end, they have the appearance of a whip. Whipworms are usually found inciden- tally and are not known to cause disease in cats. Treatment: No treatment is necessary.\n",
      "Summary Metadata: {'doc_id': '9e51a9e2-03be-4918-859b-04bf1ea9f5c2', 'type': 'text'}\n",
      "Original Metadata: {'doc_id': '9e51a9e2-03be-4918-859b-04bf1ea9f5c2', 'type': 'text'}\n",
      "----------------------------------------\n",
      "🔎 Similarity Score: 1.4111\n",
      "📝 Summary/Chunk: Here's a concise summary:\n",
      "\n",
      "* Two uncommon tapeworms affecting cats are Dibothriocephalus latus and Spirometra mansonoides.\n",
      "* Common sources of infection include eating uncooked freshwater fish or water snakes, particularly in the Gulf Coast region.\n",
      "* Treatment options include praziquantel, fenbendazole, and espiprantal under veterinary guidance.\n",
      "* Preventive measures include deworming with flea control, preventing roaming for Dipylidium caninum, and controlling lice and fleas.\n",
      "* Public health risk is low unless accidental ingestion by a child occurs.\n",
      "📄 Full Original Content: WY GASTROINTESTINAL PARASITES • 65 Dibothriocephalus latus and Spirometra mansonoides are two uncommon tape- worms cats might acquire from eating uncooked freshwater fish or a water snake. Spirometra mansonoides is seen primarily in outdoor cats along the Gulf Coast region. Dibothriocephalus latus might be seen in the Gulf Coast region or around the Great Lakes. Echinococcus tapeworms are rarely found in cats. Treatment: Praziquantal is one of the most effective medications for both common species of cat tapeworm. Other suitable treatments are fenbendazole and espiprantal. Use under veterinary guidance. Deworming must be com- bined with control of fleas and lice (see A Suggested Flea-control Program, page 138), in the case of Dipylidium caninum, and by preventing roaming and hunting in the case of other tapeworms. Public health considerations: A child could acquire a tapeworm if they accidentally swallowed an infected flea. Except for this unusual circumstance, cat tapeworms do not present a hazard to human health.\n",
      "Summary Metadata: {'type': 'text', 'doc_id': '7284d39a-1102-4c1c-958c-f88b34d925ad'}\n",
      "Original Metadata: {'doc_id': '7284d39a-1102-4c1c-958c-f88b34d925ad', 'type': 'text'}\n",
      "----------------------------------------\n",
      "🔎 Similarity Score: 1.4521\n",
      "📝 Summary/Chunk: Here's a concise summary:\n",
      "\n",
      "Rare worm parasites affecting cats include eye worms (West Coast US), with no mention of heartworms as typically found in dogs.\n",
      "📄 Full Original Content: Other Worm Parasites All the parasites in this section occur rarely in cats. Heartworms are discussed in chapter 11 (see page 326). Eye worms occur among cats living on the West Coast of the United States. They are discussed in chapter 5 (see page 192). Pinworms, which are a common cause of concern to families with children, are not acquired or spread by cats.\n",
      "Summary Metadata: {'type': 'text', 'doc_id': '32c0677f-4bc1-47ec-a858-4fb739f1499d'}\n",
      "Original Metadata: {'doc_id': '32c0677f-4bc1-47ec-a858-4fb739f1499d', 'type': 'text'}\n"
     ]
    }
   ],
   "source": [
    "print('-'*40, \"Here are the retrieved original_docs with similarity scores\",'-'*40)\n",
    "\n",
    "results = retriever.retrieve(query, k=10)\n",
    "for res in results:\n",
    "    print('-' * 40)\n",
    "    print(f\"🔎 Similarity Score: {res['score']:.4f}\")\n",
    "    print(\"📝 Summary/Chunk:\", res[\"summary\"])\n",
    "    print(\"📄 Full Original Content:\", res[\"original\"])\n",
    "    print(\"Summary Metadata:\", res[\"summary_metadata\"])\n",
    "    print(\"Original Metadata:\", res[\"original_metadata\"])"
   ]
  }
 ],
 "metadata": {
  "kernelspec": {
   "display_name": "Python 3",
   "language": "python",
   "name": "python3"
  },
  "language_info": {
   "codemirror_mode": {
    "name": "ipython",
    "version": 3
   },
   "file_extension": ".py",
   "mimetype": "text/x-python",
   "name": "python",
   "nbconvert_exporter": "python",
   "pygments_lexer": "ipython3",
   "version": "3.12.1"
  }
 },
 "nbformat": 4,
 "nbformat_minor": 2
}
