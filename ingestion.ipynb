{
 "cells": [
  {
   "cell_type": "code",
   "execution_count": 1,
   "metadata": {},
   "outputs": [],
   "source": [
    "# Install dependencies if needed\n",
    "# !pip install langchain langchain-experimental langchain-chroma pillow open_clip_torch torch matplotlib unstructured pydantic\n",
    "import os\n",
    "from textbook_loading import (\n",
    "    load_book,\n",
    "    clean_and_categorize_elements,\n",
    "    summarize_elements,\n",
    "    store_in_chromadb,\n",
    "    delete_irrelevant_images\n",
    ")"
   ]
  },
  {
   "cell_type": "code",
   "execution_count": 2,
   "metadata": {},
   "outputs": [],
   "source": [
    "pdf_file = './data/first_n_second_Chapter_EmergencyInfectiveDisease.pdf'\n",
    "image_output_dir = './figures/Emergency_and_InfectiveDisease'\n",
    "chroma_persist_dir = './chroma/Emergency_and_InfectiveDisease/'\n",
    "\n",
    "# Make sure the data directory exists\n",
    "assert os.path.exists('./data'), \"Error: './data' directory not found.\"\n",
    "assert os.path.exists(pdf_file), f\"Error: PDF file not found at {pdf_file}.\""
   ]
  },
  {
   "cell_type": "code",
   "execution_count": null,
   "metadata": {},
   "outputs": [
    {
     "name": "stdout",
     "output_type": "stream",
     "text": [
      "📚 Loading and partitioning PDF elements...\n"
     ]
    }
   ],
   "source": [
    "print(\"📚 Loading and partitioning PDF elements...\")\n",
    "raw_pdf_elements = load_book(pdf_file, image_output_dir)\n",
    "print(f\"✅ Found {len(raw_pdf_elements)} raw elements.\")"
   ]
  },
  {
   "cell_type": "code",
   "execution_count": null,
   "metadata": {},
   "outputs": [],
   "source": [
    "print(\"🧹 Cleaning and categorizing elements...\")\n",
    "texts, tables, images_raw, _, _, _, _, _ = clean_and_categorize_elements(raw_pdf_elements)\n",
    "print(f\"Categorized: {len(texts)} text chunks, {len(tables)} tables, {len(images_raw)} images.\")"
   ]
  },
  {
   "cell_type": "code",
   "execution_count": null,
   "metadata": {},
   "outputs": [],
   "source": [
    "print(\"📝 Summarizing text, tables, and Checking relevant images...\")\n",
    "text_summaries, table_summaries, image_paths, relevant_images_to_summarize, image_contexts = summarize_elements(\n",
    "    texts, tables, images_raw\n",
    ")\n",
    "print(f\"📊 Summarized: {len(text_summaries)} text summaries, {len(table_summaries)} table summaries\")"
   ]
  },
  {
   "cell_type": "code",
   "execution_count": null,
   "metadata": {},
   "outputs": [],
   "source": [
    "print(f\"💾 Storing data into ChromaDB at {chroma_persist_dir}...\")\n",
    "#Returns a UnifiedRetriever class: def __init__(self, vectorstore, docstore, id_key=\"doc_id\"):\n",
    "retriever = store_in_chromadb(\n",
    "    text_summaries, texts, table_summaries, tables, image_paths,\n",
    "    relevant_images_to_summarize, image_contexts,\n",
    "    persist_directory=chroma_persist_dir\n",
    ")\n",
    "print(\"🎉 Data ingestion complete. Retriever initialized.\")"
   ]
  },
  {
   "cell_type": "code",
   "execution_count": null,
   "metadata": {},
   "outputs": [],
   "source": [
    "print(\"🗑️ Deleting irrelevant images...\")\n",
    "delete_irrelevant_images(images_raw, relevant_images_to_summarize)"
   ]
  },
  {
   "cell_type": "code",
   "execution_count": null,
   "metadata": {},
   "outputs": [],
   "source": [
    "import os\n",
    "\n",
    "# Path to your sound file (must be a supported format, e.g., .wav, .mp3)\n",
    "sound_file = \"/System/Library/Sounds/Glass.aiff\"  # macOS comes with some default sounds\n",
    "\n",
    "# Play the sound\n",
    "os.system(f\"afplay '{sound_file}'\")"
   ]
  },
  {
   "cell_type": "markdown",
   "metadata": {},
   "source": [
    "# Inspecting Retrieved Docs"
   ]
  },
  {
   "cell_type": "code",
   "execution_count": 20,
   "metadata": {},
   "outputs": [],
   "source": [
    "query = \"How to properly pick up a cat?\""
   ]
  },
  {
   "cell_type": "code",
   "execution_count": null,
   "metadata": {},
   "outputs": [],
   "source": [
    "print('-'*40, \"Here are the retrieved original_docs with similarity scores\",'-'*40)\n",
    "\n",
    "results = retriever.retrieve(query, k=10)\n",
    "for res in results:\n",
    "    print('-' * 40)\n",
    "    print(f\"🔎 Similarity Score: {res['score']:.4f}\")\n",
    "    print(\"📝 Summary/Chunk:\", res[\"summary\"])\n",
    "    print(\"📄 Full Original Content:\", res[\"original\"])\n",
    "    print(\"Summary Metadata:\", res[\"summary_metadata\"])\n",
    "    print(\"Original Metadata:\", res[\"original_metadata\"])"
   ]
  }
 ],
 "metadata": {
  "kernelspec": {
   "display_name": "Python 3",
   "language": "python",
   "name": "python3"
  },
  "language_info": {
   "codemirror_mode": {
    "name": "ipython",
    "version": 3
   },
   "file_extension": ".py",
   "mimetype": "text/x-python",
   "name": "python",
   "nbconvert_exporter": "python",
   "pygments_lexer": "ipython3",
   "version": "3.12.1"
  }
 },
 "nbformat": 4,
 "nbformat_minor": 2
}
