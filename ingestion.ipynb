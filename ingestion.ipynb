{
 "cells": [
  {
   "cell_type": "code",
   "execution_count": 1,
   "metadata": {},
   "outputs": [],
   "source": [
    "# Install dependencies if needed\n",
    "# !pip install langchain langchain-experimental langchain-chroma pillow open_clip_torch torch matplotlib unstructured pydantic\n",
    "import os\n",
    "from textbook_loading import (\n",
    "    load_book,\n",
    "    clean_and_categorize_elements,\n",
    "    summarize_elements,\n",
    "    store_in_chromadb,\n",
    "    delete_irrelevant_images\n",
    ")"
   ]
  },
  {
   "cell_type": "code",
   "execution_count": 2,
   "metadata": {},
   "outputs": [],
   "source": [
    "pdf_file = './data/shortExample_PARASITES.pdf'\n",
    "image_output_dir = './figures/figures_Parasites'\n",
    "chroma_persist_dir = './chroma/textbook_test_Parasites/'\n",
    "\n",
    "# Make sure the data directory exists\n",
    "assert os.path.exists('./data'), \"Error: './data' directory not found.\"\n",
    "assert os.path.exists(pdf_file), f\"Error: PDF file not found at {pdf_file}.\""
   ]
  },
  {
   "cell_type": "code",
   "execution_count": 3,
   "metadata": {},
   "outputs": [
    {
     "name": "stdout",
     "output_type": "stream",
     "text": [
      "📚 Loading and partitioning PDF elements...\n"
     ]
    },
    {
     "name": "stderr",
     "output_type": "stream",
     "text": [
      "The `max_size` parameter is deprecated and will be removed in v4.26. Please specify in `size['longest_edge'] instead`.\n"
     ]
    },
    {
     "name": "stdout",
     "output_type": "stream",
     "text": [
      "✅ Found 193 raw elements.\n"
     ]
    }
   ],
   "source": [
    "print(\"📚 Loading and partitioning PDF elements...\")\n",
    "raw_pdf_elements = load_book(pdf_file, image_output_dir)\n",
    "print(f\"✅ Found {len(raw_pdf_elements)} raw elements.\")"
   ]
  },
  {
   "cell_type": "code",
   "execution_count": 4,
   "metadata": {},
   "outputs": [
    {
     "name": "stdout",
     "output_type": "stream",
     "text": [
      "🧹 Cleaning and categorizing elements...\n",
      "Categorized: 40 text chunks, 1 tables, 18 images.\n"
     ]
    }
   ],
   "source": [
    "print(\"🧹 Cleaning and categorizing elements...\")\n",
    "texts, tables, images_raw, _, _, _, _, _ = clean_and_categorize_elements(raw_pdf_elements)\n",
    "print(f\"Categorized: {len(texts)} text chunks, {len(tables)} tables, {len(images_raw)} images.\")"
   ]
  },
  {
   "cell_type": "code",
   "execution_count": 5,
   "metadata": {},
   "outputs": [
    {
     "name": "stdout",
     "output_type": "stream",
     "text": [
      "📝 Summarizing text, tables, and relevant images...\n",
      "Checking image relevance with local textual context...\n",
      "Skipping irrelevant image: ./figures/figures_Parasites/figure-1-1.jpg\n",
      "Skipping irrelevant image: ./figures/figures_Parasites/figure-2-3.jpg\n",
      "Skipping irrelevant image: ./figures/figures_Parasites/figure-3-4.jpg\n",
      "Skipping irrelevant image: ./figures/figures_Parasites/figure-4-5.jpg\n",
      "Skipping irrelevant image: ./figures/figures_Parasites/figure-6-7.jpg\n",
      "Skipping irrelevant image: ./figures/figures_Parasites/figure-7-8.jpg\n",
      "Skipping irrelevant image: ./figures/figures_Parasites/figure-8-10.jpg\n",
      "Skipping irrelevant image: ./figures/figures_Parasites/figure-10-14.jpg\n",
      "Skipping irrelevant image: ./figures/figures_Parasites/figure-11-15.jpg\n",
      "Skipping irrelevant image: ./figures/figures_Parasites/figure-12-16.jpg\n",
      "Skipping irrelevant image: ./figures/figures_Parasites/figure-13-17.jpg\n",
      "Skipping irrelevant image: ./figures/figures_Parasites/figure-14-18.jpg\n",
      "Number of relevant images for summarization: 6\n",
      "📊 Summarized: 40 text summaries, 1 table summaries, 6 image summaries.\n"
     ]
    }
   ],
   "source": [
    "print(\"📝 Summarizing text, tables, and relevant images...\")\n",
    "text_summaries, table_summaries, img_summaries, image_paths, relevant_images_to_summarize = summarize_elements(\n",
    "    texts, tables, images_raw\n",
    ")\n",
    "print(f\"📊 Summarized: {len(text_summaries)} text summaries, {len(table_summaries)} table summaries, {len(img_summaries)} image summaries.\")"
   ]
  },
  {
   "cell_type": "code",
   "execution_count": 6,
   "metadata": {},
   "outputs": [
    {
     "name": "stdout",
     "output_type": "stream",
     "text": [
      "💾 Storing data into ChromaDB at ./chroma/textbook_test_Parasites/...\n",
      "🎉 Data ingestion complete. Retriever initialized.\n"
     ]
    }
   ],
   "source": [
    "print(f\"💾 Storing data into ChromaDB at {chroma_persist_dir}...\")\n",
    "#Returns a UnifiedRetriever class: def __init__(self, vectorstore, docstore, id_key=\"doc_id\"):\n",
    "retriever = store_in_chromadb(\n",
    "    text_summaries, texts, table_summaries, tables, img_summaries, image_paths, persist_directory=chroma_persist_dir\n",
    ")\n",
    "print(\"🎉 Data ingestion complete. Retriever initialized.\")"
   ]
  },
  {
   "cell_type": "code",
   "execution_count": 7,
   "metadata": {},
   "outputs": [
    {
     "name": "stdout",
     "output_type": "stream",
     "text": [
      "🗑️ Deleting irrelevant images...\n",
      "Successfully deleted irrelevant image: ./figures/figures_Parasites/figure-1-1.jpg\n",
      "Successfully deleted irrelevant image: ./figures/figures_Parasites/figure-2-3.jpg\n",
      "Successfully deleted irrelevant image: ./figures/figures_Parasites/figure-3-4.jpg\n",
      "Successfully deleted irrelevant image: ./figures/figures_Parasites/figure-4-5.jpg\n",
      "Successfully deleted irrelevant image: ./figures/figures_Parasites/figure-6-7.jpg\n",
      "Successfully deleted irrelevant image: ./figures/figures_Parasites/figure-7-8.jpg\n",
      "Successfully deleted irrelevant image: ./figures/figures_Parasites/figure-8-10.jpg\n",
      "Successfully deleted irrelevant image: ./figures/figures_Parasites/figure-10-14.jpg\n",
      "Successfully deleted irrelevant image: ./figures/figures_Parasites/figure-11-15.jpg\n",
      "Successfully deleted irrelevant image: ./figures/figures_Parasites/figure-12-16.jpg\n",
      "Successfully deleted irrelevant image: ./figures/figures_Parasites/figure-13-17.jpg\n",
      "Successfully deleted irrelevant image: ./figures/figures_Parasites/figure-14-18.jpg\n",
      "Finished deleting images. Total deleted: 12\n"
     ]
    }
   ],
   "source": [
    "print(\"🗑️ Deleting irrelevant images...\")\n",
    "delete_irrelevant_images(images_raw, relevant_images_to_summarize)"
   ]
  },
  {
   "cell_type": "markdown",
   "metadata": {},
   "source": [
    "# Inspecting Retrieved Docs"
   ]
  },
  {
   "cell_type": "code",
   "execution_count": 12,
   "metadata": {},
   "outputs": [],
   "source": [
    "query = \"What is dipylidium? What's the life cycle of dipylidium caninum? What if my cat got dipylidium?\""
   ]
  },
  {
   "cell_type": "code",
   "execution_count": 13,
   "metadata": {},
   "outputs": [
    {
     "name": "stdout",
     "output_type": "stream",
     "text": [
      "---------------------------------------- Here are the retrieved original_docs with similarity scores ----------------------------------------\n",
      "----------------------------------------\n",
      "🔎 Similarity Score: 0.9118\n",
      "📝 Summary/Chunk: Here's a concise summary:\n",
      "\n",
      "* Cat gets tapeworm Dipylidium caninum through flea or lice bites.\n",
      "* Tapeworm is transmitted from intermediate hosts (e.g., rodents) by eating infected insects.\n",
      "* Cats can also get tapeworm from:\n",
      " + Eating infected rodents\n",
      " + Consuming uncooked meat, raw fish, or animal parts\n",
      "* Actionable advice: Keep fleas and lice under control, avoid eating raw or undercooked meat, and clean up food scraps to prevent rodent infestation.\n",
      "📄 Full Original Content: ft AL? Segments pass in the stool and around the cat’s rec- tum (1). The segments or individual egg packets are eaten by rodents (2). The cat then ingests the rodent while hunting (3). transmitted by an intermediate host. Dipylidium caninum is acquired from fleas or lice that harbor immature tapeworms in their intestines. These insects acquire the parasite by eating tapeworm eggs. The cat must bite or swallow the insect to become infested. The tapeworm Taenia taeniaformis is acquired by eat- ing rodents, uncooked meat, raw freshwater fish, or discarded animal parts.\n",
      "Summary Metadata: {'type': 'text', 'doc_id': '04322a5c-4d4d-48f8-95c2-dabd15c0cf77'}\n",
      "Original Metadata: {'type': 'text', 'doc_id': '04322a5c-4d4d-48f8-95c2-dabd15c0cf77'}\n",
      "----------------------------------------\n",
      "🔎 Similarity Score: 0.9512\n",
      "📝 Summary/Chunk: The two common tapeworm species found in cats are *Echinococcus granulosus* (also known as the dog tapeworm) and *Dipylidium caninum*.\n",
      "📄 Full Original Content: Tapeworms There are two com- mon tapeworm species found in cats; both are —o—\n",
      "Summary Metadata: {'type': 'text', 'doc_id': '96d812ce-5494-4996-b0c5-44a3e9a22999'}\n",
      "Original Metadata: {'type': 'text', 'doc_id': '96d812ce-5494-4996-b0c5-44a3e9a22999'}\n",
      "----------------------------------------\n",
      "🔎 Similarity Score: 1.0030\n",
      "📝 Summary/Chunk: Here is a concise summary:\n",
      "\n",
      "Coccidiosis is a highly contagious disease affecting young kittens and adult cats, causing diarrhea and potentially severe complications like weakness, dehydration, and anemia. Infected cats shed oocysts in their feces, which can be transmitted to other cats through fecal contamination. Kittens acquire the disease from carrier mothers and may not show symptoms until after ingesting oocysts. Stress factors like overcrowding or malnutrition can increase susceptibility.\n",
      "📄 Full Original Content: COCCIDIOSIS Coccidiosis usually targets young kittens shortly after weaning, although adult cats can be affected. The disease is highly contagious. Immunity following recovery from infection is short-lived. Cats who recover often become carriers and shed adult oocysts in their feces. There are several species of coccidia. Only Cystoisospora (formerly known as Isospora) felis is directly transmitted by fecal contamination from cat to cat. Other species use birds and animals as intermediate transport hosts. These species complete their life cycle when the transport host is eaten by the cat. Kittens acquire Cystoisospora felis from mothers who are carriers. Five to seven days after ingesting the oocysts, infective cysts appear in the feces. Much of the life cycle takes place in the cells lining the small intestines. Diarrhea is the most common sign of infection. The feces are mucuslike and tinged with blood. In severe cases, a bloody diarrhea may develop. These cases are complicated by weakness, dehydration, and anemia. Coccidia can be found in the stools of kittens without causing problems, until some stress factor, such as overcrowding, malnutrition, weaning prob- lems, an outbreak of ascarids, or shipping reduces their resistance. Normal fecal flotations will pick up these parasites. —o—\n",
      "Summary Metadata: {'doc_id': '34d7f751-9327-4a75-9822-d6c771b8a120', 'type': 'text'}\n",
      "Original Metadata: {'doc_id': '34d7f751-9327-4a75-9822-d6c771b8a120', 'type': 'text'}\n",
      "----------------------------------------\n",
      "🔎 Similarity Score: 1.0041\n",
      "📝 Summary/Chunk: Here is a concise summary:\n",
      "\n",
      "Toxoplasmosis is caused by Toxoplasma gondii, a protozoan parasite found in cats, typically acquired through eating infected birds or rodents or contaminated soil. Cats are the primary host, but other warm-blooded animals can also be infected.\n",
      "📄 Full Original Content: TOXOPLASMOSIS This disease is caused by the protozoan Toxoplasma gondii. Cats are likely to acquire the infection by consuming infected birds or rodents or, rarely, by ingesting oocysts in contaminated soil. Cats are the primary host for this obli- gate intracellular parasite (a parasite that can only exist inside the living cell of another organism), but it can infect other warm-blooded animals. —o—\n",
      "Summary Metadata: {'doc_id': 'e114b51c-0847-436f-9847-554bf862bbeb', 'type': 'text'}\n",
      "Original Metadata: {'type': 'text', 'doc_id': 'e114b51c-0847-436f-9847-554bf862bbeb'}\n",
      "----------------------------------------\n",
      "🔎 Similarity Score: 1.0085\n",
      "📝 Summary/Chunk: Adult cats should be dewormed periodically. Deworming also treats Giardia infections.\n",
      "📄 Full Original Content: DEWORMING ADULT CATS Also treats giardia\n",
      "Summary Metadata: {'doc_id': '97df2abb-fbf3-4368-8258-e9aa92234424', 'type': 'text'}\n",
      "Original Metadata: {'type': 'text', 'doc_id': '97df2abb-fbf3-4368-8258-e9aa92234424'}\n",
      "----------------------------------------\n",
      "🔎 Similarity Score: 1.0348\n",
      "📝 Summary/Chunk: **Summary**\n",
      "\n",
      "Common parasite infestations in cats can cause diarrhea with blood and mucus. Treatment involves administering ivermectin or thiabendazole to effectively treat the infestation.\n",
      "📄 Full Original Content: WY 66 • CAT OWNER’S HOME VETERINARY HANDBOOK be passed to cats (and then back again.) These are not common parasites. Signs of infestation include diarrhea with blood and mucus. Treatment: The treatment is ivermectin or thiabendazole.\n",
      "Summary Metadata: {'doc_id': 'fa2570d9-d84e-4fc8-8697-22745b6d8d5d', 'type': 'text'}\n",
      "Original Metadata: {'type': 'text', 'doc_id': 'fa2570d9-d84e-4fc8-8697-22745b6d8d5d'}\n",
      "----------------------------------------\n",
      "🔎 Similarity Score: 1.0406\n",
      "📝 Summary/Chunk: Key points:\n",
      "\n",
      "* Cats can get toxoplasmosis from eating raw or undercooked meat, pork, beef, mutton, veal, or unpasteurized dairy products.\n",
      "* The disease is usually asymptomatic but can cause symptoms such as loss of appetite, lethargy, cough, and rapid breathing in infected cats.\n",
      "* Kittens may exhibit severe signs like encephalitis, liver insufficiency, or pneumonia if infected.\n",
      "* Pregnant women are at risk of infection through contact with contaminated feces or soil.\n",
      "* Treatment involves antibiotics like clindamycin to treat active infection.\n",
      "\n",
      "Prevention:\n",
      "\n",
      "* Avoid feeding raw meat or unpasteurized dairy products to cats.\n",
      "* Wash fresh vegetables and avoid contact with infected soil while gardening.\n",
      "* Many people, especially pregnant women and immunocompromised individuals, are at risk of infection.\n",
      "📄 Full Original Content: WY 68 • CAT OWNER’S HOME VETERINARY HANDBOOK Evidence strongly suggests that cats (and people) can also get the disease from eating raw or undercooked pork, beef, mutton, or veal or unpasteurized dairy products that contains toxoplasma organisms. In cats, the oocysts develop in the intestines and are passed out in the feces, so the feces of infected cats present another source of infection. These infective oocysts are only passed for a very short time after initial exposure. Cats and humans can transmit toxoplasma in utero to their unborn offspring. Feline intestinal toxoplasmosis is usually asymptomatic. When sympto- matic, it affects the brain, spinal cord, eyes, lymphatic system, and lungs. The most common signs are loss of appetite, lethargy, cough, and rapid breathing. Visual and neurological signs may be evident. Other signs are fever, weight loss, diarrhea, and swelling of the abdomen. Lymph nodes may enlarge. Kittens may exhibit encephalitis, liver insufficiency, or pneumonia. Prenatal infection may be responsible for abortion, stillbirths, and unexplained perina- tal deaths, including the fading kitten syndrome. Many cats that show clinical signs are concurrently infected with feline immunodeficiency virus (FIV) or feline leukemia virus (FeLV). The finding of T. gondii oocysts in the cat’s stool indicates the cat is cur- rently infective to other cats and people. Serologic tests (including ELISA) will show whether a cat has ever been exposed. A positive test in a healthy cat signifies that the cat has acquired active immunity and is therefore not a source of human contamination. To prevent this parasite, cats should not be fed raw meat or allowed to hunt. They also should not be given unpasteurized dairy products. If you have an indoor cat who eats only cat food, she’s not likely to ever be infected. Treatment: Antibiotics such as clindamycin are available to treat active infection and prevent the intestinal phase of oocyst shedding. Public health considerations: About half the human adult population shows serological evidence of having been exposed in the past. Men and women with protective antibodies probably will be immune to infection. However, the disease is a particular hazard when a pregnant woman without prior immunity is exposed to it. Immunocompromised people are also at risk. Toxoplasmosis infection in a pregnant woman can result in abortion, still- birth, and birth of babies with central nervous system infection. Cats are the only animals who pass on the infectious stage of this parasite through their feces, and this has given rise to the incorrect assumption that pregnant women should not have cats. If you are pregnant, it is not necessary to get rid of your cat! The majority of human cases—by a wide margin—come from eating raw or undercooked meat, particularly lamb or pork. Unpastuerized dairy products can also be a source of infection. Wash fresh vegetables carefully, because oocysts can also cling to bits of soil. And wear gloves while gardening to avoid contact with infected soil. —o—\n",
      "Summary Metadata: {'doc_id': '8f4d7e23-649e-47a4-920e-ad82bbbd598e', 'type': 'text'}\n",
      "Original Metadata: {'type': 'text', 'doc_id': '8f4d7e23-649e-47a4-920e-ad82bbbd598e'}\n",
      "----------------------------------------\n",
      "🔎 Similarity Score: 1.0501\n",
      "📝 Summary/Chunk: Here's a concise summary:\n",
      "\n",
      "Whipworms are slender parasites that live in the large intestine. They're usually found incidentally, but don't typically cause disease in cats. Treatment: no treatment is required.\n",
      "📄 Full Original Content: WHIPWORMS These are slender parasites, 2 to 3 inches (50 to 76 mm) long that live in the cecum (the first part of the large intestine). Since they are thicker at one end, they have the appearance of a whip. Whipworms are usually found inciden- tally and are not known to cause disease in cats. Treatment: No treatment is necessary.\n",
      "Summary Metadata: {'doc_id': '9e51a9e2-03be-4918-859b-04bf1ea9f5c2', 'type': 'text'}\n",
      "Original Metadata: {'doc_id': '9e51a9e2-03be-4918-859b-04bf1ea9f5c2', 'type': 'text'}\n",
      "----------------------------------------\n",
      "🔎 Similarity Score: 1.0889\n",
      "📝 Summary/Chunk: Here is a concise summary:\n",
      "\n",
      "Cats get flea infestations when the flea's egg segments pass through their stool and into their digestive system, where they're digested. As the cat grooms, it eats the fleas that were previously eating the eggs.\n",
      "📄 Full Original Content: ft AL? Segments pass in the stool and around the cat’s rec- tum (1). The segments or individual egg packets are eaten by fleas (2). The cat then ingests fleas while grooming (3).\n",
      "Summary Metadata: {'doc_id': 'a1be9343-582a-4291-a1af-7acbb842d2d1', 'type': 'text'}\n",
      "Original Metadata: {'type': 'text', 'doc_id': 'a1be9343-582a-4291-a1af-7acbb842d2d1'}\n",
      "----------------------------------------\n",
      "🔎 Similarity Score: 1.1046\n",
      "📝 Summary/Chunk: Here's a concise summary:\n",
      "\n",
      "Cats are prone to internal parasites, which can be transmitted through nursing, hunting, indoor exposure (e.g., new cat joining), or mosquito and flea infestations. Parasites like ascarids, tapeworms, and hookworms can cause health issues such as diarrhea, anemia, decreased appetite, and weight loss. Healthy adult cats develop some immunity to parasites, but this varies by type. Kittens and young cats are more susceptible to heavy infestations, while older cats show less significant clinical signs. Regular monitoring and treatment can help prevent and manage parasite infections.\n",
      "📄 Full Original Content: GASTROINTESTINAL PARASITES Most cats will suffer from internal parasites at some time in their lives. Kittens can be infected through nursing. Cats who go outside, especially if they hunt, are also prone to picking up parasites. Even cats who live completely indoors may be exposed from a new cat joining the family or by catching a mouse that snuck into the house. Mosquitoes and fleas inside your home can also carry parasites. The ideal parasite lives in its host without causing serious health problems. However, once parasite populations reach a certain size, clinical signs of ill- ness become evident in the animal in which they live. If worms are causing a problem, there is often some change in the appearance of the cat’s stool, which may include the passage of mucus or blood. There is also a decline in the cat’s general health. You may note decreased appetite, loss of weight, sometimes protrusion of the third eyelid, diarrhea, and anemia. Ascarids (roundworms), tapeworms, and hookworms are the most common intestinal parasites in cats. Healthy adult cats develop a certain degree of immunity to parasites, which helps keep any populations down. This varies with the individual parasite, though. For example, some parasites, such as tapeworms, return time after time. It is probable that cats, like dogs, develop a resistance to certain intestinal parasites whose larvae migrate in the animal’s tissues (such as ascarids and hookworms), although this has not been proven in cats. Tapeworms have no migratory phase and thus cause little buildup of immunity. Resistance to ascarids also appears to be age-related. Kittens and young cats show less resistance and, in consequence, may experience a heavy infes- tation. This can lead to marked debility or even death. Cats over 6 months of age are less likely to show significant clinical signs.\n",
      "Summary Metadata: {'type': 'text', 'doc_id': '058d5864-4ca7-42fb-a2b6-ed10334c5103'}\n",
      "Original Metadata: {'type': 'text', 'doc_id': '058d5864-4ca7-42fb-a2b6-ed10334c5103'}\n"
     ]
    }
   ],
   "source": [
    "print('-'*40, \"Here are the retrieved original_docs with similarity scores\",'-'*40)\n",
    "\n",
    "results = retriever.retrieve(query, k=10)\n",
    "for res in results:\n",
    "    print('-' * 40)\n",
    "    print(f\"🔎 Similarity Score: {res['score']:.4f}\")\n",
    "    print(\"📝 Summary/Chunk:\", res[\"summary\"])\n",
    "    print(\"📄 Full Original Content:\", res[\"original\"])\n",
    "    print(\"Summary Metadata:\", res[\"summary_metadata\"])\n",
    "    print(\"Original Metadata:\", res[\"original_metadata\"])"
   ]
  },
  {
   "cell_type": "markdown",
   "metadata": {},
   "source": [
    "# Let's Generate A Test Query"
   ]
  }
 ],
 "metadata": {
  "kernelspec": {
   "display_name": "Python 3",
   "language": "python",
   "name": "python3"
  },
  "language_info": {
   "codemirror_mode": {
    "name": "ipython",
    "version": 3
   },
   "file_extension": ".py",
   "mimetype": "text/x-python",
   "name": "python",
   "nbconvert_exporter": "python",
   "pygments_lexer": "ipython3",
   "version": "3.12.1"
  }
 },
 "nbformat": 4,
 "nbformat_minor": 2
}
